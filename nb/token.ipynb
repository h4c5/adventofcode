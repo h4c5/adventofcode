{
 "cells": [
  {
   "cell_type": "code",
   "execution_count": 1,
   "metadata": {},
   "outputs": [],
   "source": [
    "import os\n",
    "from pathlib import Path\n",
    "\n",
    "home = os.getenv(\"HOME\", \"\")\n",
    "\n",
    "TOKEN_FILE = Path(home) / \".config/aocd/token\"\n",
    "TOKEN_FILE.parent.mkdir(parents=True, exist_ok=True)"
   ]
  },
  {
   "cell_type": "markdown",
   "metadata": {},
   "source": [
    "Save a new token"
   ]
  },
  {
   "cell_type": "code",
   "execution_count": 2,
   "metadata": {},
   "outputs": [],
   "source": [
    "TOKEN = \"\"\n",
    "\n",
    "with TOKEN_FILE.open(\"w\") as f:\n",
    "    f.write(TOKEN)"
   ]
  }
 ],
 "metadata": {
  "kernelspec": {
   "display_name": "Python 3.8.13 ('.venv': venv)",
   "language": "python",
   "name": "python3"
  },
  "language_info": {
   "codemirror_mode": {
    "name": "ipython",
    "version": 3
   },
   "file_extension": ".py",
   "mimetype": "text/x-python",
   "name": "python",
   "nbconvert_exporter": "python",
   "pygments_lexer": "ipython3",
   "version": "3.11.4"
  },
  "orig_nbformat": 4,
  "vscode": {
   "interpreter": {
    "hash": "286a45cf4a6724ce9ee6ff4c11a7a2d7e38c2bcafb9db046ad7eccbcdfbe501e"
   }
  }
 },
 "nbformat": 4,
 "nbformat_minor": 2
}
