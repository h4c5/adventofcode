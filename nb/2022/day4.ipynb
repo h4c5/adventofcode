{
 "cells": [
  {
   "cell_type": "code",
   "execution_count": 14,
   "metadata": {},
   "outputs": [],
   "source": [
    "from aocd import get_data\n",
    "\n",
    "puzzle_input = get_data(day=4, year=2022)"
   ]
  },
  {
   "cell_type": "code",
   "execution_count": 15,
   "metadata": {},
   "outputs": [],
   "source": [
    "example = \"\"\"2-4,6-8\n",
    "2-3,4-5\n",
    "5-7,7-9\n",
    "2-8,3-7\n",
    "6-6,4-6\n",
    "2-6,4-8\"\"\""
   ]
  },
  {
   "cell_type": "code",
   "execution_count": 16,
   "metadata": {},
   "outputs": [
    {
     "data": {
      "text/plain": [
       "[[(2, 4), (6, 8)],\n",
       " [(2, 3), (4, 5)],\n",
       " [(5, 7), (7, 9)],\n",
       " [(2, 8), (3, 7)],\n",
       " [(6, 6), (4, 6)],\n",
       " [(2, 6), (4, 8)]]"
      ]
     },
     "execution_count": 16,
     "metadata": {},
     "output_type": "execute_result"
    }
   ],
   "source": [
    "def parse_input(text):\n",
    "    pairs = []\n",
    "    for l in text.split(\"\\n\"):\n",
    "        pair = []\n",
    "        for e in l.split(\",\"):\n",
    "            r1, r2 = e.split(\"-\")\n",
    "            pair.append((int(r1), int(r2)))\n",
    "        pairs.append(pair)\n",
    "    return pairs\n",
    "\n",
    "parse_input(example)\n"
   ]
  },
  {
   "cell_type": "code",
   "execution_count": 17,
   "metadata": {},
   "outputs": [
    {
     "data": {
      "text/plain": [
       "2"
      ]
     },
     "execution_count": 17,
     "metadata": {},
     "output_type": "execute_result"
    }
   ],
   "source": [
    "def fully_contained(pairs):\n",
    "    total = 0\n",
    "    for pair in pairs:\n",
    "        e1, e2 = pair\n",
    "        e1a, e1b = e1\n",
    "        e2a, e2b = e2\n",
    "        if (e1a <= e2a and e2b <= e1b) or (e2a <= e1a and e1b <= e2b):\n",
    "            total += 1\n",
    "    return total\n",
    "\n",
    "fully_contained(parse_input(example))"
   ]
  },
  {
   "cell_type": "code",
   "execution_count": 18,
   "metadata": {},
   "outputs": [
    {
     "data": {
      "text/plain": [
       "466"
      ]
     },
     "execution_count": 18,
     "metadata": {},
     "output_type": "execute_result"
    }
   ],
   "source": [
    "fully_contained(parse_input(puzzle_input))"
   ]
  },
  {
   "cell_type": "code",
   "execution_count": 19,
   "metadata": {},
   "outputs": [
    {
     "data": {
      "text/plain": [
       "4"
      ]
     },
     "execution_count": 19,
     "metadata": {},
     "output_type": "execute_result"
    }
   ],
   "source": [
    "def overlaps(pairs):\n",
    "    total = 0\n",
    "    for pair in pairs:\n",
    "        e1, e2 = pair\n",
    "        e1a, e1b = e1\n",
    "        e2a, e2b = e2\n",
    "        if not ((e1b < e2a) or (e1a > e2b)):\n",
    "            total += 1\n",
    "    return total\n",
    "\n",
    "overlaps(parse_input(example))"
   ]
  },
  {
   "cell_type": "code",
   "execution_count": 20,
   "metadata": {},
   "outputs": [
    {
     "data": {
      "text/plain": [
       "865"
      ]
     },
     "execution_count": 20,
     "metadata": {},
     "output_type": "execute_result"
    }
   ],
   "source": [
    "overlaps(parse_input(puzzle_input))"
   ]
  }
 ],
 "metadata": {
  "kernelspec": {
   "display_name": "Python 3.9.13 ('.venv': venv)",
   "language": "python",
   "name": "python3"
  },
  "language_info": {
   "codemirror_mode": {
    "name": "ipython",
    "version": 3
   },
   "file_extension": ".py",
   "mimetype": "text/x-python",
   "name": "python",
   "nbconvert_exporter": "python",
   "pygments_lexer": "ipython3",
   "version": "3.9.13"
  },
  "orig_nbformat": 4,
  "vscode": {
   "interpreter": {
    "hash": "286a45cf4a6724ce9ee6ff4c11a7a2d7e38c2bcafb9db046ad7eccbcdfbe501e"
   }
  }
 },
 "nbformat": 4,
 "nbformat_minor": 2
}
