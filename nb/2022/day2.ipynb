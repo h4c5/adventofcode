{
 "cells": [
  {
   "cell_type": "code",
   "execution_count": 1,
   "metadata": {},
   "outputs": [],
   "source": [
    "from aocd import get_data\n",
    "\n",
    "puzzle_input = get_data(day=2, year=2022)"
   ]
  },
  {
   "cell_type": "code",
   "execution_count": 7,
   "metadata": {},
   "outputs": [],
   "source": [
    "guide = list(map(lambda s : s.split(\" \"), puzzle_input.split(\"\\n\")))"
   ]
  },
  {
   "cell_type": "code",
   "execution_count": 10,
   "metadata": {},
   "outputs": [
    {
     "data": {
      "text/plain": [
       "10718"
      ]
     },
     "execution_count": 10,
     "metadata": {},
     "output_type": "execute_result"
    }
   ],
   "source": [
    "outcomes = {\n",
    "    (\"A\", \"X\"): 1 + 3,\n",
    "    (\"A\", \"Y\"): 2 + 6,\n",
    "    (\"A\", \"Z\"): 3 + 0,\n",
    "    (\"B\", \"X\"): 1 + 0,\n",
    "    (\"B\", \"Y\"): 2 + 3,\n",
    "    (\"B\", \"Z\"): 3 + 6,\n",
    "    (\"C\", \"X\"): 1 + 6,\n",
    "    (\"C\", \"Y\"): 2 + 0,\n",
    "    (\"C\", \"Z\"): 3 + 3,\n",
    "}\n",
    "\n",
    "\n",
    "sum(outcomes[opponent, me] for opponent, me in guide)"
   ]
  },
  {
   "cell_type": "code",
   "execution_count": 11,
   "metadata": {},
   "outputs": [
    {
     "data": {
      "text/plain": [
       "14652"
      ]
     },
     "execution_count": 11,
     "metadata": {},
     "output_type": "execute_result"
    }
   ],
   "source": [
    "possibilities = {\n",
    "    (\"A\", \"X\"): \"Z\",\n",
    "    (\"A\", \"Y\"): \"X\",\n",
    "    (\"A\", \"Z\"): \"Y\",\n",
    "    (\"B\", \"X\"): \"X\",\n",
    "    (\"B\", \"Y\"): \"Y\",\n",
    "    (\"B\", \"Z\"): \"Z\",\n",
    "    (\"C\", \"X\"): \"Y\",\n",
    "    (\"C\", \"Y\"): \"Z\",\n",
    "    (\"C\", \"Z\"): \"X\",\n",
    "}\n",
    "def score2(opponent, me):\n",
    "    return outcomes[opponent, possibilities[opponent, me]]\n",
    "\n",
    "\n",
    "sum(score2(opponent, me) for opponent, me in guide)\n"
   ]
  }
 ],
 "metadata": {
  "kernelspec": {
   "display_name": "Python 3.10.7 ('.venv': venv)",
   "language": "python",
   "name": "python3"
  },
  "language_info": {
   "codemirror_mode": {
    "name": "ipython",
    "version": 3
   },
   "file_extension": ".py",
   "mimetype": "text/x-python",
   "name": "python",
   "nbconvert_exporter": "python",
   "pygments_lexer": "ipython3",
   "version": "3.10.7"
  },
  "orig_nbformat": 4,
  "vscode": {
   "interpreter": {
    "hash": "4f2642356d409a248ba2eb61e484e73059164c254bcfa507bf361b4c5067bddc"
   }
  }
 },
 "nbformat": 4,
 "nbformat_minor": 2
}
