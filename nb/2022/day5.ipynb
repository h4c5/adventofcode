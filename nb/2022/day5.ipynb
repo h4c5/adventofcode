{
 "cells": [
  {
   "cell_type": "code",
   "execution_count": 1,
   "metadata": {},
   "outputs": [],
   "source": [
    "from aocd import get_data\n",
    "\n",
    "puzzle_input = get_data(day=5, year=2022)"
   ]
  },
  {
   "cell_type": "code",
   "execution_count": 24,
   "metadata": {},
   "outputs": [],
   "source": [
    "example = \"\"\"    [D]    \n",
    "[N] [C]    \n",
    "[Z] [M] [P]\n",
    " 1   2   3 \n",
    "\n",
    "move 1 from 2 to 1\n",
    "move 3 from 1 to 3\n",
    "move 2 from 2 to 1\n",
    "move 1 from 1 to 2\"\"\""
   ]
  },
  {
   "cell_type": "code",
   "execution_count": 25,
   "metadata": {},
   "outputs": [
    {
     "data": {
      "text/plain": [
       "([['N', 'Z'], ['D', 'C', 'M'], ['P']],\n",
       " [(1, 2, 1), (3, 1, 3), (2, 2, 1), (1, 1, 2)])"
      ]
     },
     "execution_count": 25,
     "metadata": {},
     "output_type": "execute_result"
    }
   ],
   "source": [
    "import re\n",
    "\n",
    "def parse_input(text):\n",
    "    text_crates, text_moves = text.split(\"\\n\\n\")\n",
    "\n",
    "    list_crates = text_crates.split(\"\\n\")\n",
    "    list_moves = text_moves.split(\"\\n\")\n",
    "\n",
    "    stacks = []\n",
    "    for line in list_crates[:-1]:\n",
    "        for i, s in enumerate(range(1, len(line), 4)):\n",
    "            if len(stacks) <= i:\n",
    "                stacks.append([])\n",
    "\n",
    "            crate = line[s].strip()\n",
    "\n",
    "            if crate:\n",
    "                stacks[i].append(crate)\n",
    "\n",
    "    moves = [\n",
    "        tuple(map(int, re.match(r\"move (\\d+) from (\\d+) to (\\d+)\", move).groups()))\n",
    "        for move in list_moves\n",
    "    ]\n",
    "\n",
    "    return stacks, moves\n",
    "\n",
    "parse_input(example)"
   ]
  },
  {
   "cell_type": "code",
   "execution_count": 35,
   "metadata": {},
   "outputs": [],
   "source": [
    "example_stacks, example_moves = parse_input(example)\n",
    "puzzle_stacks, puzzle_moves = parse_input(puzzle_input)"
   ]
  },
  {
   "cell_type": "code",
   "execution_count": 33,
   "metadata": {},
   "outputs": [
    {
     "data": {
      "text/plain": [
       "[['C'], ['M'], ['Z', 'N', 'D', 'P']]"
      ]
     },
     "execution_count": 33,
     "metadata": {},
     "output_type": "execute_result"
    }
   ],
   "source": [
    "def apply_moves(stacks, moves):\n",
    "    for (n, fr, to) in moves:\n",
    "        picked_up = stacks[fr-1][:n]\n",
    "        stacks[to-1] = picked_up[::-1] + stacks[to-1]\n",
    "        stacks[fr-1] = stacks[fr-1][n:]\n",
    "\n",
    "    return stacks\n",
    "\n",
    "example_stacks, example_moves = parse_input(example)\n",
    "apply_moves(example_stacks, example_moves)"
   ]
  },
  {
   "cell_type": "code",
   "execution_count": 34,
   "metadata": {},
   "outputs": [
    {
     "data": {
      "text/plain": [
       "[['Q', 'S', 'N', 'Z', 'S', 'C', 'V', 'H', 'Z', 'G', 'H', 'W', 'F'],\n",
       " ['P', 'W', 'D'],\n",
       " ['J', 'F', 'M', 'N'],\n",
       " ['P'],\n",
       " ['L', 'W', 'T', 'N', 'W', 'V', 'M', 'M'],\n",
       " ['M', 'N'],\n",
       " ['N', 'R', 'F', 'T', 'L', 'J', 'W', 'L', 'F'],\n",
       " ['N', 'P', 'G'],\n",
       " ['R', 'H', 'R', 'N', 'S', 'B', 'D', 'B', 'F', 'Z', 'C', 'R', 'B']]"
      ]
     },
     "execution_count": 34,
     "metadata": {},
     "output_type": "execute_result"
    }
   ],
   "source": [
    "apply_moves(puzzle_stacks, puzzle_moves)"
   ]
  },
  {
   "cell_type": "code",
   "execution_count": 36,
   "metadata": {},
   "outputs": [
    {
     "name": "stdout",
     "output_type": "stream",
     "text": [
      "QPJPLMNNR\n"
     ]
    }
   ],
   "source": [
    "print(\"\".join(s[0] for s in apply_moves(puzzle_stacks, puzzle_moves)))"
   ]
  },
  {
   "cell_type": "code",
   "execution_count": 38,
   "metadata": {},
   "outputs": [
    {
     "data": {
      "text/plain": [
       "[['M'], ['C'], ['D', 'N', 'Z', 'P']]"
      ]
     },
     "execution_count": 38,
     "metadata": {},
     "output_type": "execute_result"
    }
   ],
   "source": [
    "def apply_moves_9001(stacks, moves):\n",
    "    for (n, fr, to) in moves:\n",
    "        stacks[to-1] = stacks[fr-1][:n] + stacks[to-1]\n",
    "        stacks[fr-1] = stacks[fr-1][n:]\n",
    "\n",
    "    return stacks\n",
    "\n",
    "example_stacks, example_moves = parse_input(example)\n",
    "apply_moves_9001(example_stacks, example_moves)"
   ]
  },
  {
   "cell_type": "code",
   "execution_count": 39,
   "metadata": {},
   "outputs": [
    {
     "name": "stdout",
     "output_type": "stream",
     "text": [
      "BQDNWJPVJ\n"
     ]
    }
   ],
   "source": [
    "puzzle_stacks, puzzle_moves = parse_input(puzzle_input)\n",
    "print(\"\".join(s[0] for s in apply_moves_9001(puzzle_stacks, puzzle_moves)))"
   ]
  }
 ],
 "metadata": {
  "kernelspec": {
   "display_name": "Python 3.9.13 ('.venv': venv)",
   "language": "python",
   "name": "python3"
  },
  "language_info": {
   "codemirror_mode": {
    "name": "ipython",
    "version": 3
   },
   "file_extension": ".py",
   "mimetype": "text/x-python",
   "name": "python",
   "nbconvert_exporter": "python",
   "pygments_lexer": "ipython3",
   "version": "3.9.13"
  },
  "orig_nbformat": 4,
  "vscode": {
   "interpreter": {
    "hash": "286a45cf4a6724ce9ee6ff4c11a7a2d7e38c2bcafb9db046ad7eccbcdfbe501e"
   }
  }
 },
 "nbformat": 4,
 "nbformat_minor": 2
}
