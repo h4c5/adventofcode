{
 "cells": [
  {
   "cell_type": "code",
   "execution_count": 3,
   "metadata": {},
   "outputs": [],
   "source": [
    "from aocd import get_data\n",
    "\n",
    "puzzle_input = get_data(day=3, year=2022)"
   ]
  },
  {
   "cell_type": "code",
   "execution_count": 14,
   "metadata": {},
   "outputs": [],
   "source": [
    "example = \"\"\"vJrwpWtwJgWrhcsFMMfFFhFp\n",
    "jqHRNqRjqzjGDLGLrsFMfFZSrLrFZsSL\n",
    "PmmdzqPrVvPwwTWBwg\n",
    "wMqvLMZHhHMvwLHjbvcjnnSBnvTQFn\n",
    "ttgJtRGJQctTZtZT\n",
    "CrZsJsPPZsGzwwsLwLmpwMDw\"\"\""
   ]
  },
  {
   "cell_type": "code",
   "execution_count": 5,
   "metadata": {},
   "outputs": [
    {
     "data": {
      "text/plain": [
       "[('tdltdtmhl', 'RNCBcwmHr'),\n",
       " ('WDzDPnvvGnsWLWpGJJ', 'HRzCCRZNBRrRwMNwHH'),\n",
       " ('DsDsQnJDnWsJnJvrQDPJ', 'ddgShFQhjljqhggbdbbt')]"
      ]
     },
     "execution_count": 5,
     "metadata": {},
     "output_type": "execute_result"
    }
   ],
   "source": [
    "ruckstacks = [\n",
    "    (ruckstack[:len(ruckstack)//2], ruckstack[len(ruckstack)//2:])\n",
    "    for ruckstack in puzzle_input.split(\"\\n\")\n",
    "]\n",
    "\n",
    "ruckstacks[:3]"
   ]
  },
  {
   "cell_type": "code",
   "execution_count": 17,
   "metadata": {},
   "outputs": [
    {
     "data": {
      "text/plain": [
       "[('vJrwpWtwJgWr', 'hcsFMMfFFhFp'),\n",
       " ('jqHRNqRjqzjGDLGL', 'rsFMfFZSrLrFZsSL'),\n",
       " ('PmmdzqPrV', 'vPwwTWBwg')]"
      ]
     },
     "execution_count": 17,
     "metadata": {},
     "output_type": "execute_result"
    }
   ],
   "source": [
    "ruckstacks_example = [\n",
    "    (ruckstack[:len(ruckstack)//2], ruckstack[len(ruckstack)//2:])\n",
    "    for ruckstack in example.split(\"\\n\")\n",
    "]\n",
    "\n",
    "ruckstacks_example[:3]"
   ]
  },
  {
   "cell_type": "code",
   "execution_count": 26,
   "metadata": {},
   "outputs": [
    {
     "data": {
      "text/plain": [
       "16"
      ]
     },
     "execution_count": 26,
     "metadata": {},
     "output_type": "execute_result"
    }
   ],
   "source": [
    "def priority(s:str):\n",
    "    return ord(s) - (ord(\"a\") - 1 if s.islower() else ord(\"A\") - 27)\n",
    "\n",
    "def count_priorities(c1, c2):\n",
    "    assert len(c1) == len(c2)\n",
    "    s1 = set(c1)\n",
    "    s2 = set(c2)\n",
    "    common = s1.intersection(s2)\n",
    "    return sum(map(priority, common))\n",
    "\n",
    "count_priorities(\"vJrwpWtwJgWr\", \"hcsFMMfFFhFp\")"
   ]
  },
  {
   "cell_type": "code",
   "execution_count": 27,
   "metadata": {},
   "outputs": [
    {
     "data": {
      "text/plain": [
       "7872"
      ]
     },
     "execution_count": 27,
     "metadata": {},
     "output_type": "execute_result"
    }
   ],
   "source": [
    "sum(count_priorities(c1, c2) for c1, c2 in ruckstacks)"
   ]
  },
  {
   "cell_type": "markdown",
   "metadata": {},
   "source": [
    "Part 2"
   ]
  },
  {
   "cell_type": "code",
   "execution_count": 29,
   "metadata": {},
   "outputs": [
    {
     "data": {
      "text/plain": [
       "70"
      ]
     },
     "execution_count": 29,
     "metadata": {},
     "output_type": "execute_result"
    }
   ],
   "source": [
    "def count_badge_priorities(ruckstacks):\n",
    "    total = 0\n",
    "\n",
    "    for i in range(0, len(ruckstacks), 3):\n",
    "        common = set(ruckstacks[i])\n",
    "        common = common.intersection(ruckstacks[i + 1])\n",
    "        common, = common.intersection(ruckstacks[i + 2])\n",
    "        total += priority(common)\n",
    "        \n",
    "    return total\n",
    "\n",
    "count_badge_priorities(example.split(\"\\n\"))"
   ]
  },
  {
   "cell_type": "code",
   "execution_count": 30,
   "metadata": {},
   "outputs": [
    {
     "data": {
      "text/plain": [
       "2497"
      ]
     },
     "execution_count": 30,
     "metadata": {},
     "output_type": "execute_result"
    }
   ],
   "source": [
    "count_badge_priorities(puzzle_input.split(\"\\n\"))"
   ]
  }
 ],
 "metadata": {
  "kernelspec": {
   "display_name": "Python 3.10.7 ('.venv': venv)",
   "language": "python",
   "name": "python3"
  },
  "language_info": {
   "codemirror_mode": {
    "name": "ipython",
    "version": 3
   },
   "file_extension": ".py",
   "mimetype": "text/x-python",
   "name": "python",
   "nbconvert_exporter": "python",
   "pygments_lexer": "ipython3",
   "version": "3.10.7"
  },
  "orig_nbformat": 4,
  "vscode": {
   "interpreter": {
    "hash": "4f2642356d409a248ba2eb61e484e73059164c254bcfa507bf361b4c5067bddc"
   }
  }
 },
 "nbformat": 4,
 "nbformat_minor": 2
}
