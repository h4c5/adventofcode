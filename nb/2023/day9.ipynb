{
 "cells": [
  {
   "cell_type": "code",
   "execution_count": 1,
   "metadata": {},
   "outputs": [],
   "source": [
    "from aocd import get_data\n",
    "\n",
    "puzzle_input = get_data(day=9, year=2023)"
   ]
  },
  {
   "cell_type": "code",
   "execution_count": 2,
   "metadata": {},
   "outputs": [],
   "source": [
    "it1 = \"\"\"\n",
    "0 3 6 9 12 15\n",
    "1 3 6 10 15 21\n",
    "10 13 16 21 30 45\n",
    "\"\"\".strip()"
   ]
  },
  {
   "cell_type": "markdown",
   "metadata": {},
   "source": [
    "Partie 1"
   ]
  },
  {
   "cell_type": "code",
   "execution_count": 3,
   "metadata": {},
   "outputs": [
    {
     "data": {
      "text/plain": [
       "[[0, 3, 6, 9, 12, 15], [1, 3, 6, 10, 15, 21], [10, 13, 16, 21, 30, 45]]"
      ]
     },
     "execution_count": 3,
     "metadata": {},
     "output_type": "execute_result"
    }
   ],
   "source": [
    "def parse_input(input: str):\n",
    "    return [[int(d) for d in row.split(\" \")] for row in input.split(\"\\n\")]\n",
    "\n",
    "it1_seqs = parse_input(it1)\n",
    "it1_seqs"
   ]
  },
  {
   "cell_type": "code",
   "execution_count": 4,
   "metadata": {},
   "outputs": [
    {
     "data": {
      "text/plain": [
       "[[10, 13, 16, 21, 30, 45], [3, 3, 5, 9, 15], [0, 2, 4, 6], [2, 2, 2], [0, 0]]"
      ]
     },
     "execution_count": 4,
     "metadata": {},
     "output_type": "execute_result"
    }
   ],
   "source": [
    "def construct_diffs(seq: list[int]):\n",
    "    diffs = [seq.copy()]\n",
    "    current_diff = seq\n",
    "    while current_diff and any(v != 0 for v in current_diff):\n",
    "        current_diff = [b-a for a, b in zip(current_diff, current_diff[1:])]\n",
    "        diffs.append(current_diff)\n",
    "    \n",
    "    return diffs\n",
    "\n",
    "construct_diffs(it1_seqs[2])"
   ]
  },
  {
   "cell_type": "code",
   "execution_count": 5,
   "metadata": {},
   "outputs": [
    {
     "data": {
      "text/plain": [
       "[[10, 13, 16, 21, 30, 45, 68],\n",
       " [3, 3, 5, 9, 15, 23],\n",
       " [0, 2, 4, 6, 8],\n",
       " [2, 2, 2, 2],\n",
       " [0, 0, 0]]"
      ]
     },
     "execution_count": 5,
     "metadata": {},
     "output_type": "execute_result"
    }
   ],
   "source": [
    "def extrapolate_diffs(diffs: list[list[int]]):\n",
    "    diffs[-1].append(0)\n",
    "    n_diff = len(diffs)\n",
    "    for k in range(n_diff-1, 0, -1):\n",
    "        diff = diffs[k]\n",
    "        diff_prev = diffs[k-1]\n",
    "        diff_prev.append(diff_prev[-1] + diff[-1])\n",
    "    \n",
    "    return diffs\n",
    "\n",
    "extrapolate_diffs(construct_diffs(it1_seqs[2]))"
   ]
  },
  {
   "cell_type": "code",
   "execution_count": 6,
   "metadata": {},
   "outputs": [
    {
     "data": {
      "text/plain": [
       "114"
      ]
     },
     "execution_count": 6,
     "metadata": {},
     "output_type": "execute_result"
    }
   ],
   "source": [
    "def extrapolate_seq(seq: list[int]) -> int:\n",
    "    return extrapolate_diffs(construct_diffs(seq))[0][-1]\n",
    "\n",
    "sum(map(extrapolate_seq, it1_seqs))"
   ]
  },
  {
   "cell_type": "code",
   "execution_count": 7,
   "metadata": {},
   "outputs": [
    {
     "data": {
      "text/plain": [
       "1819125966"
      ]
     },
     "execution_count": 7,
     "metadata": {},
     "output_type": "execute_result"
    }
   ],
   "source": [
    "puzzle_seqs = parse_input(puzzle_input)\n",
    "sum(map(extrapolate_seq, puzzle_seqs))"
   ]
  },
  {
   "cell_type": "markdown",
   "metadata": {},
   "source": [
    "Partie 2"
   ]
  },
  {
   "cell_type": "code",
   "execution_count": 8,
   "metadata": {},
   "outputs": [
    {
     "data": {
      "text/plain": [
       "[[45, 30, 21, 16, 13, 10], [15, 9, 5, 3, 3], [6, 4, 2, 0], [2, 2, 2], [0, 0]]"
      ]
     },
     "execution_count": 8,
     "metadata": {},
     "output_type": "execute_result"
    }
   ],
   "source": [
    "def construct_backwards_diffs(seq: list[int]):\n",
    "    diffs = [seq[::-1]]\n",
    "    current_diff = seq\n",
    "    while current_diff and any(v != 0 for v in current_diff):\n",
    "        current_diff = [b-a for a, b in zip(current_diff, current_diff[1:])]\n",
    "        diffs.append(current_diff[::-1])\n",
    "\n",
    "    return diffs\n",
    "\n",
    "construct_backwards_diffs(it1_seqs[2])"
   ]
  },
  {
   "cell_type": "code",
   "execution_count": 9,
   "metadata": {},
   "outputs": [
    {
     "data": {
      "text/plain": [
       "[[21, 15, 10, 6, 3, 1, 0], [6, 5, 4, 3, 2, 1], [1, 1, 1, 1, 1], [0, 0, 0, 0]]"
      ]
     },
     "execution_count": 9,
     "metadata": {},
     "output_type": "execute_result"
    }
   ],
   "source": [
    "def extrapolate_backwards_diffs(diffs: list[list[int]]):\n",
    "    diffs[-1].append(0)\n",
    "    n_diff = len(diffs)\n",
    "    for k in range(n_diff-1, 0, -1):\n",
    "        diff = diffs[k]\n",
    "        diff_prev = diffs[k-1]\n",
    "        diff_prev.append(diff_prev[-1] - diff[-1])\n",
    "    \n",
    "    return diffs\n",
    "\n",
    "extrapolate_backwards_diffs(construct_backwards_diffs(it1_seqs[1]))"
   ]
  },
  {
   "cell_type": "code",
   "execution_count": 10,
   "metadata": {},
   "outputs": [
    {
     "data": {
      "text/plain": [
       "2"
      ]
     },
     "execution_count": 10,
     "metadata": {},
     "output_type": "execute_result"
    }
   ],
   "source": [
    "def extrapolate_backwards_seq(seq: list[int]) -> int:\n",
    "    return extrapolate_backwards_diffs(construct_backwards_diffs(seq))[0][-1]\n",
    "\n",
    "sum(map(extrapolate_backwards_seq, it1_seqs))"
   ]
  },
  {
   "cell_type": "code",
   "execution_count": 11,
   "metadata": {},
   "outputs": [
    {
     "data": {
      "text/plain": [
       "1140"
      ]
     },
     "execution_count": 11,
     "metadata": {},
     "output_type": "execute_result"
    }
   ],
   "source": [
    "sum(map(extrapolate_backwards_seq, puzzle_seqs))"
   ]
  }
 ],
 "metadata": {
  "kernelspec": {
   "display_name": ".venv",
   "language": "python",
   "name": "python3"
  },
  "language_info": {
   "codemirror_mode": {
    "name": "ipython",
    "version": 3
   },
   "file_extension": ".py",
   "mimetype": "text/x-python",
   "name": "python",
   "nbconvert_exporter": "python",
   "pygments_lexer": "ipython3",
   "version": "3.11.4"
  },
  "orig_nbformat": 4
 },
 "nbformat": 4,
 "nbformat_minor": 2
}
