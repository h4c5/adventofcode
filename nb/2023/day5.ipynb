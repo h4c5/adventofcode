{
 "cells": [
  {
   "cell_type": "code",
   "execution_count": 1,
   "metadata": {},
   "outputs": [],
   "source": [
    "from aocd import get_data\n",
    "\n",
    "puzzle_input = get_data(day=5, year=2023)"
   ]
  },
  {
   "cell_type": "code",
   "execution_count": 2,
   "metadata": {},
   "outputs": [],
   "source": [
    "it = \"\"\"\n",
    "seeds: 79 14 55 13\n",
    "\n",
    "seed-to-soil map:\n",
    "50 98 2\n",
    "52 50 48\n",
    "\n",
    "soil-to-fertilizer map:\n",
    "0 15 37\n",
    "37 52 2\n",
    "39 0 15\n",
    "\n",
    "fertilizer-to-water map:\n",
    "49 53 8\n",
    "0 11 42\n",
    "42 0 7\n",
    "57 7 4\n",
    "\n",
    "water-to-light map:\n",
    "88 18 7\n",
    "18 25 70\n",
    "\n",
    "light-to-temperature map:\n",
    "45 77 23\n",
    "81 45 19\n",
    "68 64 13\n",
    "\n",
    "temperature-to-humidity map:\n",
    "0 69 1\n",
    "1 0 69\n",
    "\n",
    "humidity-to-location map:\n",
    "60 56 37\n",
    "56 93 4\n",
    "\"\"\".strip()"
   ]
  },
  {
   "cell_type": "markdown",
   "metadata": {},
   "source": [
    "Partie 1"
   ]
  },
  {
   "cell_type": "markdown",
   "metadata": {},
   "source": [
    "Partie 2"
   ]
  },
  {
   "cell_type": "code",
   "execution_count": 3,
   "metadata": {},
   "outputs": [
    {
     "data": {
      "text/plain": [
       "{'seeds': [Segment(start=55, end=68, mapping=None),\n",
       "  Segment(start=79, end=93, mapping=None)],\n",
       " 'maps': [[Segment(start=50, end=98, mapping=52),\n",
       "   Segment(start=98, end=100, mapping=50)],\n",
       "  [Segment(start=0, end=15, mapping=39),\n",
       "   Segment(start=15, end=52, mapping=0),\n",
       "   Segment(start=52, end=54, mapping=37)],\n",
       "  [Segment(start=0, end=7, mapping=42),\n",
       "   Segment(start=7, end=11, mapping=57),\n",
       "   Segment(start=11, end=53, mapping=0),\n",
       "   Segment(start=53, end=61, mapping=49)],\n",
       "  [Segment(start=18, end=25, mapping=88),\n",
       "   Segment(start=25, end=95, mapping=18)],\n",
       "  [Segment(start=45, end=64, mapping=81),\n",
       "   Segment(start=64, end=77, mapping=68),\n",
       "   Segment(start=77, end=100, mapping=45)],\n",
       "  [Segment(start=0, end=69, mapping=1), Segment(start=69, end=70, mapping=0)],\n",
       "  [Segment(start=56, end=93, mapping=60),\n",
       "   Segment(start=93, end=97, mapping=56)]]}"
      ]
     },
     "execution_count": 3,
     "metadata": {},
     "output_type": "execute_result"
    }
   ],
   "source": [
    "import re\n",
    "from typing import Optional\n",
    "from dataclasses import dataclass\n",
    "\n",
    "@dataclass\n",
    "class Segment:\n",
    "    start: int\n",
    "    end: int\n",
    "\n",
    "    mapping: Optional[int] = None\n",
    "\n",
    "    @property\n",
    "    def length(self) -> int:\n",
    "        return self.end - self.start\n",
    "\n",
    "    def __lt__(self, seg: \"Segment\") -> bool:\n",
    "        return (self.start, self.end) < (seg.start, seg.end)\n",
    "\n",
    "\n",
    "def parse_input(input: str):\n",
    "    elements = input.split(\"\\n\\n\")\n",
    "\n",
    "    seeds = [int(n) for n in re.findall(r\"\\d+\", elements[0].split(\":\")[1])]\n",
    "    seeds_segments = sorted([\n",
    "        Segment(seed_start, seed_start + length)\n",
    "        for seed_start, length in zip(seeds[::2], seeds[1::2])\n",
    "    ])\n",
    "\n",
    "    maps = []\n",
    "    for element in elements[1:]:\n",
    "\n",
    "        mapping_segments = []\n",
    "        for row in element.split(\"\\n\")[1:]:\n",
    "            dest_start, source_start, length = map(int, re.findall(r\"\\d+\", row))\n",
    "\n",
    "            segment = Segment(start=source_start, end=source_start+length, mapping=dest_start)\n",
    "            mapping_segments.append(segment)\n",
    "\n",
    "        maps.append(sorted(mapping_segments))\n",
    "\n",
    "    return {\n",
    "        \"seeds\": seeds_segments,\n",
    "        \"maps\": maps\n",
    "    }\n",
    "\n",
    "pit = parse_input(it)\n",
    "pit"
   ]
  },
  {
   "cell_type": "code",
   "execution_count": 4,
   "metadata": {},
   "outputs": [
    {
     "data": {
      "text/plain": [
       "[Segment(start=81, end=95, mapping=None),\n",
       " Segment(start=57, end=70, mapping=None)]"
      ]
     },
     "execution_count": 4,
     "metadata": {},
     "output_type": "execute_result"
    }
   ],
   "source": [
    "def sources_to_dest_segments(sources_segs: list[Segment], cut_segs: list[Segment]):\n",
    "    seeds = [*sources_segs]\n",
    "    new_seeds = []\n",
    "\n",
    "    while seeds:\n",
    "        source_seg = seeds.pop()\n",
    "        intersection = False\n",
    "\n",
    "        for cut_seg in cut_segs:\n",
    "            intersect_start = max(source_seg.start, cut_seg.start)\n",
    "            intersect_end = min(source_seg.end, cut_seg.end)\n",
    "\n",
    "            # intersection\n",
    "            if intersect_start < intersect_end:\n",
    "                intersection = True\n",
    "\n",
    "                intersect_length = intersect_end - intersect_start\n",
    "\n",
    "                diff_start = intersect_start - cut_seg.start\n",
    "\n",
    "                new_seeds.append(\n",
    "                    Segment(\n",
    "                        start=cut_seg.mapping + diff_start,\n",
    "                        end=cut_seg.mapping + intersect_length + diff_start,\n",
    "                    )\n",
    "                )\n",
    "\n",
    "                if source_seg.start < intersect_start:\n",
    "                    seeds.append(Segment(start=source_seg.start, end=intersect_start))\n",
    "                if intersect_end < source_seg.end:\n",
    "                    seeds.append(Segment(start=intersect_end, end=source_seg.end))\n",
    "\n",
    "                break\n",
    "\n",
    "        if not intersection:\n",
    "            new_seeds.append(source_seg)\n",
    "\n",
    "    return new_seeds\n",
    "\n",
    "\n",
    "sources_to_dest_segments(\n",
    "    [Segment(start=55, end=68, mapping=None), Segment(start=79, end=93, mapping=None)],\n",
    "    [Segment(start=50, end=98, mapping=52), Segment(start=98, end=100, mapping=50)],\n",
    ")"
   ]
  },
  {
   "cell_type": "code",
   "execution_count": 5,
   "metadata": {},
   "outputs": [
    {
     "data": {
      "text/plain": [
       "46"
      ]
     },
     "execution_count": 5,
     "metadata": {},
     "output_type": "execute_result"
    }
   ],
   "source": [
    "def transform_seeds(seeds: list[Segment], maps: list[list[Segment]]):\n",
    "    for cut_segs in maps:\n",
    "        seeds = sources_to_dest_segments(seeds, cut_segs)\n",
    "\n",
    "    return seeds\n",
    "\n",
    "min(s.start for s in transform_seeds(pit[\"seeds\"], pit[\"maps\"]))"
   ]
  },
  {
   "cell_type": "code",
   "execution_count": 6,
   "metadata": {},
   "outputs": [
    {
     "data": {
      "text/plain": [
       "9622622"
      ]
     },
     "execution_count": 6,
     "metadata": {},
     "output_type": "execute_result"
    }
   ],
   "source": [
    "parsed_input = parse_input(puzzle_input)\n",
    "min(s.start for s in transform_seeds(parsed_input[\"seeds\"], parsed_input[\"maps\"]))"
   ]
  }
 ],
 "metadata": {
  "kernelspec": {
   "display_name": ".venv",
   "language": "python",
   "name": "python3"
  },
  "language_info": {
   "codemirror_mode": {
    "name": "ipython",
    "version": 3
   },
   "file_extension": ".py",
   "mimetype": "text/x-python",
   "name": "python",
   "nbconvert_exporter": "python",
   "pygments_lexer": "ipython3",
   "version": "3.11.4"
  },
  "orig_nbformat": 4
 },
 "nbformat": 4,
 "nbformat_minor": 2
}
