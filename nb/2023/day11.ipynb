{
 "cells": [
  {
   "cell_type": "code",
   "execution_count": 15,
   "metadata": {},
   "outputs": [],
   "source": [
    "from aocd import get_data\n",
    "\n",
    "puzzle_input = get_data(day=12, year=2023)"
   ]
  },
  {
   "cell_type": "code",
   "execution_count": 1,
   "metadata": {},
   "outputs": [],
   "source": [
    "it1 = \"\"\"\n",
    "???.### 1,1,3\n",
    ".??..??...?##. 1,1,3\n",
    "?#?#?#?#?#?#?#? 1,3,1,6\n",
    "????.#...#... 4,1,1\n",
    "????.######..#####. 1,6,5\n",
    "?###???????? 3,2,1\n",
    "\"\"\".strip()"
   ]
  },
  {
   "cell_type": "markdown",
   "metadata": {},
   "source": [
    "Partie 1"
   ]
  },
  {
   "cell_type": "code",
   "execution_count": 8,
   "metadata": {},
   "outputs": [
    {
     "data": {
      "text/plain": [
       "[('???.###', (1, 1, 3)),\n",
       " ('.??..??...?##.', (1, 1, 3)),\n",
       " ('?#?#?#?#?#?#?#?', (1, 3, 1, 6)),\n",
       " ('????.#...#...', (4, 1, 1)),\n",
       " ('????.######..#####.', (1, 6, 5)),\n",
       " ('?###????????', (3, 2, 1))]"
      ]
     },
     "execution_count": 8,
     "metadata": {},
     "output_type": "execute_result"
    }
   ],
   "source": [
    "def parse_input(input: str):\n",
    "    records = []\n",
    "    for row in input.split(\"\\n\"):\n",
    "        record, group_counts = row.split(\" \")\n",
    "        records.append((record, tuple(int(i) for i in group_counts.split(\",\"))))\n",
    "    return records\n",
    "\n",
    "parse_input(it1)"
   ]
  },
  {
   "cell_type": "code",
   "execution_count": 10,
   "metadata": {},
   "outputs": [
    {
     "data": {
      "text/plain": [
       "21"
      ]
     },
     "execution_count": 10,
     "metadata": {},
     "output_type": "execute_result"
    }
   ],
   "source": [
    "def naive_count_matchs(record: str, group_counts: tuple[int]) -> int:\n",
    "    nb_matchs = 0\n",
    "\n",
    "    completes = []\n",
    "    no_completes = [record]\n",
    "    while no_completes:\n",
    "        current:str = no_completes.pop()\n",
    "        try:\n",
    "            ind = current.index(\"?\")\n",
    "            no_completes.append(f\"{current[:ind]}.{current[ind+1:]}\")\n",
    "            no_completes.append(f\"{current[:ind]}#{current[ind+1:]}\")\n",
    "        except ValueError:\n",
    "            completes.append(current)\n",
    "\n",
    "    for comp in completes:\n",
    "        groups_lengths = tuple(len(g) for g in comp.split(\".\") if g)\n",
    "        nb_matchs += groups_lengths == group_counts\n",
    "\n",
    "    return nb_matchs\n",
    "\n",
    "\n",
    "def naive_count_arrangements(records):\n",
    "    return sum([naive_count_matchs(record, group_counts) for record, group_counts in records])\n",
    "\n",
    "naive_count_arrangements(parse_input(it1))"
   ]
  },
  {
   "cell_type": "code",
   "execution_count": 16,
   "metadata": {},
   "outputs": [
    {
     "data": {
      "text/plain": [
       "7718"
      ]
     },
     "execution_count": 16,
     "metadata": {},
     "output_type": "execute_result"
    }
   ],
   "source": [
    "naive_count_arrangements(parse_input(puzzle_input))"
   ]
  },
  {
   "cell_type": "markdown",
   "metadata": {},
   "source": [
    "Partie 2"
   ]
  }
 ],
 "metadata": {
  "kernelspec": {
   "display_name": ".venv",
   "language": "python",
   "name": "python3"
  },
  "language_info": {
   "codemirror_mode": {
    "name": "ipython",
    "version": 3
   },
   "file_extension": ".py",
   "mimetype": "text/x-python",
   "name": "python",
   "nbconvert_exporter": "python",
   "pygments_lexer": "ipython3",
   "version": "3.11.4"
  },
  "orig_nbformat": 4
 },
 "nbformat": 4,
 "nbformat_minor": 2
}
