{
    "cells": [
        {
            "cell_type": "code",
            "execution_count": 2,
            "metadata": {},
            "outputs": [],
            "source": [
                "from aocd import get_data\n",
                "\n",
                "puzzle_input = get_data(day=11, year=2023)"
            ]
        },
        {
            "cell_type": "code",
            "execution_count": 3,
            "metadata": {},
            "outputs": [],
            "source": [
                "it = \"\"\"\n",
                "...#......\n",
                ".......#..\n",
                "#.........\n",
                "..........\n",
                "......#...\n",
                ".#........\n",
                ".........#\n",
                "..........\n",
                ".......#..\n",
                "#...#.....\n",
                "\"\"\".strip()"
            ]
        },
        {
            "cell_type": "markdown",
            "metadata": {},
            "source": [
                "Partie 1"
            ]
        },
        {
            "cell_type": "code",
            "execution_count": 4,
            "metadata": {},
            "outputs": [
                {
                    "data": {
                        "text/plain": [
                            "[['.', '.', '.', '#', '.', '.', '.', '.', '.', '.'],\n",
                            " ['.', '.', '.', '.', '.', '.', '.', '#', '.', '.'],\n",
                            " ['#', '.', '.', '.', '.', '.', '.', '.', '.', '.'],\n",
                            " ['.', '.', '.', '.', '.', '.', '.', '.', '.', '.'],\n",
                            " ['.', '.', '.', '.', '.', '.', '#', '.', '.', '.'],\n",
                            " ['.', '#', '.', '.', '.', '.', '.', '.', '.', '.'],\n",
                            " ['.', '.', '.', '.', '.', '.', '.', '.', '.', '#'],\n",
                            " ['.', '.', '.', '.', '.', '.', '.', '.', '.', '.'],\n",
                            " ['.', '.', '.', '.', '.', '.', '.', '#', '.', '.'],\n",
                            " ['#', '.', '.', '.', '#', '.', '.', '.', '.', '.']]"
                        ]
                    },
                    "execution_count": 4,
                    "metadata": {},
                    "output_type": "execute_result"
                }
            ],
            "source": [
                "def parse_input(input: str) -> list[list[str]]:\n",
                "    return [[c for c in row] for row in input.split(\"\\n\")]\n",
                "\n",
                "\n",
                "parse_input(it)"
            ]
        },
        {
            "cell_type": "code",
            "execution_count": 5,
            "metadata": {},
            "outputs": [
                {
                    "data": {
                        "text/plain": [
                            "([(0, 3), (1, 7), (2, 0), (4, 6), (5, 1), (6, 9), (8, 7), (9, 0), (9, 4)],\n",
                            " {3, 7},\n",
                            " {2, 5, 8})"
                        ]
                    },
                    "execution_count": 5,
                    "metadata": {},
                    "output_type": "execute_result"
                }
            ],
            "source": [
                "def find_galaxies_and_voids(universe: list[list[str]]):\n",
                "    galaxies = []\n",
                "    \n",
                "    non_empty_rows = set()\n",
                "    non_empty_cols = set()\n",
                "\n",
                "    for i, row in enumerate(universe):\n",
                "        for j, e in enumerate(row):\n",
                "            if e == \"#\":\n",
                "                galaxies.append((i,j))\n",
                "                non_empty_rows.add(i)\n",
                "                non_empty_cols.add(j)\n",
                "\n",
                "    empty_rows = {i for i in range(len(universe)) if i not in non_empty_rows}\n",
                "    empty_cols = {j for j in range(len(universe[0])) if j not in non_empty_cols}\n",
                "\n",
                "    return galaxies, empty_rows, empty_cols\n",
                "\n",
                "find_galaxies_and_voids(parse_input(it))"
            ]
        },
        {
            "cell_type": "code",
            "execution_count": 7,
            "metadata": {},
            "outputs": [
                {
                    "data": {
                        "text/plain": [
                            "374"
                        ]
                    },
                    "execution_count": 7,
                    "metadata": {},
                    "output_type": "execute_result"
                }
            ],
            "source": [
                "from itertools import combinations\n",
                "\n",
                "\n",
                "def compute_sum_path_length(galaxies, empty_rows, empty_cols, dilatation: int = 2):\n",
                "    total = 0\n",
                "    for (g1_i, g1_j), (g2_i, g2_j) in combinations(galaxies, 2):\n",
                "        start_i = min(g1_i, g2_i)\n",
                "        end_i = max(g1_i, g2_i)\n",
                "\n",
                "        start_j = min(g1_j, g2_j)\n",
                "        end_j = max(g1_j, g2_j)\n",
                "\n",
                "        total += (\n",
                "            (end_i - start_i)\n",
                "            + (end_j - start_j)\n",
                "            + sum(1 for i in range(start_i, end_i) if i in empty_rows)\n",
                "            * (dilatation - 1)\n",
                "            + sum(1 for j in range(start_j, end_j) if j in empty_cols)\n",
                "            * (dilatation - 1)\n",
                "        )\n",
                "    return total\n",
                "\n",
                "\n",
                "compute_sum_path_length(*find_galaxies_and_voids(parse_input(it)))"
            ]
        },
        {
            "cell_type": "code",
            "execution_count": 8,
            "metadata": {},
            "outputs": [
                {
                    "data": {
                        "text/plain": [
                            "10231178"
                        ]
                    },
                    "execution_count": 8,
                    "metadata": {},
                    "output_type": "execute_result"
                }
            ],
            "source": [
                "compute_sum_path_length(*find_galaxies_and_voids(parse_input(puzzle_input)))"
            ]
        },
        {
            "cell_type": "code",
            "execution_count": 9,
            "metadata": {},
            "outputs": [
                {
                    "data": {
                        "text/plain": [
                            "622120986954"
                        ]
                    },
                    "execution_count": 9,
                    "metadata": {},
                    "output_type": "execute_result"
                }
            ],
            "source": [
                "compute_sum_path_length(*find_galaxies_and_voids(parse_input(puzzle_input)), dilatation=1000000)"
            ]
        }
    ],
    "metadata": {
        "kernelspec": {
            "display_name": ".venv",
            "language": "python",
            "name": "python3"
        },
        "language_info": {
            "codemirror_mode": {
                "name": "ipython",
                "version": 3
            },
            "file_extension": ".py",
            "mimetype": "text/x-python",
            "name": "python",
            "nbconvert_exporter": "python",
            "pygments_lexer": "ipython3",
            "version": "3.9.13"
        },
        "orig_nbformat": 4
    },
    "nbformat": 4,
    "nbformat_minor": 2
}