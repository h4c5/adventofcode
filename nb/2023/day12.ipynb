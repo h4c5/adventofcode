{
 "cells": [
  {
   "cell_type": "code",
   "execution_count": 2,
   "metadata": {},
   "outputs": [],
   "source": [
    "from aocd import get_data\n",
    "\n",
    "puzzle_input = get_data(day=12, year=2023)"
   ]
  },
  {
   "cell_type": "code",
   "execution_count": 3,
   "metadata": {},
   "outputs": [],
   "source": [
    "it1 = \"\"\"\n",
    "???.### 1,1,3\n",
    ".??..??...?##. 1,1,3\n",
    "?#?#?#?#?#?#?#? 1,3,1,6\n",
    "????.#...#... 4,1,1\n",
    "????.######..#####. 1,6,5\n",
    "?###???????? 3,2,1\n",
    "\"\"\".strip()"
   ]
  },
  {
   "cell_type": "markdown",
   "metadata": {},
   "source": [
    "Partie 1"
   ]
  },
  {
   "cell_type": "code",
   "execution_count": 4,
   "metadata": {},
   "outputs": [
    {
     "data": {
      "text/plain": [
       "[('???.###', (1, 1, 3)),\n",
       " ('.??..??...?##.', (1, 1, 3)),\n",
       " ('?#?#?#?#?#?#?#?', (1, 3, 1, 6)),\n",
       " ('????.#...#...', (4, 1, 1)),\n",
       " ('????.######..#####.', (1, 6, 5)),\n",
       " ('?###????????', (3, 2, 1))]"
      ]
     },
     "execution_count": 4,
     "metadata": {},
     "output_type": "execute_result"
    }
   ],
   "source": [
    "def parse_input(input: str):\n",
    "    records = []\n",
    "    for row in input.split(\"\\n\"):\n",
    "        record, group_counts = row.split(\" \")\n",
    "        records.append((record, tuple(int(i) for i in group_counts.split(\",\"))))\n",
    "    return records\n",
    "\n",
    "parse_input(it1)"
   ]
  },
  {
   "cell_type": "code",
   "execution_count": 4,
   "metadata": {},
   "outputs": [
    {
     "data": {
      "text/plain": [
       "21"
      ]
     },
     "execution_count": 4,
     "metadata": {},
     "output_type": "execute_result"
    }
   ],
   "source": [
    "def naive_count_matchs(record: str, group_counts: tuple[int]) -> int:\n",
    "    nb_matchs = 0\n",
    "\n",
    "    completes = []\n",
    "    no_completes = [record]\n",
    "    while no_completes:\n",
    "        current:str = no_completes.pop()\n",
    "        try:\n",
    "            ind = current.index(\"?\")\n",
    "            no_completes.append(f\"{current[:ind]}.{current[ind+1:]}\")\n",
    "            no_completes.append(f\"{current[:ind]}#{current[ind+1:]}\")\n",
    "        except ValueError:\n",
    "            completes.append(current)\n",
    "\n",
    "    for comp in completes:\n",
    "        groups_lengths = tuple(len(g) for g in comp.split(\".\") if g)\n",
    "        nb_matchs += groups_lengths == group_counts\n",
    "\n",
    "    return nb_matchs\n",
    "\n",
    "\n",
    "def naive_count_arrangements(records):\n",
    "    return sum([naive_count_matchs(record, group_counts) for record, group_counts in records])\n",
    "\n",
    "naive_count_arrangements(parse_input(it1))"
   ]
  },
  {
   "cell_type": "code",
   "execution_count": 16,
   "metadata": {},
   "outputs": [
    {
     "data": {
      "text/plain": [
       "7718"
      ]
     },
     "execution_count": 16,
     "metadata": {},
     "output_type": "execute_result"
    }
   ],
   "source": [
    "naive_count_arrangements(parse_input(puzzle_input))"
   ]
  },
  {
   "cell_type": "markdown",
   "metadata": {},
   "source": [
    "Amélioration Partie 1"
   ]
  },
  {
   "cell_type": "code",
   "execution_count": 5,
   "metadata": {},
   "outputs": [],
   "source": [
    "def get_groups(record):\n",
    "    return [g for g in record.split(\".\") if g]"
   ]
  },
  {
   "cell_type": "code",
   "execution_count": 6,
   "metadata": {},
   "outputs": [],
   "source": [
    "record, count_groups = '.???..??...?##.', (1, 1, 3)"
   ]
  },
  {
   "cell_type": "code",
   "execution_count": 7,
   "metadata": {},
   "outputs": [
    {
     "name": "stdout",
     "output_type": "stream",
     "text": [
      "1\n",
      "4\n",
      "1\n",
      "1\n",
      "4\n",
      "10\n"
     ]
    }
   ],
   "source": [
    "from functools import cache\n",
    "\n",
    "\n",
    "@cache\n",
    "def count_record(\n",
    "    record: str,\n",
    "    target: tuple,\n",
    "    cur_groups: tuple = (),\n",
    "    cur_count: int = 0,\n",
    "):\n",
    "    count = 0\n",
    "\n",
    "    for i, c in enumerate(record):\n",
    "        if c == \"?\":\n",
    "            # On remplace le caractère courant par un dièse.\n",
    "            # Dans ce cas on appelle récursivement la fonction avec un compteur de\n",
    "            # dièse incrémenté de 1\n",
    "            count += count_record(record[i + 1 :], target, cur_groups, cur_count + 1)\n",
    "\n",
    "            # On remplace le caractère courant par un point dans ce cas deux cas de\n",
    "            # figure :\n",
    "            # - il y a un un groupe en courant, auquel cas on essaye de l'ajouter puis\n",
    "            #   on continue\n",
    "            # - il n'y a pas de groupe courant, auquel cas on continue\n",
    "            if cur_count:\n",
    "                # Si on peut encore ajouter des groupes, on l'ajoute puis on continue\n",
    "                if (\n",
    "                    len(cur_groups) < len(target)\n",
    "                    and target[len(cur_groups)] == cur_count\n",
    "                ):\n",
    "                    cur_groups += (cur_count,)\n",
    "                    cur_count = 0\n",
    "                    continue\n",
    "\n",
    "                # Sinon on arrête la boucle ici\n",
    "                else:\n",
    "                    break\n",
    "\n",
    "        elif c == \"#\":\n",
    "            cur_count += 1\n",
    "        elif c == \".\" and cur_count:\n",
    "            cur_groups += (cur_count,)\n",
    "            cur_count = 0\n",
    "\n",
    "    if cur_count:\n",
    "        cur_groups += (cur_count,)\n",
    "\n",
    "    if cur_groups == target:\n",
    "        count += 1\n",
    "\n",
    "    return count\n",
    "\n",
    "\n",
    "for record, target in [\n",
    "    (\"???.###\", (1, 1, 3)),\n",
    "    (\".??..??...?##.\", (1, 1, 3)),\n",
    "    (\"?#?#?#?#?#?#?#?\", (1, 3, 1, 6)),\n",
    "    (\"????.#...#...\", (4, 1, 1)),\n",
    "    (\"????.######..#####.\", (1, 6, 5)),\n",
    "    (\"?###????????\", (3, 2, 1)),\n",
    "]:\n",
    "    print(count_record(record, target))"
   ]
  },
  {
   "cell_type": "code",
   "execution_count": 24,
   "metadata": {},
   "outputs": [
    {
     "name": "stdout",
     "output_type": "stream",
     "text": [
      "1\n",
      "4\n",
      "1\n",
      "1\n",
      "4\n",
      "10\n"
     ]
    }
   ],
   "source": [
    "from functools import cache\n",
    "\n",
    "@cache\n",
    "def count_record(\n",
    "    record: str,\n",
    "    target: tuple,\n",
    "    cur_count: int = 0,\n",
    ") -> int:\n",
    "    # S'il n'y a plus de groupe à former, on renvoie 1 s'il n'y a plus de #\n",
    "    # (s'il y a des ? il faudrait de toute façon les prendre égal à .)\n",
    "    if not target:\n",
    "        return 0 if \"#\" in record else 1\n",
    "\n",
    "    # S'il n'y a plus de record, on renvoie 1 sur le compteur de diese courant est\n",
    "    # égal au dernier group à former\n",
    "    if not record:\n",
    "        return 1 if (cur_count,) == target else 0\n",
    "\n",
    "    # S'il n'y a plus de ?, on compte directement les groupes\n",
    "    if \"?\" not in record:\n",
    "        groups = [len(g) for g in record.split(\".\") if g]\n",
    "\n",
    "        if cur_count:\n",
    "            if record[0] == \"#\":\n",
    "                groups[0] += cur_count\n",
    "                groups = tuple(groups)\n",
    "            else:\n",
    "                groups = (cur_count, *groups)\n",
    "        else:\n",
    "            groups = tuple(groups)\n",
    "\n",
    "        return 1 if target == groups else 0\n",
    "\n",
    "    # Sinon on procède récursivement\n",
    "    c = record[0]\n",
    "\n",
    "    if c == \"#\":\n",
    "        return count_record(record[1:], target, cur_count + 1)\n",
    "    elif c == \".\":\n",
    "        if cur_count > 0:\n",
    "            if cur_count == target[0]:\n",
    "                return count_record(record[1:], target[1:], 0)\n",
    "            else:\n",
    "                return 0\n",
    "        else:\n",
    "            return count_record(record[1:], target, 0)\n",
    "    else:\n",
    "        nb_diese = count_record(record[1:], target, cur_count + 1)\n",
    "\n",
    "        if cur_count > 0:\n",
    "            if cur_count == target[0]:\n",
    "                return nb_diese + count_record(record[1:], target[1:], 0)\n",
    "            else:\n",
    "                return nb_diese\n",
    "\n",
    "        return nb_diese + count_record(record[1:], target, 0)\n",
    "\n",
    "# count_record(\"????.######..#####.\", (1, 6, 5))\n",
    "\n",
    "for record, target in [\n",
    "    (\"???.###\", (1, 1, 3)),\n",
    "    (\".??..??...?##.\", (1, 1, 3)),\n",
    "    (\"?#?#?#?#?#?#?#?\", (1, 3, 1, 6)),\n",
    "    (\"????.#...#...\", (4, 1, 1)),\n",
    "    (\"????.######..#####.\", (1, 6, 5)),\n",
    "    (\"?###????????\", (3, 2, 1)),\n",
    "]:\n",
    "    print(count_record(record, target))"
   ]
  },
  {
   "cell_type": "code",
   "execution_count": 25,
   "metadata": {},
   "outputs": [
    {
     "data": {
      "text/plain": [
       "21"
      ]
     },
     "execution_count": 25,
     "metadata": {},
     "output_type": "execute_result"
    }
   ],
   "source": [
    "def count_arrangements(records):\n",
    "    return sum([count_record(record, group_counts) for record, group_counts in records])\n",
    "\n",
    "count_arrangements(parse_input(it1))"
   ]
  },
  {
   "cell_type": "code",
   "execution_count": 26,
   "metadata": {},
   "outputs": [
    {
     "data": {
      "text/plain": [
       "7718"
      ]
     },
     "execution_count": 26,
     "metadata": {},
     "output_type": "execute_result"
    }
   ],
   "source": [
    "count_arrangements(parse_input(puzzle_input))"
   ]
  },
  {
   "cell_type": "markdown",
   "metadata": {},
   "source": [
    "Partie 2"
   ]
  },
  {
   "cell_type": "code",
   "execution_count": 27,
   "metadata": {},
   "outputs": [
    {
     "data": {
      "text/plain": [
       "[('???.###????.###????.###????.###????.###',\n",
       "  (1, 1, 3, 1, 1, 3, 1, 1, 3, 1, 1, 3, 1, 1, 3)),\n",
       " ('.??..??...?##.?.??..??...?##.?.??..??...?##.?.??..??...?##.?.??..??...?##.',\n",
       "  (1, 1, 3, 1, 1, 3, 1, 1, 3, 1, 1, 3, 1, 1, 3)),\n",
       " ('?#?#?#?#?#?#?#???#?#?#?#?#?#?#???#?#?#?#?#?#?#???#?#?#?#?#?#?#???#?#?#?#?#?#?#?',\n",
       "  (1, 3, 1, 6, 1, 3, 1, 6, 1, 3, 1, 6, 1, 3, 1, 6, 1, 3, 1, 6)),\n",
       " ('????.#...#...?????.#...#...?????.#...#...?????.#...#...?????.#...#...',\n",
       "  (4, 1, 1, 4, 1, 1, 4, 1, 1, 4, 1, 1, 4, 1, 1)),\n",
       " ('????.######..#####.?????.######..#####.?????.######..#####.?????.######..#####.?????.######..#####.',\n",
       "  (1, 6, 5, 1, 6, 5, 1, 6, 5, 1, 6, 5, 1, 6, 5)),\n",
       " ('?###??????????###??????????###??????????###??????????###????????',\n",
       "  (3, 2, 1, 3, 2, 1, 3, 2, 1, 3, 2, 1, 3, 2, 1))]"
      ]
     },
     "execution_count": 27,
     "metadata": {},
     "output_type": "execute_result"
    }
   ],
   "source": [
    "def dupliquer(records):\n",
    "    return [\n",
    "        (\"?\".join([record]*5), groups_counts*5) for record, groups_counts in records\n",
    "    ]\n",
    "\n",
    "it_records = dupliquer(parse_input(it1))\n",
    "it_records"
   ]
  },
  {
   "cell_type": "code",
   "execution_count": 28,
   "metadata": {},
   "outputs": [
    {
     "data": {
      "text/plain": [
       "525152"
      ]
     },
     "execution_count": 28,
     "metadata": {},
     "output_type": "execute_result"
    }
   ],
   "source": [
    "count_arrangements(it_records)"
   ]
  },
  {
   "cell_type": "code",
   "execution_count": 29,
   "metadata": {},
   "outputs": [
    {
     "data": {
      "text/plain": [
       "128741994134728"
      ]
     },
     "execution_count": 29,
     "metadata": {},
     "output_type": "execute_result"
    }
   ],
   "source": [
    "puzzle_records = dupliquer(parse_input(puzzle_input))\n",
    "count_arrangements(puzzle_records)"
   ]
  }
 ],
 "metadata": {
  "kernelspec": {
   "display_name": ".venv",
   "language": "python",
   "name": "python3"
  },
  "language_info": {
   "codemirror_mode": {
    "name": "ipython",
    "version": 3
   },
   "file_extension": ".py",
   "mimetype": "text/x-python",
   "name": "python",
   "nbconvert_exporter": "python",
   "pygments_lexer": "ipython3",
   "version": "3.11.4"
  },
  "orig_nbformat": 4
 },
 "nbformat": 4,
 "nbformat_minor": 2
}
