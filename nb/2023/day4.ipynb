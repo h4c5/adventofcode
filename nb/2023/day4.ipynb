{
 "cells": [
  {
   "cell_type": "code",
   "execution_count": 1,
   "metadata": {},
   "outputs": [],
   "source": [
    "from aocd import get_data\n",
    "\n",
    "puzzle_input = get_data(day=4, year=2023)"
   ]
  },
  {
   "cell_type": "code",
   "execution_count": 2,
   "metadata": {},
   "outputs": [],
   "source": [
    "it1 = \"\"\"\n",
    "Card 1: 41 48 83 86 17 | 83 86  6 31 17  9 48 53\n",
    "Card 2: 13 32 20 16 61 | 61 30 68 82 17 32 24 19\n",
    "Card 3:  1 21 53 59 44 | 69 82 63 72 16 21 14  1\n",
    "Card 4: 41 92 73 84 69 | 59 84 76 51 58  5 54 83\n",
    "Card 5: 87 83 26 28 32 | 88 30 70 12 93 22 82 36\n",
    "Card 6: 31 18 13 56 72 | 74 77 10 23 35 67 36 11\n",
    "\"\"\".strip()"
   ]
  },
  {
   "cell_type": "markdown",
   "metadata": {},
   "source": [
    "Partie 1"
   ]
  },
  {
   "cell_type": "code",
   "execution_count": 25,
   "metadata": {},
   "outputs": [
    {
     "data": {
      "text/plain": [
       "{1: ({17, 41, 48, 83, 86}, {6, 9, 17, 31, 48, 53, 83, 86}),\n",
       " 2: ({13, 16, 20, 32, 61}, {17, 19, 24, 30, 32, 61, 68, 82}),\n",
       " 3: ({1, 21, 44, 53, 59}, {1, 14, 16, 21, 63, 69, 72, 82}),\n",
       " 4: ({41, 69, 73, 84, 92}, {5, 51, 54, 58, 59, 76, 83, 84}),\n",
       " 5: ({26, 28, 32, 83, 87}, {12, 22, 30, 36, 70, 82, 88, 93}),\n",
       " 6: ({13, 18, 31, 56, 72}, {10, 11, 23, 35, 36, 67, 74, 77})}"
      ]
     },
     "execution_count": 25,
     "metadata": {},
     "output_type": "execute_result"
    }
   ],
   "source": [
    "import re\n",
    "\n",
    "\n",
    "def parse_row(row: str):\n",
    "    card, numbers_winning, numbers_you_have = re.split(r\":| \\| \", row)\n",
    "    card_id = int(card.rsplit(\" \", 1)[1])\n",
    "    numbers_winning = {int(n) for n in re.split(r\"\\s+\", numbers_winning) if n}\n",
    "    numbers_you_have = {int(n) for n in re.split(r\"\\s+\", numbers_you_have) if n}\n",
    "\n",
    "    return (card_id, numbers_winning, numbers_you_have)\n",
    "\n",
    "\n",
    "def parse_cards(cards: str):\n",
    "    return {\n",
    "        card_id: (numbers_winning, numbers_you_have)\n",
    "        for (card_id, numbers_winning, numbers_you_have) in map(\n",
    "            parse_row, cards.split(\"\\n\")\n",
    "        )\n",
    "    }\n",
    "\n",
    "\n",
    "cards1 = parse_cards(it1)\n",
    "cards1"
   ]
  },
  {
   "cell_type": "code",
   "execution_count": 26,
   "metadata": {},
   "outputs": [
    {
     "data": {
      "text/plain": [
       "13"
      ]
     },
     "execution_count": 26,
     "metadata": {},
     "output_type": "execute_result"
    }
   ],
   "source": [
    "def compute_points(numbers_winning:set, numbers_you_have:set):\n",
    "    n_winning = len(numbers_winning.intersection(numbers_you_have))\n",
    "    return 2**(n_winning-1) if n_winning else 0\n",
    "\n",
    "def compute_points_cards(cards: dict):\n",
    "    return {i: compute_points(*numbers) for i, numbers in cards.items()}\n",
    "\n",
    "sum(compute_points_cards(cards1).values())"
   ]
  },
  {
   "cell_type": "code",
   "execution_count": 27,
   "metadata": {},
   "outputs": [
    {
     "data": {
      "text/plain": [
       "24542"
      ]
     },
     "execution_count": 27,
     "metadata": {},
     "output_type": "execute_result"
    }
   ],
   "source": [
    "cards_input = parse_cards(puzzle_input)\n",
    "sum(compute_points_cards(cards_input).values())"
   ]
  },
  {
   "cell_type": "markdown",
   "metadata": {},
   "source": [
    "Partie 2"
   ]
  },
  {
   "cell_type": "code",
   "execution_count": 38,
   "metadata": {},
   "outputs": [
    {
     "data": {
      "text/plain": [
       "30"
      ]
     },
     "execution_count": 38,
     "metadata": {},
     "output_type": "execute_result"
    }
   ],
   "source": [
    "def perform_game_cards(cards: dict) -> list:\n",
    "    cards_matching_numbers = [\n",
    "        {\"n_cards\": 1, \"n_numbers\": len(numbers_winning.intersection(numbers_you_have))}\n",
    "        for numbers_winning, numbers_you_have in cards.values()\n",
    "    ]\n",
    "\n",
    "    for i, card in enumerate(cards_matching_numbers):\n",
    "        card[\"n_points_per_card\"] = 2**(card[\"n_numbers\"] - 1) if card[\"n_numbers\"] else 0\n",
    "        for won_card in cards_matching_numbers[i + 1 : i + card[\"n_numbers\"] + 1]:\n",
    "            won_card[\"n_cards\"] += card[\"n_cards\"]\n",
    "\n",
    "    return cards_matching_numbers\n",
    "\n",
    "def total_score_cards(cards: dict):\n",
    "    cards_matching_numbers = perform_game_cards(cards)\n",
    "    return sum(card[\"n_cards\"] for card in cards_matching_numbers)\n",
    "\n",
    "\n",
    "total_score_cards(cards1)"
   ]
  },
  {
   "cell_type": "code",
   "execution_count": 39,
   "metadata": {},
   "outputs": [
    {
     "data": {
      "text/plain": [
       "8736438"
      ]
     },
     "execution_count": 39,
     "metadata": {},
     "output_type": "execute_result"
    }
   ],
   "source": [
    "total_score_cards(cards_input)"
   ]
  }
 ],
 "metadata": {
  "kernelspec": {
   "display_name": ".venv",
   "language": "python",
   "name": "python3"
  },
  "language_info": {
   "codemirror_mode": {
    "name": "ipython",
    "version": 3
   },
   "file_extension": ".py",
   "mimetype": "text/x-python",
   "name": "python",
   "nbconvert_exporter": "python",
   "pygments_lexer": "ipython3",
   "version": "3.11.4"
  },
  "orig_nbformat": 4
 },
 "nbformat": 4,
 "nbformat_minor": 2
}
