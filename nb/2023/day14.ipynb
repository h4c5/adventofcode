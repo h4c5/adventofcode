{
 "cells": [
  {
   "cell_type": "code",
   "execution_count": 1,
   "metadata": {},
   "outputs": [],
   "source": [
    "from aocd import get_data\n",
    "\n",
    "puzzle_input = get_data(day=14, year=2023)"
   ]
  },
  {
   "cell_type": "code",
   "execution_count": 2,
   "metadata": {},
   "outputs": [],
   "source": [
    "it = \"\"\"\n",
    "O....#....\n",
    "O.OO#....#\n",
    ".....##...\n",
    "OO.#O....O\n",
    ".O.....O#.\n",
    "O.#..O.#.#\n",
    "..O..#O..O\n",
    ".......O..\n",
    "#....###..\n",
    "#OO..#....\n",
    "\"\"\".strip()"
   ]
  },
  {
   "cell_type": "markdown",
   "metadata": {},
   "source": [
    "Partie 1"
   ]
  },
  {
   "cell_type": "code",
   "execution_count": 9,
   "metadata": {},
   "outputs": [
    {
     "data": {
      "text/plain": [
       "[['O', '.', '.', '.', '.', '#', '.', '.', '.', '.'],\n",
       " ['O', '.', 'O', 'O', '#', '.', '.', '.', '.', '#'],\n",
       " ['.', '.', '.', '.', '.', '#', '#', '.', '.', '.'],\n",
       " ['O', 'O', '.', '#', 'O', '.', '.', '.', '.', 'O'],\n",
       " ['.', 'O', '.', '.', '.', '.', '.', 'O', '#', '.'],\n",
       " ['O', '.', '#', '.', '.', 'O', '.', '#', '.', '#'],\n",
       " ['.', '.', 'O', '.', '.', '#', 'O', '.', '.', 'O'],\n",
       " ['.', '.', '.', '.', '.', '.', '.', 'O', '.', '.'],\n",
       " ['#', '.', '.', '.', '.', '#', '#', '#', '.', '.'],\n",
       " ['#', 'O', 'O', '.', '.', '#', '.', '.', '.', '.']]"
      ]
     },
     "execution_count": 9,
     "metadata": {},
     "output_type": "execute_result"
    }
   ],
   "source": [
    "def parse_input(input: str):\n",
    "    return [[c for c in row] for row in input.split(\"\\n\")]\n",
    "\n",
    "itp = parse_input(it)\n",
    "itp"
   ]
  },
  {
   "cell_type": "code",
   "execution_count": 13,
   "metadata": {},
   "outputs": [],
   "source": [
    "puzzle_parsed = parse_input(puzzle_input)"
   ]
  },
  {
   "cell_type": "code",
   "execution_count": 11,
   "metadata": {},
   "outputs": [
    {
     "data": {
      "text/plain": [
       "[['O', 'O', 'O', 'O', '.', '#', '.', 'O', '.', '.'],\n",
       " ['O', 'O', '.', '.', '#', '.', '.', '.', '.', '#'],\n",
       " ['O', 'O', '.', '.', 'O', '#', '#', '.', '.', 'O'],\n",
       " ['O', '.', '.', '#', '.', 'O', 'O', '.', '.', '.'],\n",
       " ['.', '.', '.', '.', '.', '.', '.', '.', '#', '.'],\n",
       " ['.', '.', '#', '.', '.', '.', '.', '#', '.', '#'],\n",
       " ['.', '.', 'O', '.', '.', '#', '.', 'O', '.', 'O'],\n",
       " ['.', '.', 'O', '.', '.', '.', '.', '.', '.', '.'],\n",
       " ['#', '.', '.', '.', '.', '#', '#', '#', '.', '.'],\n",
       " ['#', '.', '.', '.', '.', '#', '.', '.', '.', '.']]"
      ]
     },
     "execution_count": 11,
     "metadata": {},
     "output_type": "execute_result"
    }
   ],
   "source": [
    "def tilt_north(map: list[list[str]]):\n",
    "    map = [row.copy() for row in map]\n",
    "    n_row = len(map)\n",
    "    n_col = len(map[0])\n",
    "\n",
    "    for c in range(n_col):\n",
    "        last_stop = 0\n",
    "        for r in range(n_row):\n",
    "            item = map[r][c]\n",
    "\n",
    "            if item == \"O\":\n",
    "                k = None\n",
    "                for k in range(last_stop, r):\n",
    "                    if map[k][c] == \".\":\n",
    "                        break\n",
    "\n",
    "                if k is not None and k < r and map[k][c] == \".\":\n",
    "                    map[k][c] = \"O\"\n",
    "                    map[r][c] = \".\"\n",
    "                    last_stop = k + 1\n",
    "\n",
    "            elif item == \".\":\n",
    "                pass\n",
    "\n",
    "            elif item == \"#\":\n",
    "                last_stop = r + 1\n",
    "\n",
    "    return map\n",
    "\n",
    "\n",
    "tilt_north(itp)"
   ]
  },
  {
   "cell_type": "code",
   "execution_count": 12,
   "metadata": {},
   "outputs": [
    {
     "data": {
      "text/plain": [
       "136"
      ]
     },
     "execution_count": 12,
     "metadata": {},
     "output_type": "execute_result"
    }
   ],
   "source": [
    "def count_weight(map: list[list[str]]) -> int:\n",
    "    n_row = len(map)\n",
    "\n",
    "    return sum(\n",
    "        (n_row - i )* row.count(\"O\")\n",
    "        for i, row in enumerate(map)\n",
    "    )\n",
    "\n",
    "count_weight(tilt_north(itp))"
   ]
  },
  {
   "cell_type": "code",
   "execution_count": 14,
   "metadata": {},
   "outputs": [
    {
     "data": {
      "text/plain": [
       "109596"
      ]
     },
     "execution_count": 14,
     "metadata": {},
     "output_type": "execute_result"
    }
   ],
   "source": [
    "count_weight(tilt_north(puzzle_parsed))"
   ]
  },
  {
   "cell_type": "markdown",
   "metadata": {},
   "source": [
    "Partie 2"
   ]
  }
 ],
 "metadata": {
  "kernelspec": {
   "display_name": ".venv",
   "language": "python",
   "name": "python3"
  },
  "language_info": {
   "codemirror_mode": {
    "name": "ipython",
    "version": 3
   },
   "file_extension": ".py",
   "mimetype": "text/x-python",
   "name": "python",
   "nbconvert_exporter": "python",
   "pygments_lexer": "ipython3",
   "version": "3.9.13"
  },
  "orig_nbformat": 4
 },
 "nbformat": 4,
 "nbformat_minor": 2
}
