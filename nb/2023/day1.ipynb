{
 "cells": [
  {
   "cell_type": "code",
   "execution_count": 1,
   "metadata": {},
   "outputs": [],
   "source": [
    "from aocd import get_data\n",
    "\n",
    "puzzle_input = get_data(day=1, year=2023)"
   ]
  },
  {
   "cell_type": "code",
   "execution_count": 4,
   "metadata": {},
   "outputs": [],
   "source": [
    "it = \"\"\"1abc2\n",
    "pqr3stu8vwx\n",
    "a1b2c3d4e5f\n",
    "treb7uchet\"\"\""
   ]
  },
  {
   "cell_type": "markdown",
   "metadata": {},
   "source": [
    "Partie 1"
   ]
  },
  {
   "cell_type": "code",
   "execution_count": 9,
   "metadata": {},
   "outputs": [
    {
     "data": {
      "text/plain": [
       "142"
      ]
     },
     "execution_count": 9,
     "metadata": {},
     "output_type": "execute_result"
    }
   ],
   "source": [
    "NUMBERS = set(\"0123456789\")\n",
    "\n",
    "def somme(puzzle_input):\n",
    "    somme = 0\n",
    "\n",
    "    for line in puzzle_input.split(\"\\n\"):\n",
    "        first_digit = None\n",
    "        last_digit = None\n",
    "        for i in range(len(line)):\n",
    "            j = len(line) - 1 - i\n",
    "\n",
    "            if first_digit is None and line[i] in NUMBERS:\n",
    "                first_digit = line[i]\n",
    "\n",
    "            if last_digit is None and line[j] in NUMBERS:\n",
    "                last_digit = line[j]\n",
    "\n",
    "            if first_digit is not None and last_digit is not None:\n",
    "                somme += int(first_digit+last_digit)\n",
    "                break\n",
    "\n",
    "    return somme\n",
    "\n",
    "somme(it)"
   ]
  },
  {
   "cell_type": "code",
   "execution_count": 10,
   "metadata": {},
   "outputs": [
    {
     "data": {
      "text/plain": [
       "57346"
      ]
     },
     "execution_count": 10,
     "metadata": {},
     "output_type": "execute_result"
    }
   ],
   "source": [
    "somme(puzzle_input)"
   ]
  },
  {
   "cell_type": "markdown",
   "metadata": {},
   "source": [
    "Partie 2"
   ]
  },
  {
   "cell_type": "code",
   "execution_count": 18,
   "metadata": {},
   "outputs": [
    {
     "data": {
      "text/plain": [
       "{1: {'0', '1', '2', '3', '4', '5', '6', '7', '8', '9'},\n",
       " 5: {'eight', 'seven', 'three'},\n",
       " 4: {'five', 'four', 'nine'},\n",
       " 3: {'one', 'six', 'two'}}"
      ]
     },
     "execution_count": 18,
     "metadata": {},
     "output_type": "execute_result"
    }
   ],
   "source": [
    "NUMBERS = {\n",
    "    \"0\": 0,\n",
    "    \"1\": 1,\n",
    "    \"2\": 2,\n",
    "    \"3\": 3,\n",
    "    \"4\": 4,\n",
    "    \"5\": 5,\n",
    "    \"6\": 6,\n",
    "    \"7\": 7,\n",
    "    \"8\": 8,\n",
    "    \"9\": 9,\n",
    "    \"eight\": 8,\n",
    "    \"five\": 5,\n",
    "    \"four\": 4,\n",
    "    \"nine\": 9,\n",
    "    \"one\": 1,\n",
    "    \"seven\": 7,\n",
    "    \"six\": 6,\n",
    "    \"three\": 3,\n",
    "    \"two\": 2,\n",
    "}\n",
    "\n",
    "NUMBERS_BY_LEN = {}\n",
    "for n in NUMBERS:\n",
    "    if len(n) in NUMBERS_BY_LEN:\n",
    "        NUMBERS_BY_LEN[len(n)].add(n)\n",
    "    else:\n",
    "        NUMBERS_BY_LEN[len(n)] = {n}\n",
    "\n",
    "NUMBERS_BY_LEN"
   ]
  },
  {
   "cell_type": "code",
   "execution_count": 20,
   "metadata": {},
   "outputs": [],
   "source": [
    "it2 = \"\"\"\n",
    "two1nine\n",
    "eightwothree\n",
    "abcone2threexyz\n",
    "xtwone3four\n",
    "4nineeightseven2\n",
    "zoneight234\n",
    "7pqrstsixteen\n",
    "\"\"\".strip()"
   ]
  },
  {
   "cell_type": "code",
   "execution_count": 26,
   "metadata": {},
   "outputs": [
    {
     "data": {
      "text/plain": [
       "281"
      ]
     },
     "execution_count": 26,
     "metadata": {},
     "output_type": "execute_result"
    }
   ],
   "source": [
    "def somme2(puzzle_input):\n",
    "    somme = 0\n",
    "\n",
    "    for line in puzzle_input.split(\"\\n\"):\n",
    "        first_digit = None\n",
    "        last_digit = None\n",
    "\n",
    "        for i in range(len(line)):\n",
    "            for len_n, numbers in NUMBERS_BY_LEN.items():\n",
    "                chars = line[i:i+len_n]\n",
    "                if chars in numbers:\n",
    "                    if first_digit is None:\n",
    "                        first_digit = 10 * NUMBERS[chars]\n",
    "\n",
    "                    last_digit = NUMBERS[chars]\n",
    "\n",
    "        assert first_digit is not None\n",
    "        assert last_digit is not None\n",
    "        somme += first_digit + last_digit\n",
    "                \n",
    "    return somme\n",
    "\n",
    "somme2(it2)"
   ]
  },
  {
   "cell_type": "code",
   "execution_count": 27,
   "metadata": {},
   "outputs": [
    {
     "data": {
      "text/plain": [
       "57345"
      ]
     },
     "execution_count": 27,
     "metadata": {},
     "output_type": "execute_result"
    }
   ],
   "source": [
    "somme2(puzzle_input)"
   ]
  }
 ],
 "metadata": {
  "kernelspec": {
   "display_name": ".venv",
   "language": "python",
   "name": "python3"
  },
  "language_info": {
   "codemirror_mode": {
    "name": "ipython",
    "version": 3
   },
   "file_extension": ".py",
   "mimetype": "text/x-python",
   "name": "python",
   "nbconvert_exporter": "python",
   "pygments_lexer": "ipython3",
   "version": "3.9.13"
  },
  "orig_nbformat": 4
 },
 "nbformat": 4,
 "nbformat_minor": 2
}
