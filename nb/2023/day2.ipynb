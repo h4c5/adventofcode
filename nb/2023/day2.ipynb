{
 "cells": [
  {
   "cell_type": "code",
   "execution_count": 2,
   "metadata": {},
   "outputs": [],
   "source": [
    "from aocd import get_data\n",
    "\n",
    "puzzle_input = get_data(day=2, year=2023)"
   ]
  },
  {
   "cell_type": "code",
   "execution_count": 4,
   "metadata": {},
   "outputs": [],
   "source": [
    "it1 = \"\"\"Game 1: 3 blue, 4 red; 1 red, 2 green, 6 blue; 2 green\n",
    "Game 2: 1 blue, 2 green; 3 green, 4 blue, 1 red; 1 green, 1 blue\n",
    "Game 3: 8 green, 6 blue, 20 red; 5 blue, 4 red, 13 green; 5 green, 1 red\n",
    "Game 4: 1 green, 3 red, 6 blue; 3 green, 6 red; 3 green, 15 blue, 14 red\n",
    "Game 5: 6 red, 1 blue, 3 green; 2 blue, 1 red, 2 green\"\"\""
   ]
  },
  {
   "cell_type": "markdown",
   "metadata": {},
   "source": [
    "Partie 1"
   ]
  },
  {
   "cell_type": "code",
   "execution_count": 12,
   "metadata": {},
   "outputs": [
    {
     "data": {
      "text/plain": [
       "{1: [(4, 0, 3), (1, 2, 6), (0, 2, 0)],\n",
       " 2: [(0, 2, 1), (1, 3, 4), (0, 1, 1)],\n",
       " 3: [(20, 8, 6), (4, 13, 5), (1, 5, 0)],\n",
       " 4: [(3, 1, 6), (6, 3, 0), (14, 3, 15)],\n",
       " 5: [(6, 3, 1), (1, 2, 2)]}"
      ]
     },
     "execution_count": 12,
     "metadata": {},
     "output_type": "execute_result"
    }
   ],
   "source": [
    "import re\n",
    "\n",
    "pattern_game_id = re.compile(r\"(?i)game (\\d+)\")\n",
    "pattern_cubes = re.compile(r\"(?i)(\\d+) (red|green|blue)\")\n",
    "\n",
    "\n",
    "def parse_inputs(puzzle_input: str) -> dict:\n",
    "    games = {}\n",
    "\n",
    "    for line in puzzle_input.split(\"\\n\"):\n",
    "        game, tirages = line.split(\":\", 1)\n",
    "\n",
    "        game_id = int(pattern_game_id.match(game).group(1))\n",
    "\n",
    "        games[game_id] = []\n",
    "        for tirage in tirages.split(\";\"):\n",
    "            cubes = {c: int(n) for n, c in pattern_cubes.findall(tirage)}\n",
    "            games[game_id].append(\n",
    "                (cubes.get(\"red\", 0), cubes.get(\"green\", 0), cubes.get(\"blue\", 0))\n",
    "            )\n",
    "\n",
    "    return games\n",
    "\n",
    "\n",
    "it1_games = parse_inputs(it1)\n",
    "it1_games"
   ]
  },
  {
   "cell_type": "code",
   "execution_count": 31,
   "metadata": {},
   "outputs": [
    {
     "data": {
      "text/plain": [
       "8"
      ]
     },
     "execution_count": 31,
     "metadata": {},
     "output_type": "execute_result"
    }
   ],
   "source": [
    "# rgb\n",
    "TOTAL_CUBES = (12, 13, 14)\n",
    "\n",
    "def tirage_faisable(total_cubes: tuple, tirage: tuple):\n",
    "    return all(c1 >= c2 for c1, c2 in zip(total_cubes, tirage))\n",
    "\n",
    "def games_faisables(games: dict) -> list:\n",
    "    return [\n",
    "        game_id\n",
    "        for game_id, game_tirages in games.items()\n",
    "        if all([tirage_faisable(TOTAL_CUBES, tirage) for tirage in game_tirages])\n",
    "    ]\n",
    "\n",
    "sum(games_faisables(it1_games))"
   ]
  },
  {
   "cell_type": "code",
   "execution_count": 32,
   "metadata": {},
   "outputs": [
    {
     "data": {
      "text/plain": [
       "2632"
      ]
     },
     "execution_count": 32,
     "metadata": {},
     "output_type": "execute_result"
    }
   ],
   "source": [
    "puzzle_input_games = parse_inputs(puzzle_input)\n",
    "sum(games_faisables(puzzle_input_games))"
   ]
  },
  {
   "cell_type": "markdown",
   "metadata": {},
   "source": [
    "Partie 2"
   ]
  },
  {
   "cell_type": "code",
   "execution_count": 33,
   "metadata": {},
   "outputs": [
    {
     "data": {
      "text/plain": [
       "2286"
      ]
     },
     "execution_count": 33,
     "metadata": {},
     "output_type": "execute_result"
    }
   ],
   "source": [
    "from math import prod\n",
    "\n",
    "def minimum_cubes_tirages(tirages: list[tuple]):\n",
    "    return tuple(map(max, zip(*tirages)))\n",
    "\n",
    "def total_power_games(games: dict):\n",
    "    return sum([prod(minimum_cubes_tirages(game_tirages)) for game_tirages in games.values()])\n",
    "\n",
    "total_power_games(it1_games)"
   ]
  },
  {
   "cell_type": "code",
   "execution_count": 34,
   "metadata": {},
   "outputs": [
    {
     "data": {
      "text/plain": [
       "69629"
      ]
     },
     "execution_count": 34,
     "metadata": {},
     "output_type": "execute_result"
    }
   ],
   "source": [
    "total_power_games(puzzle_input_games)"
   ]
  }
 ],
 "metadata": {
  "kernelspec": {
   "display_name": ".venv",
   "language": "python",
   "name": "python3"
  },
  "language_info": {
   "codemirror_mode": {
    "name": "ipython",
    "version": 3
   },
   "file_extension": ".py",
   "mimetype": "text/x-python",
   "name": "python",
   "nbconvert_exporter": "python",
   "pygments_lexer": "ipython3",
   "version": "3.11.4"
  },
  "orig_nbformat": 4
 },
 "nbformat": 4,
 "nbformat_minor": 2
}
