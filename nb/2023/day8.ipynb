{
 "cells": [
  {
   "cell_type": "code",
   "execution_count": 1,
   "metadata": {},
   "outputs": [],
   "source": [
    "from aocd import get_data\n",
    "\n",
    "puzzle_input = get_data(day=8, year=2023)"
   ]
  },
  {
   "cell_type": "code",
   "execution_count": 15,
   "metadata": {},
   "outputs": [],
   "source": [
    "it1 = \"\"\"\n",
    "RL\n",
    "\n",
    "AAA = (BBB, CCC)\n",
    "BBB = (DDD, EEE)\n",
    "CCC = (ZZZ, GGG)\n",
    "DDD = (DDD, DDD)\n",
    "EEE = (EEE, EEE)\n",
    "GGG = (GGG, GGG)\n",
    "ZZZ = (ZZZ, ZZZ)\n",
    "\"\"\".strip()\n",
    "\n",
    "it2 = \"\"\"\n",
    "LLR\n",
    "\n",
    "AAA = (BBB, BBB)\n",
    "BBB = (AAA, ZZZ)\n",
    "ZZZ = (ZZZ, ZZZ)\n",
    "\"\"\".strip()"
   ]
  },
  {
   "cell_type": "markdown",
   "metadata": {},
   "source": [
    "Partie 1"
   ]
  },
  {
   "cell_type": "code",
   "execution_count": 5,
   "metadata": {},
   "outputs": [
    {
     "data": {
      "text/plain": [
       "['AAA', 'BBB', 'CCC']"
      ]
     },
     "execution_count": 5,
     "metadata": {},
     "output_type": "execute_result"
    }
   ],
   "source": [
    "re.findall(r\"[A-Z]+\", \"AAA = (BBB, CCC)\")"
   ]
  },
  {
   "cell_type": "code",
   "execution_count": 19,
   "metadata": {},
   "outputs": [
    {
     "data": {
      "text/plain": [
       "('RL',\n",
       " {'AAA': {'L': 'BBB', 'R': 'CCC'},\n",
       "  'BBB': {'L': 'DDD', 'R': 'EEE'},\n",
       "  'CCC': {'L': 'ZZZ', 'R': 'GGG'},\n",
       "  'DDD': {'L': 'DDD', 'R': 'DDD'},\n",
       "  'EEE': {'L': 'EEE', 'R': 'EEE'},\n",
       "  'ZZZ': {'L': 'ZZZ', 'R': 'ZZZ'},\n",
       "  'GGG': {'L': 'GGG', 'R': 'GGG'}})"
      ]
     },
     "execution_count": 19,
     "metadata": {},
     "output_type": "execute_result"
    }
   ],
   "source": [
    "import re\n",
    "\n",
    "def parse_input(input: str):\n",
    "    instructions, rows = input.split(\"\\n\\n\")\n",
    "    graph = {}\n",
    "    for row in rows.split(\"\\n\"):\n",
    "        nodes = re.findall(r\"[A-Z0-9]+\", row)\n",
    "        for node in nodes:\n",
    "            if node not in graph:\n",
    "                graph[node] = {\"L\": None, \"R\": None}\n",
    "            start, left, right = nodes\n",
    "            graph[start][\"L\"] = left\n",
    "            graph[start][\"R\"] = right\n",
    "\n",
    "    return instructions, graph\n",
    "\n",
    "it1_insts, it1_graph = parse_input(it1)\n",
    "it1_insts, it1_graph "
   ]
  },
  {
   "cell_type": "code",
   "execution_count": 14,
   "metadata": {},
   "outputs": [
    {
     "data": {
      "text/plain": [
       "2"
      ]
     },
     "execution_count": 14,
     "metadata": {},
     "output_type": "execute_result"
    }
   ],
   "source": [
    "from itertools  import cycle\n",
    "\n",
    "def follow_instruction(\n",
    "    instructions: str,\n",
    "    graph: dict,\n",
    "    start_node: str = \"AAA\",\n",
    "    end_node: str = \"ZZZ\",\n",
    ") -> int:\n",
    "    current_node = start_node\n",
    "    instructions_iterator = cycle(instructions)\n",
    "    nb_steps = 0\n",
    "\n",
    "    while current_node != end_node:\n",
    "        inst = next(instructions_iterator)\n",
    "        current_node = graph[current_node][inst]\n",
    "        nb_steps += 1\n",
    "\n",
    "    return nb_steps\n",
    "\n",
    "follow_instruction(*parse_input(it1))\n"
   ]
  },
  {
   "cell_type": "code",
   "execution_count": 16,
   "metadata": {},
   "outputs": [
    {
     "data": {
      "text/plain": [
       "6"
      ]
     },
     "execution_count": 16,
     "metadata": {},
     "output_type": "execute_result"
    }
   ],
   "source": [
    "follow_instruction(*parse_input(it2))"
   ]
  },
  {
   "cell_type": "code",
   "execution_count": 17,
   "metadata": {},
   "outputs": [
    {
     "data": {
      "text/plain": [
       "21251"
      ]
     },
     "execution_count": 17,
     "metadata": {},
     "output_type": "execute_result"
    }
   ],
   "source": [
    "follow_instruction(*parse_input(puzzle_input))"
   ]
  },
  {
   "cell_type": "markdown",
   "metadata": {},
   "source": [
    "Partie 2"
   ]
  },
  {
   "cell_type": "code",
   "execution_count": 20,
   "metadata": {},
   "outputs": [
    {
     "data": {
      "text/plain": [
       "('LR',\n",
       " {'11A': {'L': '11B', 'R': 'XXX'},\n",
       "  '11B': {'L': 'XXX', 'R': '11Z'},\n",
       "  'XXX': {'L': 'XXX', 'R': 'XXX'},\n",
       "  '11Z': {'L': '11B', 'R': 'XXX'},\n",
       "  '22A': {'L': '22B', 'R': 'XXX'},\n",
       "  '22B': {'L': '22C', 'R': '22C'},\n",
       "  '22C': {'L': '22Z', 'R': '22Z'},\n",
       "  '22Z': {'L': '22B', 'R': '22B'}})"
      ]
     },
     "execution_count": 20,
     "metadata": {},
     "output_type": "execute_result"
    }
   ],
   "source": [
    "it3 = \"\"\"\n",
    "LR\n",
    "\n",
    "11A = (11B, XXX)\n",
    "11B = (XXX, 11Z)\n",
    "11Z = (11B, XXX)\n",
    "22A = (22B, XXX)\n",
    "22B = (22C, 22C)\n",
    "22C = (22Z, 22Z)\n",
    "22Z = (22B, 22B)\n",
    "XXX = (XXX, XXX)\n",
    "\"\"\".strip()\n",
    "\n",
    "parse_input(it3)"
   ]
  },
  {
   "cell_type": "code",
   "execution_count": 30,
   "metadata": {},
   "outputs": [
    {
     "data": {
      "text/plain": [
       "6"
      ]
     },
     "execution_count": 30,
     "metadata": {},
     "output_type": "execute_result"
    }
   ],
   "source": [
    "from itertools import cycle\n",
    "\n",
    "\n",
    "def follow_instruction2(instructions: str, graph: dict) -> int:\n",
    "    \"\"\"Brute force\"\"\"\n",
    "    \n",
    "    instructions_iterator = cycle(instructions)\n",
    "    nb_steps = 0\n",
    "\n",
    "    current_nodes = [node for node in graph if node.endswith(\"A\")]\n",
    "    nb_nodes = len(current_nodes)\n",
    "\n",
    "    for inst in instructions_iterator:\n",
    "\n",
    "        stop = True\n",
    "        for n in range(nb_nodes):\n",
    "            current_nodes[n] = graph[current_nodes[n]][inst]\n",
    "\n",
    "            if not current_nodes[n].endswith(\"Z\"):\n",
    "                stop = False\n",
    "        \n",
    "        nb_steps += 1\n",
    "        if stop:\n",
    "            break\n",
    "\n",
    "    return nb_steps\n",
    "\n",
    "follow_instruction2(*parse_input(it3))"
   ]
  },
  {
   "cell_type": "code",
   "execution_count": 31,
   "metadata": {},
   "outputs": [
    {
     "ename": "KeyboardInterrupt",
     "evalue": "",
     "output_type": "error",
     "traceback": [
      "\u001b[0;31m---------------------------------------------------------------------------\u001b[0m",
      "\u001b[0;31mKeyboardInterrupt\u001b[0m                         Traceback (most recent call last)",
      "\u001b[1;32m/home/hakim/autres/adventofcode/nb/2023/day8.ipynb Cellule 12\u001b[0m line \u001b[0;36m1\n\u001b[0;32m----> <a href='vscode-notebook-cell://wsl%2Bubuntu-22.04/home/hakim/autres/adventofcode/nb/2023/day8.ipynb#X16sdnNjb2RlLXJlbW90ZQ%3D%3D?line=0'>1</a>\u001b[0m follow_instruction2(\u001b[39m*\u001b[39;49mparse_input(puzzle_input))\n",
      "\u001b[1;32m/home/hakim/autres/adventofcode/nb/2023/day8.ipynb Cellule 12\u001b[0m line \u001b[0;36m1\n\u001b[1;32m     <a href='vscode-notebook-cell://wsl%2Bubuntu-22.04/home/hakim/autres/adventofcode/nb/2023/day8.ipynb#X16sdnNjb2RlLXJlbW90ZQ%3D%3D?line=14'>15</a>\u001b[0m \u001b[39mfor\u001b[39;00m n \u001b[39min\u001b[39;00m \u001b[39mrange\u001b[39m(nb_nodes):\n\u001b[1;32m     <a href='vscode-notebook-cell://wsl%2Bubuntu-22.04/home/hakim/autres/adventofcode/nb/2023/day8.ipynb#X16sdnNjb2RlLXJlbW90ZQ%3D%3D?line=15'>16</a>\u001b[0m     current_nodes[n] \u001b[39m=\u001b[39m graph[current_nodes[n]][inst]\n\u001b[0;32m---> <a href='vscode-notebook-cell://wsl%2Bubuntu-22.04/home/hakim/autres/adventofcode/nb/2023/day8.ipynb#X16sdnNjb2RlLXJlbW90ZQ%3D%3D?line=17'>18</a>\u001b[0m     \u001b[39mif\u001b[39;00m \u001b[39mnot\u001b[39;00m current_nodes[n]\u001b[39m.\u001b[39;49mendswith(\u001b[39m\"\u001b[39;49m\u001b[39mZ\u001b[39;49m\u001b[39m\"\u001b[39;49m):\n\u001b[1;32m     <a href='vscode-notebook-cell://wsl%2Bubuntu-22.04/home/hakim/autres/adventofcode/nb/2023/day8.ipynb#X16sdnNjb2RlLXJlbW90ZQ%3D%3D?line=18'>19</a>\u001b[0m         stop \u001b[39m=\u001b[39m \u001b[39mFalse\u001b[39;00m\n\u001b[1;32m     <a href='vscode-notebook-cell://wsl%2Bubuntu-22.04/home/hakim/autres/adventofcode/nb/2023/day8.ipynb#X16sdnNjb2RlLXJlbW90ZQ%3D%3D?line=20'>21</a>\u001b[0m nb_steps \u001b[39m+\u001b[39m\u001b[39m=\u001b[39m \u001b[39m1\u001b[39m\n",
      "\u001b[0;31mKeyboardInterrupt\u001b[0m: "
     ]
    }
   ],
   "source": [
    "follow_instruction2(*parse_input(puzzle_input))"
   ]
  },
  {
   "cell_type": "code",
   "execution_count": null,
   "metadata": {},
   "outputs": [],
   "source": [
    "from itertools import cycle\n",
    "\n",
    "\n",
    "def follow_instruction2(instructions: str, graph: dict) -> dict:\n",
    "    instructions_iterator = cycle(instructions)\n",
    "\n",
    "    start_nodes = [node for node in graph if node.endswith(\"A\")]\n",
    "    \n",
    "    nodes = {node: {\"seen\": {node}, \"current\": node, \"cycle\": 0} for node in start_nodes}\n",
    "    remaining = set(start_nodes)\n",
    "    keep = set()\n",
    "\n",
    "    for inst in instructions_iterator:\n",
    "        for start_node in remaining:\n",
    "            current_node = nodes[start_node][\"current\"]\n",
    "            current_node = graph[current_node][inst]\n",
    "            nodes[start_node][\"cycle\"] += 1\n",
    "\n",
    "            if not current_node in nodes[start_node][\"seen\"]:\n",
    "                nodes[start_node][\"seen\"].add(start_node)\n",
    "\n",
    "        remaining = keep\n",
    "        keep = set()\n",
    "\n",
    "        if not remaining:\n",
    "            break\n",
    "\n",
    "    return nodes\n",
    "\n",
    "\n",
    "follow_instruction2(*parse_input(it3))"
   ]
  }
 ],
 "metadata": {
  "kernelspec": {
   "display_name": ".venv",
   "language": "python",
   "name": "python3"
  },
  "language_info": {
   "codemirror_mode": {
    "name": "ipython",
    "version": 3
   },
   "file_extension": ".py",
   "mimetype": "text/x-python",
   "name": "python",
   "nbconvert_exporter": "python",
   "pygments_lexer": "ipython3",
   "version": "3.9.13"
  },
  "orig_nbformat": 4
 },
 "nbformat": 4,
 "nbformat_minor": 2
}
