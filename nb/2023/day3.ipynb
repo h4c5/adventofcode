{
 "cells": [
  {
   "cell_type": "code",
   "execution_count": 21,
   "metadata": {},
   "outputs": [],
   "source": [
    "from aocd import get_data\n",
    "\n",
    "puzzle_input = get_data(day=3, year=2023)"
   ]
  },
  {
   "cell_type": "code",
   "execution_count": 22,
   "metadata": {},
   "outputs": [],
   "source": [
    "it1 = \"\"\"\n",
    "467..114..\n",
    "...*......\n",
    "..35..633.\n",
    "......#...\n",
    "617*......\n",
    ".....+.58.\n",
    "..592.....\n",
    "......755.\n",
    "...$.*....\n",
    ".664.598..\n",
    "\"\"\".strip()"
   ]
  },
  {
   "cell_type": "markdown",
   "metadata": {},
   "source": [
    "Partie 1"
   ]
  },
  {
   "cell_type": "code",
   "execution_count": 23,
   "metadata": {},
   "outputs": [
    {
     "data": {
      "text/plain": [
       "([(467, (0, (0, 2))),\n",
       "  (114, (0, (5, 7))),\n",
       "  (35, (2, (2, 3))),\n",
       "  (633, (2, (6, 8))),\n",
       "  (617, (4, (0, 2))),\n",
       "  (58, (5, (7, 8))),\n",
       "  (592, (6, (2, 4))),\n",
       "  (755, (7, (6, 8))),\n",
       "  (664, (9, (1, 3))),\n",
       "  (598, (9, (5, 7)))],\n",
       " {0: [],\n",
       "  1: [3],\n",
       "  2: [],\n",
       "  3: [6],\n",
       "  4: [3],\n",
       "  5: [5],\n",
       "  6: [],\n",
       "  7: [],\n",
       "  8: [3, 5],\n",
       "  9: []})"
      ]
     },
     "execution_count": 23,
     "metadata": {},
     "output_type": "execute_result"
    }
   ],
   "source": [
    "from itertools import zip_longest\n",
    "\n",
    "NUMBERS = set(\"0123456789\")\n",
    "\n",
    "\n",
    "def parse_engine_schematic(input: str):\n",
    "    rows = input.split(\"\\n\")\n",
    "    numbers = []\n",
    "    symbols = {}\n",
    "\n",
    "    for i, row in enumerate(rows):\n",
    "        symbols[i] = []\n",
    "        digits = []\n",
    "        digits_ind = []\n",
    "\n",
    "        for j, c in enumerate(row):\n",
    "            if c in NUMBERS:\n",
    "                digits.append(c)\n",
    "                digits_ind.append(j)\n",
    "            else:\n",
    "                if digits:\n",
    "                    numbers.append(\n",
    "                        (int(\"\".join(digits)), (i, (digits_ind[0], digits_ind[-1])))\n",
    "                    )\n",
    "                    digits = []\n",
    "                    digits_ind = []\n",
    "\n",
    "                if c != \".\":\n",
    "                    symbols[i].append(j)\n",
    "\n",
    "        if digits:\n",
    "            numbers.append((int(\"\".join(digits)), (i, (digits_ind[0], digits_ind[-1]))))\n",
    "\n",
    "    return numbers, symbols\n",
    "\n",
    "\n",
    "parse_engine_schematic(it1)"
   ]
  },
  {
   "cell_type": "code",
   "execution_count": 24,
   "metadata": {},
   "outputs": [
    {
     "data": {
      "text/plain": [
       "4361"
      ]
     },
     "execution_count": 24,
     "metadata": {},
     "output_type": "execute_result"
    }
   ],
   "source": [
    "def get_part_numbers(numbers: list[tuple[int, tuple[int, tuple[int, int]]]], symbols: dict[int, list[int]]):\n",
    "    part_numbers = []\n",
    "    for n, (n_i, (n_j1, n_j2)) in numbers:\n",
    "        n_is_part = False\n",
    "        for s_i in range(n_i - 1, n_i + 2):\n",
    "            for s_j in symbols.get(s_i, []):\n",
    "                if (n_j1 - 1) <= s_j and s_j <= (n_j2 + 1):\n",
    "                    n_is_part = True\n",
    "                    break\n",
    "            if n_is_part:\n",
    "                break\n",
    "        if n_is_part:\n",
    "            part_numbers.append(n)\n",
    "    return part_numbers\n",
    "\n",
    "sum(get_part_numbers(*parse_engine_schematic(it1)))"
   ]
  },
  {
   "cell_type": "code",
   "execution_count": 25,
   "metadata": {},
   "outputs": [
    {
     "data": {
      "text/plain": [
       "530849"
      ]
     },
     "execution_count": 25,
     "metadata": {},
     "output_type": "execute_result"
    }
   ],
   "source": [
    "\n",
    "sum(get_part_numbers(*parse_engine_schematic(puzzle_input)))"
   ]
  },
  {
   "cell_type": "markdown",
   "metadata": {},
   "source": [
    "Partie 2"
   ]
  },
  {
   "cell_type": "code",
   "execution_count": 26,
   "metadata": {},
   "outputs": [
    {
     "data": {
      "text/plain": [
       "([(467, (0, (0, 2))),\n",
       "  (114, (0, (5, 7))),\n",
       "  (35, (2, (2, 3))),\n",
       "  (633, (2, (6, 8))),\n",
       "  (617, (4, (0, 2))),\n",
       "  (58, (5, (7, 8))),\n",
       "  (592, (6, (2, 4))),\n",
       "  (755, (7, (6, 8))),\n",
       "  (664, (9, (1, 3))),\n",
       "  (598, (9, (5, 7)))],\n",
       " {0: [],\n",
       "  1: [(3, '*')],\n",
       "  2: [],\n",
       "  3: [(6, '#')],\n",
       "  4: [(3, '*')],\n",
       "  5: [(5, '+')],\n",
       "  6: [],\n",
       "  7: [],\n",
       "  8: [(3, '$'), (5, '*')],\n",
       "  9: []})"
      ]
     },
     "execution_count": 26,
     "metadata": {},
     "output_type": "execute_result"
    }
   ],
   "source": [
    "def parse_engine_schematic2(input: str):\n",
    "    rows = input.split(\"\\n\")\n",
    "    numbers = []\n",
    "    symbols = {}\n",
    "\n",
    "    for i, row in enumerate(rows):\n",
    "        symbols[i] = []\n",
    "\n",
    "        digits = []\n",
    "        digits_ind = []\n",
    "\n",
    "        for j, c in enumerate(row):\n",
    "            if c in NUMBERS:\n",
    "                digits.append(c)\n",
    "                digits_ind.append(j)\n",
    "            else:\n",
    "                if digits:\n",
    "                    numbers.append(\n",
    "                        (int(\"\".join(digits)), (i, (digits_ind[0], digits_ind[-1])))\n",
    "                    )\n",
    "                    digits = []\n",
    "                    digits_ind = []\n",
    "\n",
    "                if c != \".\":\n",
    "                    symbols[i].append((j, c))\n",
    "\n",
    "        if digits:\n",
    "            numbers.append((int(\"\".join(digits)), (i, (digits_ind[0], digits_ind[-1]))))\n",
    "\n",
    "    return numbers, symbols\n",
    "\n",
    "\n",
    "parse_engine_schematic2(it1)"
   ]
  },
  {
   "cell_type": "code",
   "execution_count": 27,
   "metadata": {},
   "outputs": [
    {
     "data": {
      "text/plain": [
       "467835"
      ]
     },
     "execution_count": 27,
     "metadata": {},
     "output_type": "execute_result"
    }
   ],
   "source": [
    "from math import prod\n",
    "\n",
    "def get_gears_sum_ratio(numbers: list[tuple[int, tuple[int, tuple[int, int]]]], symbols: dict[int, list[tuple[int, str]]]):\n",
    "    part_numbers = []\n",
    "    gears = {}\n",
    "    for num in numbers:\n",
    "        n, (n_i, (n_j1, n_j2)) = num\n",
    "        \n",
    "        n_is_part = False\n",
    "        for s_i in range(n_i - 1, n_i + 2):\n",
    "            for s_j, s_c in symbols.get(s_i, []):\n",
    "                if (n_j1 - 1) <= s_j and s_j <= (n_j2 + 1):\n",
    "                    n_is_part = True\n",
    "                    \n",
    "                    if s_c == \"*\":\n",
    "                        if (s_i, s_j) in gears:\n",
    "                            gears[(s_i, s_j)].append(n)\n",
    "                        else:\n",
    "                            gears[(s_i, s_j)] = [n]\n",
    "        if n_is_part:\n",
    "            part_numbers.append(n)\n",
    "    \n",
    "    gears = {pos: prod(numbers) for pos, numbers in gears.items() if len(numbers) == 2}\n",
    "\n",
    "    return sum(gears.values())\n",
    "\n",
    "get_gears_sum_ratio(*parse_engine_schematic2(it1))"
   ]
  },
  {
   "cell_type": "code",
   "execution_count": 28,
   "metadata": {},
   "outputs": [
    {
     "data": {
      "text/plain": [
       "84900879"
      ]
     },
     "execution_count": 28,
     "metadata": {},
     "output_type": "execute_result"
    }
   ],
   "source": [
    "get_gears_sum_ratio(*parse_engine_schematic2(puzzle_input))"
   ]
  }
 ],
 "metadata": {
  "kernelspec": {
   "display_name": ".venv",
   "language": "python",
   "name": "python3"
  },
  "language_info": {
   "codemirror_mode": {
    "name": "ipython",
    "version": 3
   },
   "file_extension": ".py",
   "mimetype": "text/x-python",
   "name": "python",
   "nbconvert_exporter": "python",
   "pygments_lexer": "ipython3",
   "version": "3.11.4"
  },
  "orig_nbformat": 4
 },
 "nbformat": 4,
 "nbformat_minor": 2
}
