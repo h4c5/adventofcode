{
 "cells": [
  {
   "cell_type": "code",
   "execution_count": 3,
   "metadata": {},
   "outputs": [],
   "source": [
    "from aocd import get_data\n",
    "\n",
    "puzzle_input = get_data(day=6, year=2023)"
   ]
  },
  {
   "cell_type": "code",
   "execution_count": 4,
   "metadata": {},
   "outputs": [],
   "source": [
    "it = \"\"\"\n",
    "Time:      7  15   30\n",
    "Distance:  9  40  200\n",
    "\"\"\".strip()"
   ]
  },
  {
   "cell_type": "markdown",
   "metadata": {},
   "source": [
    "Partie 1"
   ]
  },
  {
   "cell_type": "code",
   "execution_count": 8,
   "metadata": {},
   "outputs": [
    {
     "data": {
      "text/plain": [
       "[Record(time=7, distance=9),\n",
       " Record(time=15, distance=40),\n",
       " Record(time=30, distance=200)]"
      ]
     },
     "execution_count": 8,
     "metadata": {},
     "output_type": "execute_result"
    }
   ],
   "source": [
    "import re\n",
    "from dataclasses import dataclass\n",
    "\n",
    "@dataclass\n",
    "class Record:\n",
    "    time: int\n",
    "    distance: int\n",
    "\n",
    "def parse_input(input:str):\n",
    "    times, distances = input.split(\"\\n\")\n",
    "    times = [int(t) for t in re.findall(r\"\\d+\", times)]\n",
    "    distances = [int(d) for d in re.findall(r\"\\d+\", distances)]\n",
    "    return [Record(time=time, distance=distance) for time, distance in zip(times, distances)]\n",
    "\n",
    "it_records = parse_input(it)\n",
    "it_records"
   ]
  },
  {
   "cell_type": "code",
   "execution_count": 33,
   "metadata": {},
   "outputs": [
    {
     "data": {
      "text/plain": [
       "[Record(time=55, distance=246),\n",
       " Record(time=82, distance=1441),\n",
       " Record(time=64, distance=1012),\n",
       " Record(time=90, distance=1111)]"
      ]
     },
     "execution_count": 33,
     "metadata": {},
     "output_type": "execute_result"
    }
   ],
   "source": [
    "puzzle_records = parse_input(puzzle_input)\n",
    "puzzle_records"
   ]
  },
  {
   "cell_type": "code",
   "execution_count": 32,
   "metadata": {},
   "outputs": [
    {
     "data": {
      "text/plain": [
       "288"
      ]
     },
     "execution_count": 32,
     "metadata": {},
     "output_type": "execute_result"
    }
   ],
   "source": [
    "from math import sqrt, ceil, floor, prod\n",
    "\n",
    "def next_sup_int(n: float) -> int:\n",
    "    i = ceil(n)\n",
    "    return i if i > n else i + 1\n",
    "\n",
    "def prev_inf_int(n: float) -> int:\n",
    "    i = floor(n)\n",
    "    return i if i < n else i - 1\n",
    "\n",
    "def calcul_discriminant(record: Record):\n",
    "    return record.time ** 2 - 4 * record.distance\n",
    "\n",
    "def cacul_range_solutions(record: Record):\n",
    "    delta = calcul_discriminant(record)\n",
    "    if delta < 0:\n",
    "        return None\n",
    "    else:\n",
    "        racine_delta = sqrt(delta)\n",
    "\n",
    "        # Valeurs permettant d'égaler le record\n",
    "        t1 = (record.time - racine_delta) / 2\n",
    "        t2 = (record.time + racine_delta) / 2\n",
    "\n",
    "        # Valeurs permettant de dépasser le record\n",
    "        t1 = max(0, next_sup_int(t1))\n",
    "        t2 = max(0, prev_inf_int(t2))\n",
    "\n",
    "        if t1 <= t2:\n",
    "            return (t1, t2)\n",
    "        else:\n",
    "            return None\n",
    "    \n",
    "def calcul_nb_solutions(record: Record):\n",
    "    range_solutions = cacul_range_solutions(record)\n",
    "    if range_solutions is None:\n",
    "        return 0\n",
    "    else:\n",
    "        t1, t2 = range_solutions\n",
    "        return t2 - t1 + 1\n",
    "\n",
    "def calcul_prod_nb_solutions(records: list[Record]):\n",
    "    return prod(map(calcul_nb_solutions, records))\n",
    "\n",
    "\n",
    "calcul_prod_nb_solutions(it_records)"
   ]
  },
  {
   "cell_type": "code",
   "execution_count": 34,
   "metadata": {},
   "outputs": [
    {
     "data": {
      "text/plain": [
       "608902"
      ]
     },
     "execution_count": 34,
     "metadata": {},
     "output_type": "execute_result"
    }
   ],
   "source": [
    "calcul_prod_nb_solutions(puzzle_records)"
   ]
  },
  {
   "cell_type": "markdown",
   "metadata": {},
   "source": [
    "Partie 2"
   ]
  },
  {
   "cell_type": "code",
   "execution_count": 36,
   "metadata": {},
   "outputs": [
    {
     "data": {
      "text/plain": [
       "71503"
      ]
     },
     "execution_count": 36,
     "metadata": {},
     "output_type": "execute_result"
    }
   ],
   "source": [
    "def parse_input2(input:str):\n",
    "    times, distances = input.split(\"\\n\")\n",
    "    times = int(\"\".join(re.findall(r\"\\d+\", times)))\n",
    "    distances = int(\"\".join(re.findall(r\"\\d+\", distances)))\n",
    "    return Record(time=times, distance=distances)\n",
    "\n",
    "calcul_nb_solutions(parse_input2(it))"
   ]
  },
  {
   "cell_type": "code",
   "execution_count": 38,
   "metadata": {},
   "outputs": [
    {
     "data": {
      "text/plain": [
       "46173809"
      ]
     },
     "execution_count": 38,
     "metadata": {},
     "output_type": "execute_result"
    }
   ],
   "source": [
    "calcul_nb_solutions(parse_input2(puzzle_input))"
   ]
  }
 ],
 "metadata": {
  "kernelspec": {
   "display_name": ".venv",
   "language": "python",
   "name": "python3"
  },
  "language_info": {
   "codemirror_mode": {
    "name": "ipython",
    "version": 3
   },
   "file_extension": ".py",
   "mimetype": "text/x-python",
   "name": "python",
   "nbconvert_exporter": "python",
   "pygments_lexer": "ipython3",
   "version": "3.9.13"
  },
  "orig_nbformat": 4
 },
 "nbformat": 4,
 "nbformat_minor": 2
}
