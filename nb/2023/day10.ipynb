{
 "cells": [
  {
   "cell_type": "code",
   "execution_count": 1,
   "metadata": {},
   "outputs": [],
   "source": [
    "from aocd import get_data\n",
    "\n",
    "puzzle_input = get_data(day=10, year=2023)"
   ]
  },
  {
   "cell_type": "code",
   "execution_count": 2,
   "metadata": {},
   "outputs": [],
   "source": [
    "it1 = \"\"\"\n",
    "7-F7-\n",
    ".FJ|7\n",
    "SJLL7\n",
    "|F--J\n",
    "LJ.LJ\n",
    "\"\"\".strip()"
   ]
  },
  {
   "cell_type": "code",
   "execution_count": 24,
   "metadata": {},
   "outputs": [
    {
     "data": {
      "text/plain": [
       "((2, 0), ['7-F7-', '.FJ|7', 'SJLL7', '|F--J', 'LJ.LJ'])"
      ]
     },
     "execution_count": 24,
     "metadata": {},
     "output_type": "execute_result"
    }
   ],
   "source": [
    "DIRS: dict[str, tuple[int, int]] = {\n",
    "    \"W\": (0, -1),\n",
    "    \"E\": (0, 1),\n",
    "    \"N\": (-1, 0),\n",
    "    \"S\": (1, 0),\n",
    "}\n",
    "PIPES: dict[str, set[str]] = {\n",
    "    \"-\": {\"W\", \"E\"},\n",
    "    \"|\": {\"N\", \"S\"},\n",
    "    \"7\": {\"W\", \"S\"},\n",
    "    \"J\": {\"W\", \"N\"},\n",
    "    \"L\": {\"E\", \"N\"},\n",
    "    \"F\": {\"E\", \"S\"},\n",
    "    \".\": set(),\n",
    "}\n",
    "INV_DIRS: dict[str, str] = {\n",
    "    \"N\": \"S\",\n",
    "    \"E\": \"W\",\n",
    "    \"S\": \"N\",\n",
    "    \"W\": \"E\"\n",
    "}\n",
    "\n",
    "\n",
    "def parse_input(input: str):\n",
    "    rows: list[str] = input.split(\"\\n\")\n",
    "\n",
    "    start = None\n",
    "\n",
    "    for i, row in enumerate(rows):\n",
    "        try:\n",
    "            start = (i, row.index(\"S\"))\n",
    "            break\n",
    "        except ValueError:\n",
    "            pass\n",
    "\n",
    "    if start is None:\n",
    "        raise ValueError(\"Le départ n'a pas été trouvé\")\n",
    "\n",
    "    return start, rows\n",
    "\n",
    "\n",
    "it1_start, it1_maps = parse_input(it1)\n",
    "it1_start, it1_maps "
   ]
  },
  {
   "cell_type": "markdown",
   "metadata": {},
   "source": [
    "Partie 1"
   ]
  },
  {
   "cell_type": "code",
   "execution_count": 25,
   "metadata": {},
   "outputs": [
    {
     "data": {
      "text/plain": [
       "((3, 1), 'S')"
      ]
     },
     "execution_count": 25,
     "metadata": {},
     "output_type": "execute_result"
    }
   ],
   "source": [
    "def get_next_dir(\n",
    "    maps: list[str], pos: tuple[int, int], dir_prec: str | None = None\n",
    ") -> tuple[tuple[int, int], str]:\n",
    "    i, j = pos\n",
    "    if maps[i][j] == \"S\":\n",
    "        for di, dj, df in ((-1, 0, \"S\"), (1, 0, \"N\"), (0, 1, \"W\"), (0, -1, \"E\")):\n",
    "            ni = i + di\n",
    "            nj = j + dj\n",
    "            if (\n",
    "                (0 <= ni < len(maps))\n",
    "                and (0 <= nj < len(maps[ni]))\n",
    "                and df in PIPES[maps[ni][nj]]\n",
    "            ):\n",
    "                return (ni, nj), df\n",
    "        raise Exception(f\"{maps}, {pos}, {dir_prec}\")\n",
    "    else:\n",
    "        assert dir_prec is not None\n",
    "        (new_dir,) = PIPES[maps[i][j]].difference(dir_prec)\n",
    "        di, dj = DIRS[new_dir]\n",
    "        return (i + di, j + dj), INV_DIRS[new_dir]\n",
    "\n",
    "\n",
    "get_next_dir(it1_maps, (4, 1), \"W\")"
   ]
  },
  {
   "cell_type": "code",
   "execution_count": 27,
   "metadata": {},
   "outputs": [
    {
     "data": {
      "text/plain": [
       "16"
      ]
     },
     "execution_count": 27,
     "metadata": {},
     "output_type": "execute_result"
    }
   ],
   "source": [
    "def find_main_loop(maps: list[str], start: tuple[int, int]):\n",
    "    loop = [start]\n",
    "    dir_prec = None\n",
    "    current_pos = start\n",
    "    while True:\n",
    "        current_pos, dir_prec = get_next_dir(maps, current_pos, dir_prec)\n",
    "        if current_pos == start:\n",
    "            break\n",
    "        else:\n",
    "            loop.append(current_pos)\n",
    "    return loop\n",
    "\n",
    "\n",
    "len(find_main_loop(it1_maps, it1_start))"
   ]
  },
  {
   "cell_type": "code",
   "execution_count": 29,
   "metadata": {},
   "outputs": [
    {
     "data": {
      "text/plain": [
       "(52, 100)"
      ]
     },
     "execution_count": 29,
     "metadata": {},
     "output_type": "execute_result"
    }
   ],
   "source": [
    "puzzle_start, puzzle_maps = parse_input(puzzle_input)\n",
    "puzzle_start"
   ]
  },
  {
   "cell_type": "code",
   "execution_count": 31,
   "metadata": {},
   "outputs": [
    {
     "data": {
      "text/plain": [
       "6823"
      ]
     },
     "execution_count": 31,
     "metadata": {},
     "output_type": "execute_result"
    }
   ],
   "source": [
    "len(find_main_loop(puzzle_maps, puzzle_start)) // 2"
   ]
  },
  {
   "cell_type": "markdown",
   "metadata": {},
   "source": [
    "Partie 2"
   ]
  },
  {
   "cell_type": "code",
   "execution_count": 74,
   "metadata": {},
   "outputs": [],
   "source": [
    "def find_main_loop_oriented(maps: list[str], start: tuple[int, int]):\n",
    "    loop = [start]\n",
    "    sens = []\n",
    "    dir_prec = None\n",
    "    current_pos = start\n",
    "    while True:\n",
    "        current_pos, dir_prec = get_next_dir(maps, current_pos, dir_prec)\n",
    "        if current_pos == start:\n",
    "            sens.append(INV_DIRS[dir_prec])\n",
    "            break\n",
    "        else:\n",
    "            loop.append(current_pos)\n",
    "            sens.append(INV_DIRS[dir_prec])\n",
    "        \n",
    "    \n",
    "    return {pos: sens for pos, sens in zip(loop, sens)}\n"
   ]
  },
  {
   "cell_type": "code",
   "execution_count": 116,
   "metadata": {},
   "outputs": [
    {
     "data": {
      "text/plain": [
       "{(2, 0): 'S',\n",
       " (3, 0): 'S',\n",
       " (4, 0): 'E',\n",
       " (4, 1): 'N',\n",
       " (3, 1): 'E',\n",
       " (3, 2): 'E',\n",
       " (3, 3): 'E',\n",
       " (3, 4): 'N',\n",
       " (2, 4): 'W',\n",
       " (2, 3): 'N',\n",
       " (1, 3): 'N',\n",
       " (0, 3): 'W',\n",
       " (0, 2): 'S',\n",
       " (1, 2): 'W',\n",
       " (1, 1): 'S',\n",
       " (2, 1): 'W'}"
      ]
     },
     "execution_count": 116,
     "metadata": {},
     "output_type": "execute_result"
    }
   ],
   "source": [
    "find_main_loop_oriented(it1_maps, it1_start)"
   ]
  },
  {
   "cell_type": "code",
   "execution_count": 62,
   "metadata": {},
   "outputs": [],
   "source": [
    "it2 = \"\"\"\n",
    ".F----7F7F7F7F-7....\n",
    ".|F--7||||||||FJ....\n",
    ".||.FJ||||||||L7....\n",
    "FJL7L7LJLJ||LJ.L-7..\n",
    "L--J.L7...LJS7F-7L7.\n",
    "....F-J..F7FJ|L7L7L7\n",
    "....L7.F7||L7|.L7L7|\n",
    ".....|FJLJ|FJ|F7|.LJ\n",
    "....FJL-7.||.||||...\n",
    "....L---J.LJ.LJLJ...\n",
    "\"\"\".strip()\n",
    "\n",
    "it2_start, it2_maps = parse_input(it2)"
   ]
  },
  {
   "cell_type": "code",
   "execution_count": 133,
   "metadata": {},
   "outputs": [],
   "source": [
    "directions_to_pipe = {\n",
    "    \"NN\": \"|\",\n",
    "    \"NW\": \"7\",\n",
    "    \"NE\": \"F\",\n",
    "\n",
    "    \"SS\": \"|\",\n",
    "    \"SW\": \"J\",\n",
    "    \"SE\": \"L\",\n",
    "\n",
    "    \"EE\": \"-\",\n",
    "    \"EN\": \"J\",\n",
    "    \"ES\": \"7\",\n",
    "\n",
    "    \"WW\": \"-\",\n",
    "    \"WN\": \"L\",\n",
    "    \"WS\": \"F\",\n",
    "}\n",
    "def get_start_pipe(loop):\n",
    "    sens = list(loop.values())\n",
    "    dir_prev = sens[-1]\n",
    "    dir = sens[0]\n",
    "    return directions_to_pipe[f\"{dir_prev}{dir}\"]"
   ]
  },
  {
   "cell_type": "code",
   "execution_count": 134,
   "metadata": {},
   "outputs": [
    {
     "data": {
      "text/plain": [
       "8"
      ]
     },
     "execution_count": 134,
     "metadata": {},
     "output_type": "execute_result"
    }
   ],
   "source": [
    "\n",
    "pipe_to_direction = {\n",
    "    \"|\": {\"N\", \"S\"},\n",
    "    \"-\": {\"W\", \"E\"},\n",
    "    \"L\": {\"N\", \"E\"},\n",
    "    \"J\": {\"N\", \"W\"},\n",
    "    \"7\": {\"S\", \"W\"},\n",
    "    \"F\": {\"S\", \"E\"},\n",
    "}\n",
    "\n",
    "def get_inner_tiles(start, maps):\n",
    "    nb_inside = 0\n",
    "\n",
    "    main_loop = find_main_loop_oriented(maps, start)\n",
    "    start_pipe = get_start_pipe(main_loop)\n",
    "\n",
    "    for i, row in enumerate(maps):\n",
    "        count = 0\n",
    "        for j, pipe in enumerate(row):\n",
    "            if (i, j) in main_loop:\n",
    "                if pipe == \"S\":\n",
    "                    pipe = start_pipe\n",
    "                if \"N\" in pipe_to_direction[pipe]:\n",
    "                    count += 1\n",
    "\n",
    "            elif count % 2 != 0:\n",
    "                nb_inside += 1\n",
    "\n",
    "    return nb_inside\n",
    "\n",
    "get_inner_tiles(it2_start, it2_maps)"
   ]
  },
  {
   "cell_type": "code",
   "execution_count": 135,
   "metadata": {},
   "outputs": [
    {
     "data": {
      "text/plain": [
       "415"
      ]
     },
     "execution_count": 135,
     "metadata": {},
     "output_type": "execute_result"
    }
   ],
   "source": [
    "get_inner_tiles(puzzle_start, puzzle_maps)"
   ]
  },
  {
   "cell_type": "markdown",
   "metadata": {},
   "source": [
    "## Annexes\n",
    "\n",
    "Approche par agglomération des positions qui ne sont pas dans la loop (ne fonctionne pas car les positions entourés de \n",
    "parois de la loop peuvent être à l'extérieur de celle-ci)"
   ]
  },
  {
   "cell_type": "code",
   "execution_count": 127,
   "metadata": {},
   "outputs": [],
   "source": [
    "def get_neighbors(pos:tuple[int, int]) -> list[tuple[int, int]]:\n",
    "    i, j = pos\n",
    "    return [(i-1, j), (i+1, j), (i, j-1), (i, j+1)]\n",
    "\n",
    "def get_inner_tiles(start, maps):\n",
    "    \"\"\"NE FONCTIONNE PAS\"\"\"\n",
    "    N = len(maps)\n",
    "    M = len(maps[0])\n",
    "\n",
    "    main_loop = find_main_loop_oriented(maps, start)\n",
    "    all_pos = {(i, j) for i in range(N) for j in range(M)}\n",
    "\n",
    "    inner = []\n",
    "    outer = []\n",
    "\n",
    "    outside_main_loop = all_pos.difference(main_loop)\n",
    "\n",
    "    while outside_main_loop:\n",
    "        current_pos = outside_main_loop.pop()\n",
    "\n",
    "        outside = False\n",
    "        current_tile = {current_pos}\n",
    "        current_tile_to_handle = [current_pos]\n",
    "\n",
    "        while current_tile_to_handle:\n",
    "            current_pos = current_tile_to_handle.pop()\n",
    "\n",
    "            for neighbor in get_neighbors(current_pos):\n",
    "                if neighbor in current_tile:\n",
    "                    continue\n",
    "                elif neighbor in main_loop:\n",
    "                    continue\n",
    "                elif neighbor not in all_pos:\n",
    "                    outside = True\n",
    "                else:\n",
    "                    current_tile.add(neighbor)\n",
    "                    current_tile_to_handle.append(neighbor)\n",
    "\n",
    "        if outside:\n",
    "            outer.append(current_tile)\n",
    "        else:\n",
    "            inner.append(current_tile)\n",
    "\n",
    "        outside_main_loop.difference_update(current_tile)\n",
    "\n",
    "    return inner"
   ]
  },
  {
   "cell_type": "code",
   "execution_count": null,
   "metadata": {},
   "outputs": [],
   "source": [
    "sum(map(len, get_inner_tiles(it2_start, it2_maps)))"
   ]
  }
 ],
 "metadata": {
  "kernelspec": {
   "display_name": ".venv",
   "language": "python",
   "name": "python3"
  },
  "language_info": {
   "codemirror_mode": {
    "name": "ipython",
    "version": 3
   },
   "file_extension": ".py",
   "mimetype": "text/x-python",
   "name": "python",
   "nbconvert_exporter": "python",
   "pygments_lexer": "ipython3",
   "version": "3.11.4"
  },
  "orig_nbformat": 4
 },
 "nbformat": 4,
 "nbformat_minor": 2
}
