{
 "cells": [
  {
   "cell_type": "code",
   "execution_count": 1,
   "metadata": {},
   "outputs": [],
   "source": [
    "from aocd import get_data\n",
    "\n",
    "puzzle_input = get_data(day=13, year=2023)"
   ]
  },
  {
   "cell_type": "code",
   "execution_count": 2,
   "metadata": {},
   "outputs": [],
   "source": [
    "it = \"\"\"\n",
    "#.##..##.\n",
    "..#.##.#.\n",
    "##......#\n",
    "##......#\n",
    "..#.##.#.\n",
    "..##..##.\n",
    "#.#.##.#.\n",
    "\n",
    "#...##..#\n",
    "#....#..#\n",
    "..##..###\n",
    "#####.##.\n",
    "#####.##.\n",
    "..##..###\n",
    "#....#..#\n",
    "\"\"\".strip()"
   ]
  },
  {
   "cell_type": "markdown",
   "metadata": {},
   "source": [
    "Partie 1"
   ]
  },
  {
   "cell_type": "code",
   "execution_count": 3,
   "metadata": {},
   "outputs": [
    {
     "data": {
      "text/plain": [
       "[('#.##..##.',\n",
       "  '..#.##.#.',\n",
       "  '##......#',\n",
       "  '##......#',\n",
       "  '..#.##.#.',\n",
       "  '..##..##.',\n",
       "  '#.#.##.#.'),\n",
       " ('#...##..#',\n",
       "  '#....#..#',\n",
       "  '..##..###',\n",
       "  '#####.##.',\n",
       "  '#####.##.',\n",
       "  '..##..###',\n",
       "  '#....#..#')]"
      ]
     },
     "execution_count": 3,
     "metadata": {},
     "output_type": "execute_result"
    }
   ],
   "source": [
    "def parse_input(input: str):\n",
    "    return [tuple(patterns.split(\"\\n\")) for patterns in input.split(\"\\n\\n\")]\n",
    "\n",
    "it_patterns = parse_input(it)\n",
    "it_patterns"
   ]
  },
  {
   "cell_type": "code",
   "execution_count": 4,
   "metadata": {},
   "outputs": [],
   "source": [
    "puzzle_patterns = parse_input(puzzle_input)"
   ]
  },
  {
   "cell_type": "markdown",
   "metadata": {},
   "source": [
    "Partie 1"
   ]
  },
  {
   "cell_type": "code",
   "execution_count": 5,
   "metadata": {},
   "outputs": [],
   "source": [
    "def find_vertical_reflections(pattern: tuple):\n",
    "    for i in range(1, len(pattern)):\n",
    "        up = pattern[:i][::-1]\n",
    "        down = pattern[i:]\n",
    "\n",
    "        if all(a == b for a, b in zip(up, down)):\n",
    "            return i\n",
    "    return 0"
   ]
  },
  {
   "cell_type": "code",
   "execution_count": 6,
   "metadata": {},
   "outputs": [
    {
     "data": {
      "text/plain": [
       "5"
      ]
     },
     "execution_count": 6,
     "metadata": {},
     "output_type": "execute_result"
    }
   ],
   "source": [
    "def transpose(pattern: tuple):\n",
    "    n_row = len(pattern)\n",
    "    n_col = len(pattern[0])\n",
    "\n",
    "    return tuple(\"\".join([pattern[i][j] for i in range(n_row)]) for j in range(n_col))\n",
    "\n",
    "find_vertical_reflections(transpose(it_patterns[0]))"
   ]
  },
  {
   "cell_type": "code",
   "execution_count": 7,
   "metadata": {},
   "outputs": [
    {
     "data": {
      "text/plain": [
       "405"
      ]
     },
     "execution_count": 7,
     "metadata": {},
     "output_type": "execute_result"
    }
   ],
   "source": [
    "def summarize_reflections(patterns:list[tuple]):\n",
    "    s = 0\n",
    "    for pattern in patterns:\n",
    "        s += 100 * find_vertical_reflections(pattern)\n",
    "        s += find_vertical_reflections(transpose(pattern))\n",
    "    return s\n",
    "\n",
    "summarize_reflections(it_patterns)"
   ]
  },
  {
   "cell_type": "code",
   "execution_count": 8,
   "metadata": {},
   "outputs": [
    {
     "data": {
      "text/plain": [
       "29213"
      ]
     },
     "execution_count": 8,
     "metadata": {},
     "output_type": "execute_result"
    }
   ],
   "source": [
    "summarize_reflections(puzzle_patterns)"
   ]
  },
  {
   "cell_type": "markdown",
   "metadata": {},
   "source": [
    "Partie 2"
   ]
  },
  {
   "cell_type": "code",
   "execution_count": 9,
   "metadata": {},
   "outputs": [
    {
     "data": {
      "text/plain": [
       "1"
      ]
     },
     "execution_count": 9,
     "metadata": {},
     "output_type": "execute_result"
    }
   ],
   "source": [
    "def diff(s1:str, s2: str):\n",
    "    return sum(c1 != c2 for c1, c2 in zip(s1, s2))\n",
    "\n",
    "diff(\"abc\", \"zbc\")"
   ]
  },
  {
   "cell_type": "code",
   "execution_count": 10,
   "metadata": {},
   "outputs": [],
   "source": [
    "def find_vertical_crooked_reflections(pattern: tuple):\n",
    "    for i in range(1, len(pattern)):\n",
    "        up = pattern[:i][::-1]\n",
    "        down = pattern[i:]\n",
    "\n",
    "        if sum(diff(row1, row2) for row1, row2 in zip(up, down)) == 1:\n",
    "            return i\n",
    "            \n",
    "    return 0"
   ]
  },
  {
   "cell_type": "code",
   "execution_count": 11,
   "metadata": {},
   "outputs": [
    {
     "data": {
      "text/plain": [
       "1"
      ]
     },
     "execution_count": 11,
     "metadata": {},
     "output_type": "execute_result"
    }
   ],
   "source": [
    "find_vertical_crooked_reflections(it_patterns[1])"
   ]
  },
  {
   "cell_type": "code",
   "execution_count": 12,
   "metadata": {},
   "outputs": [
    {
     "data": {
      "text/plain": [
       "400"
      ]
     },
     "execution_count": 12,
     "metadata": {},
     "output_type": "execute_result"
    }
   ],
   "source": [
    "def summarize_crooked_reflections(patterns:list[tuple]):\n",
    "    s = 0\n",
    "    for pattern in patterns:\n",
    "        s += 100 * find_vertical_crooked_reflections(pattern)\n",
    "        s += find_vertical_crooked_reflections(transpose(pattern))\n",
    "    return s\n",
    "\n",
    "summarize_crooked_reflections(it_patterns)\n",
    "\n"
   ]
  },
  {
   "cell_type": "code",
   "execution_count": 13,
   "metadata": {},
   "outputs": [
    {
     "data": {
      "text/plain": [
       "37453"
      ]
     },
     "execution_count": 13,
     "metadata": {},
     "output_type": "execute_result"
    }
   ],
   "source": [
    "summarize_crooked_reflections(puzzle_patterns)"
   ]
  }
 ],
 "metadata": {
  "kernelspec": {
   "display_name": ".venv",
   "language": "python",
   "name": "python3"
  },
  "language_info": {
   "codemirror_mode": {
    "name": "ipython",
    "version": 3
   },
   "file_extension": ".py",
   "mimetype": "text/x-python",
   "name": "python",
   "nbconvert_exporter": "python",
   "pygments_lexer": "ipython3",
   "version": "3.9.13"
  },
  "orig_nbformat": 4
 },
 "nbformat": 4,
 "nbformat_minor": 2
}
