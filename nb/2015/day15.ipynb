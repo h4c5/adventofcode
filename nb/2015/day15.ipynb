{
 "cells": [
  {
   "cell_type": "code",
   "execution_count": 3,
   "metadata": {},
   "outputs": [],
   "source": [
    "from aocd import get_data\n",
    "\n",
    "puzzle_input = get_data(day=15, year=2015)"
   ]
  },
  {
   "cell_type": "code",
   "execution_count": 4,
   "metadata": {},
   "outputs": [
    {
     "name": "stdout",
     "output_type": "stream",
     "text": [
      "Frosting: capacity 4, durability -2, flavor 0, texture 0, calories 5\n",
      "Candy: capacity 0, durability 5, flavor -1, texture 0, calories 8\n",
      "Butterscotch: capacity -1, durability 0, flavor 5, texture 0, calories 6\n",
      "Sugar: capacity 0, durability 0, flavor -2, texture 2, calories 1\n"
     ]
    }
   ],
   "source": [
    "print(puzzle_input)"
   ]
  },
  {
   "cell_type": "code",
   "execution_count": 1,
   "metadata": {},
   "outputs": [],
   "source": [
    "example = \"\"\"\n",
    "Butterscotch: capacity -1, durability -2, flavor 6, texture 3, calories 8\n",
    "Cinnamon: capacity 2, durability 3, flavor -2, texture -1, calories 3\n",
    "\"\"\".strip()\n",
    "\n",
    "import re\n",
    "\n",
    "def get_ingredients(text):\n",
    "    return [\n",
    "        list(map(int, re.findall(r\"-?\\d+\", s)))\n",
    "        for s in text.strip().split('\\n')\n",
    "    ]\n",
    "\n",
    "ingredients_example = get_ingredients(example)"
   ]
  },
  {
   "cell_type": "markdown",
   "metadata": {},
   "source": [
    "Partie 1"
   ]
  },
  {
   "cell_type": "code",
   "execution_count": 6,
   "metadata": {},
   "outputs": [
    {
     "data": {
      "text/plain": [
       "((24, 29, 31, 16), 18965440)"
      ]
     },
     "execution_count": 6,
     "metadata": {},
     "output_type": "execute_result"
    }
   ],
   "source": [
    "from ortools.sat.python import cp_model\n",
    "\n",
    "model = cp_model.CpModel()\n",
    "\n",
    "ingredients = get_ingredients(puzzle_input)\n",
    "coefficients = list(zip(*ingredients))\n",
    "\n",
    "alphas = []\n",
    "for i in range(len(ingredients)):\n",
    "    alphas.append(model.NewIntVar(0, 100, f\"{i}\"))\n",
    "\n",
    "# Somme des alphas doit être égal à 1\n",
    "model.Add(cp_model.LinearExpr.Sum(alphas) == 100)\n",
    "\n",
    "for coeffs in coefficients:\n",
    "    model.Add(cp_model.LinearExpr.WeightedSum(alphas, coeffs) >= 0)\n",
    "\n",
    "def evaluate_solution(solution, coefficients):\n",
    "    score = 1\n",
    "\n",
    "    for coeffs in coefficients:\n",
    "        score *= max(0, sum(a * c for a, c in zip(solution, coeffs)))\n",
    "\n",
    "    return score\n",
    "    \n",
    "class ObjectiveSolutionPrinter(cp_model.CpSolverSolutionCallback):\n",
    "    \"\"\"Display the objective value and time of intermediate solutions.\"\"\"\n",
    "\n",
    "    def __init__(self, variables, coefficients):\n",
    "        cp_model.CpSolverSolutionCallback.__init__(self)\n",
    "        self.variables = variables\n",
    "        self.coefficients = coefficients\n",
    "\n",
    "        self.best_solution = None\n",
    "        self.best_solution_score = 0\n",
    "\n",
    "    def on_solution_callback(self):\n",
    "        \"\"\"Called on each new solution.\"\"\"\n",
    "        score = 1\n",
    "\n",
    "        solution = tuple(self.Value(v) for v in self.variables)\n",
    "        solution_score = evaluate_solution(solution, self.coefficients)\n",
    "\n",
    "        if solution_score > self.best_solution_score:\n",
    "            self.best_solution = solution\n",
    "            self.best_solution_score = solution_score\n",
    "\n",
    "solution_printer = ObjectiveSolutionPrinter(alphas, coefficients[:-1])\n",
    "\n",
    "solver = cp_model.CpSolver()\n",
    "solver.parameters.enumerate_all_solutions = True\n",
    "status = solver.Solve(model, solution_printer)\n",
    "\n",
    "(solution_printer.best_solution, solution_printer.best_solution_score)"
   ]
  },
  {
   "cell_type": "markdown",
   "metadata": {},
   "source": [
    "Partie 2"
   ]
  },
  {
   "cell_type": "code",
   "execution_count": 7,
   "metadata": {},
   "outputs": [
    {
     "data": {
      "text/plain": [
       "((21, 23, 31, 25), 15862900)"
      ]
     },
     "execution_count": 7,
     "metadata": {},
     "output_type": "execute_result"
    }
   ],
   "source": [
    "from ortools.sat.python import cp_model\n",
    "\n",
    "model = cp_model.CpModel()\n",
    "\n",
    "ingredients = get_ingredients(puzzle_input)\n",
    "coefficients = list(zip(*ingredients))\n",
    "\n",
    "alphas = []\n",
    "for i in range(len(ingredients)):\n",
    "    alphas.append(model.NewIntVar(0, 100, f\"{i}\"))\n",
    "\n",
    "# Somme des alphas doit être égal à 1\n",
    "model.Add(cp_model.LinearExpr.Sum(alphas) == 100)\n",
    "\n",
    "# Pour faire le meilleur score il ne faut pas avoir une propriété négative\n",
    "for coeffs in coefficients[:-1]:\n",
    "    model.Add(cp_model.LinearExpr.WeightedSum(alphas, coeffs) >= 0)\n",
    "\n",
    "# Les calories doivent valoir 500\n",
    "calories_coeffs = coefficients[-1]\n",
    "wanted_calories = 500\n",
    "model.Add(cp_model.LinearExpr.WeightedSum(alphas, calories_coeffs) == 500)\n",
    "\n",
    "\n",
    "def evaluate_solution(solution, coefficients):\n",
    "    score = 1\n",
    "\n",
    "    for coeffs in coefficients:\n",
    "        score *= max(0, sum(a * c for a, c in zip(solution, coeffs)))\n",
    "\n",
    "    return score\n",
    "    \n",
    "class ObjectiveSolutionPrinter(cp_model.CpSolverSolutionCallback):\n",
    "    \"\"\"Display the objective value and time of intermediate solutions.\"\"\"\n",
    "\n",
    "    def __init__(self, variables, coefficients):\n",
    "        cp_model.CpSolverSolutionCallback.__init__(self)\n",
    "        self.variables = variables\n",
    "        self.coefficients = coefficients\n",
    "\n",
    "        self.best_solution = None\n",
    "        self.best_solution_score = 0\n",
    "\n",
    "    def on_solution_callback(self):\n",
    "        \"\"\"Called on each new solution.\"\"\"\n",
    "        score = 1\n",
    "\n",
    "        solution = tuple(self.Value(v) for v in self.variables)\n",
    "        solution_score = evaluate_solution(solution, self.coefficients)\n",
    "\n",
    "        if solution_score > self.best_solution_score:\n",
    "            self.best_solution = solution\n",
    "            self.best_solution_score = solution_score\n",
    "\n",
    "solution_printer = ObjectiveSolutionPrinter(alphas, coefficients[:-1])\n",
    "\n",
    "solver = cp_model.CpSolver()\n",
    "solver.parameters.enumerate_all_solutions = True\n",
    "status = solver.Solve(model, solution_printer)\n",
    "\n",
    "(solution_printer.best_solution, solution_printer.best_solution_score)"
   ]
  }
 ],
 "metadata": {
  "kernelspec": {
   "display_name": "Python 3.10.7 ('.venv': venv)",
   "language": "python",
   "name": "python3"
  },
  "language_info": {
   "codemirror_mode": {
    "name": "ipython",
    "version": 3
   },
   "file_extension": ".py",
   "mimetype": "text/x-python",
   "name": "python",
   "nbconvert_exporter": "python",
   "pygments_lexer": "ipython3",
   "version": "3.10.7"
  },
  "orig_nbformat": 4,
  "vscode": {
   "interpreter": {
    "hash": "4f2642356d409a248ba2eb61e484e73059164c254bcfa507bf361b4c5067bddc"
   }
  }
 },
 "nbformat": 4,
 "nbformat_minor": 2
}
