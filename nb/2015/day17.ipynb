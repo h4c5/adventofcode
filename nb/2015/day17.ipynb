{
 "cells": [
  {
   "cell_type": "code",
   "execution_count": 3,
   "metadata": {},
   "outputs": [
    {
     "name": "stdout",
     "output_type": "stream",
     "text": [
      "[43, 3, 4, 10, 21, 44, 4, 6, 47, 41, 34, 17, 17, 44, 36, 31, 46, 9, 27, 38]\n"
     ]
    }
   ],
   "source": [
    "from aocd import get_data\n",
    "\n",
    "puzzle_input = get_data(day=17, year=2015)\n",
    "puzzle_input = list(map(int, puzzle_input.split(\"\\n\")))\n",
    "print(puzzle_input)"
   ]
  },
  {
   "cell_type": "code",
   "execution_count": 5,
   "metadata": {},
   "outputs": [
    {
     "data": {
      "text/plain": [
       "20"
      ]
     },
     "execution_count": 5,
     "metadata": {},
     "output_type": "execute_result"
    }
   ],
   "source": [
    "len(puzzle_input)"
   ]
  },
  {
   "cell_type": "markdown",
   "metadata": {},
   "source": [
    "Part 1"
   ]
  },
  {
   "cell_type": "code",
   "execution_count": 4,
   "metadata": {},
   "outputs": [
    {
     "data": {
      "text/plain": [
       "1638"
      ]
     },
     "execution_count": 4,
     "metadata": {},
     "output_type": "execute_result"
    }
   ],
   "source": [
    "from ortools.sat.python import cp_model\n",
    "\n",
    "model = cp_model.CpModel()\n",
    "\n",
    "coeffs = [\n",
    "    model.NewBoolVar(str(i))\n",
    "    for i in range(len(puzzle_input))\n",
    "]\n",
    "\n",
    "model.Add(cp_model.LinearExpr.WeightedSum(coeffs, puzzle_input) == 150)\n",
    "\n",
    "\n",
    "class SolutionCallback(cp_model.CpSolverSolutionCallback):\n",
    "    def __init__(self):\n",
    "        cp_model.CpSolverSolutionCallback.__init__(self)\n",
    "        self.count = 0\n",
    "\n",
    "    def on_solution_callback(self):\n",
    "        \"\"\"Called on each new solution.\"\"\"\n",
    "        self.count += 1\n",
    "\n",
    "solution_callback = SolutionCallback()\n",
    "\n",
    "solver = cp_model.CpSolver()\n",
    "solver.parameters.enumerate_all_solutions = True\n",
    "status = solver.Solve(model, solution_callback)\n",
    "\n",
    "solution_callback.count"
   ]
  },
  {
   "cell_type": "markdown",
   "metadata": {},
   "source": [
    "Part 2"
   ]
  },
  {
   "cell_type": "code",
   "execution_count": 9,
   "metadata": {},
   "outputs": [
    {
     "data": {
      "text/plain": [
       "17"
      ]
     },
     "execution_count": 9,
     "metadata": {},
     "output_type": "execute_result"
    }
   ],
   "source": [
    "from ortools.sat.python import cp_model\n",
    "\n",
    "model = cp_model.CpModel()\n",
    "\n",
    "coeffs = [\n",
    "    model.NewBoolVar(str(i))\n",
    "    for i in range(len(puzzle_input))\n",
    "]\n",
    "\n",
    "model.Add(cp_model.LinearExpr.WeightedSum(coeffs, puzzle_input) == 150)\n",
    "\n",
    "\n",
    "class SolutionCallback(cp_model.CpSolverSolutionCallback):\n",
    "    def __init__(self, variables):\n",
    "        cp_model.CpSolverSolutionCallback.__init__(self)\n",
    "\n",
    "        self.variables = variables\n",
    "        self.bests_solutions = []\n",
    "        self.best_score = len(variables)\n",
    "\n",
    "    def on_solution_callback(self):\n",
    "        \"\"\"Called on each new solution.\"\"\"\n",
    "        \n",
    "        solution = [self.Value(v) for v in self.variables]\n",
    "        score = sum(solution)\n",
    "\n",
    "        if score < self.best_score:\n",
    "            self.best_score = score\n",
    "            self.bests_solutions = [solution]\n",
    "        elif score == self.best_score:\n",
    "            self.bests_solutions.append(solution)\n",
    "\n",
    "solution_callback = SolutionCallback(coeffs)\n",
    "\n",
    "solver = cp_model.CpSolver()\n",
    "solver.parameters.enumerate_all_solutions = True\n",
    "status = solver.Solve(model, solution_callback)\n",
    "\n",
    "len(solution_callback.bests_solutions)"
   ]
  }
 ],
 "metadata": {
  "kernelspec": {
   "display_name": "Python 3.10.7 ('.venv': venv)",
   "language": "python",
   "name": "python3"
  },
  "language_info": {
   "codemirror_mode": {
    "name": "ipython",
    "version": 3
   },
   "file_extension": ".py",
   "mimetype": "text/x-python",
   "name": "python",
   "nbconvert_exporter": "python",
   "pygments_lexer": "ipython3",
   "version": "3.10.7"
  },
  "orig_nbformat": 4,
  "vscode": {
   "interpreter": {
    "hash": "4f2642356d409a248ba2eb61e484e73059164c254bcfa507bf361b4c5067bddc"
   }
  }
 },
 "nbformat": 4,
 "nbformat_minor": 2
}
