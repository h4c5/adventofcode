{
 "cells": [
  {
   "cell_type": "code",
   "execution_count": 58,
   "metadata": {},
   "outputs": [],
   "source": [
    "from aocd import get_data\n",
    "\n",
    "puzzle_input = get_data(day=19, year=2015)"
   ]
  },
  {
   "cell_type": "code",
   "execution_count": 59,
   "metadata": {},
   "outputs": [
    {
     "name": "stdout",
     "output_type": "stream",
     "text": [
      "['C', 'Rn', 'Ca', 'Ca', 'Ca', 'Si', 'Rn', 'B', 'P', 'Ti', 'Mg', 'Ar', 'Si', 'Rn', 'Si', 'Rn', 'Mg', 'Ar', 'Si', 'Rn', 'Ca', 'F', 'Ar', 'H']\n"
     ]
    }
   ],
   "source": [
    "def parse_molecule(molecule:str):\n",
    "    atomes = []\n",
    "    i = 0\n",
    "    while i < len(molecule):\n",
    "\n",
    "        if i == len(molecule) -1:\n",
    "            atomes.append(molecule[i])\n",
    "            break\n",
    "\n",
    "        if molecule[i].islower() or molecule[i+1].isupper():\n",
    "            atomes.append(molecule[i])\n",
    "            i += 1\n",
    "        else:\n",
    "            atomes.append(molecule[i:i+2])\n",
    "            i += 2\n",
    "        \n",
    "    return atomes\n",
    "\n",
    "print(parse_molecule(\"CRnCaCaCaSiRnBPTiMgArSiRnSiRnMgArSiRnCaFArH\"))"
   ]
  },
  {
   "cell_type": "code",
   "execution_count": 60,
   "metadata": {},
   "outputs": [
    {
     "data": {
      "text/plain": [
       "({'Al': [['Th', 'F'], ['Th', 'Rn', 'F', 'Ar']],\n",
       "  'B': [['B', 'Ca'], ['Ti', 'B'], ['Ti', 'Rn', 'F', 'Ar']],\n",
       "  'Ca': [['Ca', 'Ca'],\n",
       "   ['P', 'B'],\n",
       "   ['P', 'Rn', 'F', 'Ar'],\n",
       "   ['Si', 'Rn', 'F', 'Y', 'F', 'Ar'],\n",
       "   ['Si', 'Rn', 'Mg', 'Ar'],\n",
       "   ['Si', 'Th']],\n",
       "  'F': [['Ca', 'F'], ['P', 'Mg'], ['Si', 'Al']],\n",
       "  'H': [['C', 'Rn', 'Al', 'Ar'],\n",
       "   ['C', 'Rn', 'F', 'Y', 'F', 'Y', 'F', 'Ar'],\n",
       "   ['C', 'Rn', 'F', 'Y', 'Mg', 'Ar'],\n",
       "   ['C', 'Rn', 'Mg', 'Y', 'F', 'Ar'],\n",
       "   ['H', 'Ca'],\n",
       "   ['N', 'Rn', 'F', 'Y', 'F', 'Ar'],\n",
       "   ['N', 'Rn', 'Mg', 'Ar'],\n",
       "   ['N', 'Th'],\n",
       "   ['O', 'B'],\n",
       "   ['O', 'Rn', 'F', 'Ar']],\n",
       "  'Mg': [['B', 'F'], ['Ti', 'Mg']],\n",
       "  'N': [['C', 'Rn', 'F', 'Ar'], ['H', 'Si']],\n",
       "  'O': [['C', 'Rn', 'F', 'Y', 'F', 'Ar'],\n",
       "   ['C', 'Rn', 'Mg', 'Ar'],\n",
       "   ['H', 'P'],\n",
       "   ['N', 'Rn', 'F', 'Ar'],\n",
       "   ['O', 'Ti']],\n",
       "  'P': [['Ca', 'P'], ['P', 'Ti'], ['Si', 'Rn', 'F', 'Ar']],\n",
       "  'Si': [['Ca', 'Si']],\n",
       "  'Th': [['Th', 'Ca']],\n",
       "  'Ti': [['B', 'P'], ['Ti', 'Ti']],\n",
       "  'e': [['H', 'F'], ['N', 'Al'], ['O', 'Mg']]},\n",
       " 'CRnCaCaCaSiRnBPTiMgArSiRnSiRnMgArSiRnCaFArTiTiBSiThFYCaFArCaCaSiThCaPBSiThSiThCaCaPTiRnPBSiThRnFArArCaCaSiThCaSiThSiRnMgArCaPTiBPRnFArSiThCaSiRnFArBCaSiRnCaPRnFArPMgYCaFArCaPTiTiTiBPBSiThCaPTiBPBSiRnFArBPBSiRnCaFArBPRnSiRnFArRnSiRnBFArCaFArCaCaCaSiThSiThCaCaPBPTiTiRnFArCaPTiBSiAlArPBCaCaCaCaCaSiRnMgArCaSiThFArThCaSiThCaSiRnCaFYCaSiRnFYFArFArCaSiRnFYFArCaSiRnBPMgArSiThPRnFArCaSiRnFArTiRnSiRnFYFArCaSiRnBFArCaSiRnTiMgArSiThCaSiThCaFArPRnFArSiRnFArTiTiTiTiBCaCaSiRnCaCaFYFArSiThCaPTiBPTiBCaSiThSiRnMgArCaF')"
      ]
     },
     "execution_count": 60,
     "metadata": {},
     "output_type": "execute_result"
    }
   ],
   "source": [
    "def parse_input(input_text:str):\n",
    "    replacements, molecule = input_text.strip().split(\"\\n\\n\")\n",
    "\n",
    "    replacements = [replacement.split(\" => \") for replacement in replacements.split(\"\\n\")]\n",
    "    replacements_dict = {}\n",
    "    for atom, replace in replacements:\n",
    "        if atom in replacements_dict:\n",
    "            replacements_dict[atom].append(parse_molecule(replace))\n",
    "        else:\n",
    "            replacements_dict[atom] = [parse_molecule(replace)]\n",
    "\n",
    "    return replacements_dict, molecule\n",
    "\n",
    "puzzle_replacements, puzzle_molecule = parse_input(puzzle_input)\n",
    "puzzle_replacements, puzzle_molecule"
   ]
  },
  {
   "cell_type": "code",
   "execution_count": 61,
   "metadata": {},
   "outputs": [
    {
     "data": {
      "text/plain": [
       "({'H': [['H', 'O'], ['O', 'H']], 'O': [['H', 'H']]}, 'HOHOHO')"
      ]
     },
     "execution_count": 61,
     "metadata": {},
     "output_type": "execute_result"
    }
   ],
   "source": [
    "example_replacements, example_molecule = parse_input(\"\"\"\n",
    "H => HO\n",
    "H => OH\n",
    "O => HH\n",
    "\n",
    "HOHOHO\n",
    "\"\"\")\n",
    "\n",
    "example_replacements, example_molecule"
   ]
  },
  {
   "cell_type": "code",
   "execution_count": 62,
   "metadata": {},
   "outputs": [],
   "source": [
    "from itertools import chain\n",
    "\n",
    "replacements = example_replacements\n",
    "molecule = example_molecule\n",
    "\n",
    "def count_molecules(replacements, molecule):\n",
    "    possibilites = set()\n",
    "    molecule = parse_molecule(molecule)\n",
    "    for i, atome in enumerate(molecule):\n",
    "        if atome in replacements:\n",
    "            for replacement in replacements[atome]:\n",
    "                possibilites.add(\"\".join(chain.from_iterable([molecule[:i], replacement, molecule[i+1:]])))\n",
    "\n",
    "    return len(possibilites)"
   ]
  },
  {
   "cell_type": "code",
   "execution_count": 63,
   "metadata": {},
   "outputs": [
    {
     "data": {
      "text/plain": [
       "535"
      ]
     },
     "execution_count": 63,
     "metadata": {},
     "output_type": "execute_result"
    }
   ],
   "source": [
    "count_molecules(puzzle_replacements, puzzle_molecule)"
   ]
  },
  {
   "cell_type": "code",
   "execution_count": 64,
   "metadata": {},
   "outputs": [],
   "source": [
    "def generate_molecules(replacements, molecule):\n",
    "    possibilites = set()\n",
    "    molecule = parse_molecule(molecule)\n",
    "    for i, atome in enumerate(molecule):\n",
    "        if atome in replacements:\n",
    "            for replacement in replacements[atome]:\n",
    "                possibilites.add(\"\".join(chain.from_iterable([molecule[:i], replacement, molecule[i+1:]])))\n",
    "\n",
    "    return possibilites"
   ]
  },
  {
   "cell_type": "code",
   "execution_count": 65,
   "metadata": {},
   "outputs": [
    {
     "data": {
      "text/plain": [
       "({'e': [['H'], ['O']], 'H': [['H', 'O'], ['O', 'H']], 'O': [['H', 'H']]}, 'e')"
      ]
     },
     "execution_count": 65,
     "metadata": {},
     "output_type": "execute_result"
    }
   ],
   "source": [
    "example_replacements, example_molecule = parse_input(\"\"\"\n",
    "e => H\n",
    "e => O\n",
    "H => HO\n",
    "H => OH\n",
    "O => HH\n",
    "\n",
    "e\n",
    "\"\"\")\n",
    "example_replacements, example_molecule"
   ]
  },
  {
   "cell_type": "code",
   "execution_count": 66,
   "metadata": {},
   "outputs": [
    {
     "data": {
      "text/plain": [
       "{'H', 'O'}"
      ]
     },
     "execution_count": 66,
     "metadata": {},
     "output_type": "execute_result"
    }
   ],
   "source": [
    "generate_molecules(example_replacements, example_molecule)"
   ]
  },
  {
   "cell_type": "code",
   "execution_count": 91,
   "metadata": {},
   "outputs": [
    {
     "data": {
      "text/plain": [
       "6"
      ]
     },
     "execution_count": 91,
     "metadata": {},
     "output_type": "execute_result"
    }
   ],
   "source": [
    "from heapq import heappush, heappop\n",
    "\n",
    "def find_molecule(target_molecule, replacements):\n",
    "\n",
    "    generated_molecules = []\n",
    "    heappush(generated_molecules, (0, \"e\"))\n",
    "    \n",
    "    i = 0\n",
    "    while True:\n",
    "        i += 1\n",
    "\n",
    "        steps, molecule = heappop(generated_molecules)\n",
    "\n",
    "        if i % 10000 == 0:\n",
    "            print(steps, molecule)\n",
    "\n",
    "        if molecule == target_molecule:\n",
    "            return steps\n",
    "        elif len(molecule) > 2*len(target_molecule):\n",
    "            raise Exception(\"introuvable\")\n",
    "\n",
    "        for new_molecule in generate_molecules(replacements, molecule):\n",
    "            heappush(generated_molecules, (steps +1, new_molecule))\n",
    "\n",
    "find_molecule(\"HOHOHO\", example_replacements)"
   ]
  },
  {
   "cell_type": "code",
   "execution_count": 88,
   "metadata": {},
   "outputs": [
    {
     "data": {
      "text/plain": [
       "'CRnCaCaCaSiRnBPTiMgArSiRnSiRnMgArSiRnCaFArTiTiBSiThFYCaFArCaCaSiThCaPBSiThSiThCaCaPTiRnPBSiThRnFArArCaCaSiThCaSiThSiRnMgArCaPTiBPRnFArSiThCaSiRnFArBCaSiRnCaPRnFArPMgYCaFArCaPTiTiTiBPBSiThCaPTiBPBSiRnFArBPBSiRnCaFArBPRnSiRnFArRnSiRnBFArCaFArCaCaCaSiThSiThCaCaPBPTiTiRnFArCaPTiBSiAlArPBCaCaCaCaCaSiRnMgArCaSiThFArThCaSiThCaSiRnCaFYCaSiRnFYFArFArCaSiRnFYFArCaSiRnBPMgArSiThPRnFArCaSiRnFArTiRnSiRnFYFArCaSiRnBFArCaSiRnTiMgArSiThCaSiThCaFArPRnFArSiRnFArTiTiTiTiBCaCaSiRnCaCaFYFArSiThCaPTiBPTiBCaSiThSiRnMgArCaF'"
      ]
     },
     "execution_count": 88,
     "metadata": {},
     "output_type": "execute_result"
    }
   ],
   "source": [
    "puzzle_molecule"
   ]
  },
  {
   "cell_type": "code",
   "execution_count": 92,
   "metadata": {},
   "outputs": [
    {
     "name": "stdout",
     "output_type": "stream",
     "text": [
      "5 CRnFYPBFYFArSiAl\n",
      "5 HSiRnMgArPBF\n",
      "5 OTiRnFArCaSiAl\n",
      "6 CRnAlArSiRnTiMgArSiAl\n",
      "6 CRnBSiRnMgArFYFArSiAl\n",
      "6 CRnCaFYFYFArCaSiThRnFAr\n",
      "6 CRnCaPMgArRnMgArCaF\n",
      "6 CRnFArRnCaCaFArBF\n",
      "6 CRnFArRnPMgYFArSiThF\n",
      "6 CRnFYBSiThCaFArF\n",
      "6 CRnFYCaSiThRnFArYFArSiAl\n",
      "6 CRnFYFYCaCaFArSiRnFArMg\n",
      "6 CRnFYFYFArSiRnFArTiTiMg\n",
      "6 CRnFYFYSiRnMgArFArSiRnFYFArF\n",
      "6 CRnFYMgArSiRnPMgArTiMg\n",
      "6 CRnFYPRnFArPMgArBF\n",
      "6 CRnFYSiRnMgArSiAlArBF\n",
      "6 CRnMgArRnFArCaPTiMg\n",
      "6 CRnMgYFArCaPBSiAl\n",
      "6 CRnMgYFArSiThSiThF\n",
      "6 CRnPBFYMgArPBF\n",
      "6 CRnPMgYFYFArPTiTiMg\n",
      "6 CRnPRnFArFYFYFArSiRnFYFArF\n",
      "6 CRnSiAlYFArRnFArPRnFArF\n",
      "6 CRnSiAlYSiThFArBF\n",
      "6 CRnSiRnMgArSiRnFYFArFYFArMg\n",
      "6 CRnThFArSiThPMg\n",
      "6 CRnTiMgYSiAlArSiThRnFAr\n",
      "6 HCaSiThCaRnCaFAr\n",
      "6 HPRnPRnFArFArCaF\n",
      "6 HSiRnFArBPBF\n",
      "6 HSiRnMgArPBPMg\n",
      "6 HSiThCaSiThRnFAr\n",
      "6 NRnCaFYFArCaPTiMg\n",
      "6 NRnFArRnCaFArSiThF\n",
      "6 NRnFYFArCaCaCaPMg\n",
      "6 NRnFYFArSiThPRnFArF\n",
      "6 NRnMgArCaSiThCaF\n",
      "6 NRnPBFYSiAlArPMg\n",
      "6 NRnSiAlYCaPMgArPMg\n",
      "6 NRnTiBFArPBF\n",
      "6 NThPTiTiRnFArF\n",
      "6 OBCaSiThCaF\n",
      "6 OBSiRnSiAlYFArSiAl\n",
      "6 ORnFArPTiBSiAl\n",
      "6 ORnSiAlArPTiBF\n",
      "6 OTiRnFArSiRnFYFArPMg\n",
      "7 CRnAlArCaCaSiRnPMgArMg\n",
      "7 CRnAlArCaPTiBPMg\n",
      "7 CRnAlArCaSiRnFYFArPBF\n",
      "7 CRnAlArCaSiThCaRnCaFAr\n",
      "7 CRnAlArPBPRnFArCaF\n",
      "7 CRnAlArPRnCaFArCaSiAl\n",
      "7 CRnAlArPRnFArSiRnMgArSiAl\n",
      "7 CRnAlArPTiBPBF\n",
      "7 CRnAlArPTiRnSiAlArPMg\n",
      "7 CRnAlArSiRnCaFYFArCaPMg\n",
      "7 CRnAlArSiRnFArRnCaFArPMg\n",
      "7 CRnAlArSiRnFYCaPTiMgArF\n",
      "7 CRnAlArSiRnFYFArSiThSiAl\n",
      "7 CRnAlArSiRnMgArPBPMg\n",
      "7 CRnAlArSiRnPMgArTiTiMg\n",
      "7 CRnAlArSiRnSiAlYPMgArSiAl\n",
      "7 CRnAlArSiThCaPBF\n",
      "7 CRnAlArSiThSiRnCaFYFArF\n",
      "7 CRnBCaFYCaFArCaCaF\n",
      "7 CRnBCaPMgYFArPRnFArF\n",
      "7 CRnBFArBSiRnMgArPMg\n",
      "7 CRnBFArTiBCaSiAl\n",
      "7 CRnBFYCaFArCaSiThRnFAr\n"
     ]
    },
    {
     "ename": "KeyboardInterrupt",
     "evalue": "",
     "output_type": "error",
     "traceback": [
      "\u001b[0;31m---------------------------------------------------------------------------\u001b[0m",
      "\u001b[0;31mKeyboardInterrupt\u001b[0m                         Traceback (most recent call last)",
      "Cell \u001b[0;32mIn [92], line 1\u001b[0m\n\u001b[0;32m----> 1\u001b[0m \u001b[43mfind_molecule\u001b[49m\u001b[43m(\u001b[49m\u001b[43mpuzzle_molecule\u001b[49m\u001b[43m,\u001b[49m\u001b[43m \u001b[49m\u001b[43mpuzzle_replacements\u001b[49m\u001b[43m)\u001b[49m\n",
      "Cell \u001b[0;32mIn [91], line 23\u001b[0m, in \u001b[0;36mfind_molecule\u001b[0;34m(target_molecule, replacements)\u001b[0m\n\u001b[1;32m     20\u001b[0m     \u001b[38;5;28;01mraise\u001b[39;00m \u001b[38;5;167;01mException\u001b[39;00m(\u001b[38;5;124m\"\u001b[39m\u001b[38;5;124mintrouvable\u001b[39m\u001b[38;5;124m\"\u001b[39m)\n\u001b[1;32m     22\u001b[0m \u001b[38;5;28;01mfor\u001b[39;00m new_molecule \u001b[38;5;129;01min\u001b[39;00m generate_molecules(replacements, molecule):\n\u001b[0;32m---> 23\u001b[0m     \u001b[43mheappush\u001b[49m\u001b[43m(\u001b[49m\u001b[43mgenerated_molecules\u001b[49m\u001b[43m,\u001b[49m\u001b[43m \u001b[49m\u001b[43m(\u001b[49m\u001b[43msteps\u001b[49m\u001b[43m \u001b[49m\u001b[38;5;241;43m+\u001b[39;49m\u001b[38;5;241;43m1\u001b[39;49m\u001b[43m,\u001b[49m\u001b[43m \u001b[49m\u001b[43mnew_molecule\u001b[49m\u001b[43m)\u001b[49m\u001b[43m)\u001b[49m\n",
      "\u001b[0;31mKeyboardInterrupt\u001b[0m: "
     ]
    }
   ],
   "source": [
    "find_molecule(puzzle_molecule, puzzle_replacements)"
   ]
  }
 ],
 "metadata": {
  "kernelspec": {
   "display_name": "Python 3.10.7 ('.venv': venv)",
   "language": "python",
   "name": "python3"
  },
  "language_info": {
   "codemirror_mode": {
    "name": "ipython",
    "version": 3
   },
   "file_extension": ".py",
   "mimetype": "text/x-python",
   "name": "python",
   "nbconvert_exporter": "python",
   "pygments_lexer": "ipython3",
   "version": "3.10.7"
  },
  "orig_nbformat": 4,
  "vscode": {
   "interpreter": {
    "hash": "4f2642356d409a248ba2eb61e484e73059164c254bcfa507bf361b4c5067bddc"
   }
  }
 },
 "nbformat": 4,
 "nbformat_minor": 2
}
