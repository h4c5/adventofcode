{
 "cells": [
  {
   "cell_type": "code",
   "execution_count": 100,
   "metadata": {},
   "outputs": [
    {
     "name": "stdout",
     "output_type": "stream",
     "text": [
      "34000000\n"
     ]
    }
   ],
   "source": [
    "from aocd import get_data\n",
    "\n",
    "puzzle_input = int(get_data(day=20, year=2015))\n",
    "print(puzzle_input)"
   ]
  },
  {
   "cell_type": "code",
   "execution_count": 124,
   "metadata": {},
   "outputs": [
    {
     "data": {
      "text/plain": [
       "786240"
      ]
     },
     "execution_count": 124,
     "metadata": {},
     "output_type": "execute_result"
    }
   ],
   "source": [
    "\n",
    "def naive(wanted_presents):\n",
    "    wanted_presents = wanted_presents // 10\n",
    "    max_n = wanted_presents\n",
    "    houses = [0] * max_n\n",
    "    for i in range(1, max_n):\n",
    "        for j in range(i, max_n, i):\n",
    "            houses[j] += i\n",
    "\n",
    "    for n, g in enumerate(houses):\n",
    "        if g >= wanted_presents:\n",
    "            return n\n",
    "            \n",
    "naive(puzzle_input)\n",
    "        "
   ]
  },
  {
   "cell_type": "code",
   "execution_count": 127,
   "metadata": {},
   "outputs": [
    {
     "data": {
      "text/plain": [
       "831600"
      ]
     },
     "execution_count": 127,
     "metadata": {},
     "output_type": "execute_result"
    }
   ],
   "source": [
    "\n",
    "def naive_is_better_2(wanted_presents):\n",
    "    wanted_presents = wanted_presents // 11\n",
    "    max_n = wanted_presents\n",
    "    houses = [0] * max_n\n",
    "    for i in range(1, max_n):\n",
    "        counter = 0\n",
    "        for j in range(i, max_n, i):\n",
    "            houses[j] += i\n",
    "            counter += 1\n",
    "            if counter >= 50:\n",
    "                break\n",
    "\n",
    "    for n, g in enumerate(houses):\n",
    "        if g >= wanted_presents:\n",
    "            return n\n",
    "            \n",
    "naive_is_better_2(puzzle_input)\n",
    "        "
   ]
  },
  {
   "cell_type": "markdown",
   "metadata": {},
   "source": [
    "# Annexes\n",
    "\n"
   ]
  },
  {
   "cell_type": "code",
   "execution_count": 118,
   "metadata": {},
   "outputs": [
    {
     "data": {
      "text/plain": [
       "130"
      ]
     },
     "execution_count": 118,
     "metadata": {},
     "output_type": "execute_result"
    }
   ],
   "source": [
    "from itertools import combinations\n",
    "from functools import lru_cache\n",
    "\n",
    "@lru_cache(maxsize=None)\n",
    "def prime_factors(n:int):\n",
    "    for f in range(2, n):\n",
    "        if n % f == 0:\n",
    "            return prime_factors(n // f) + (f,)\n",
    "        \n",
    "    return (n,)\n",
    "\n",
    "def stop_product(factors, stop):\n",
    "    p = 1\n",
    "    for f in factors:\n",
    "        p *= f\n",
    "        if p > stop:\n",
    "            return None\n",
    "    return p\n",
    "\n",
    "\n",
    "def get_divisors(number:int):\n",
    "    factors = prime_factors(number)\n",
    "    divisors = {1, *factors, number}\n",
    "    for i in range(2, len(factors)):\n",
    "        for subfactors in combinations(factors, i):\n",
    "            p = stop_product(subfactors, number)\n",
    "            if p :\n",
    "                divisors.add(p)\n",
    "    return divisors\n",
    "\n",
    "def count_presents(number:int):\n",
    "    return 10 * sum(get_divisors(number))\n",
    "\n",
    "\n",
    "count_presents(9)"
   ]
  }
 ],
 "metadata": {
  "kernelspec": {
   "display_name": "Python 3.10.7 ('.venv': venv)",
   "language": "python",
   "name": "python3"
  },
  "language_info": {
   "codemirror_mode": {
    "name": "ipython",
    "version": 3
   },
   "file_extension": ".py",
   "mimetype": "text/x-python",
   "name": "python",
   "nbconvert_exporter": "python",
   "pygments_lexer": "ipython3",
   "version": "3.10.7"
  },
  "orig_nbformat": 4,
  "vscode": {
   "interpreter": {
    "hash": "4f2642356d409a248ba2eb61e484e73059164c254bcfa507bf361b4c5067bddc"
   }
  }
 },
 "nbformat": 4,
 "nbformat_minor": 2
}
