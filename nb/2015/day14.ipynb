{
 "cells": [
  {
   "cell_type": "code",
   "execution_count": 1,
   "metadata": {},
   "outputs": [],
   "source": [
    "from aocd import get_data\n",
    "\n",
    "puzzle_input = get_data(day=14, year=2015)"
   ]
  },
  {
   "cell_type": "code",
   "execution_count": 3,
   "metadata": {},
   "outputs": [
    {
     "name": "stdout",
     "output_type": "stream",
     "text": [
      "Vixen can fly 8 km/s for 8 seconds, but then must rest for 53 seconds.\n",
      "Blitzen can fly 13 km/s for 4 seconds, but then must rest for 49 seconds.\n",
      "Rudolph can fly 20 km/s for 7 seconds, but then must rest for 132 seconds.\n",
      "Cupid can fly 12 km/s for 4 seconds, but then must rest for 43 seconds.\n",
      "Donner can fly 9 km/s for 5 seconds, but then must rest for 38 seconds.\n",
      "Dasher can fly 10 km/s for 4 seconds, but then must rest for 37 seconds.\n",
      "Comet can fly 3 km/s for 37 seconds, but then must rest for 76 seconds.\n",
      "Prancer can fly 9 km/s for 12 seconds, but then must rest for 97 seconds.\n",
      "Dancer can fly 37 km/s for 1 seconds, but then must rest for 36 seconds.\n"
     ]
    }
   ],
   "source": [
    "print(puzzle_input)"
   ]
  },
  {
   "cell_type": "code",
   "execution_count": null,
   "metadata": {},
   "outputs": [],
   "source": []
  },
  {
   "cell_type": "code",
   "execution_count": 15,
   "metadata": {},
   "outputs": [
    {
     "data": {
      "text/plain": [
       "[('Vixen', '8', '8', '53'),\n",
       " ('Blitzen', '13', '4', '49'),\n",
       " ('Rudolph', '20', '7', '132'),\n",
       " ('Cupid', '12', '4', '43'),\n",
       " ('Donner', '9', '5', '38'),\n",
       " ('Dasher', '10', '4', '37'),\n",
       " ('Comet', '3', '37', '76'),\n",
       " ('Prancer', '9', '12', '97'),\n",
       " ('Dancer', '37', '1', '36')]"
      ]
     },
     "execution_count": 15,
     "metadata": {},
     "output_type": "execute_result"
    }
   ],
   "source": [
    "import re\n",
    "\n",
    "pattern = re.compile(r\"(\\w+) can fly (\\d+) km/s for (\\d+) seconds, but then must rest for (\\d+) seconds.\")\n",
    "\n",
    "def decompose_instructions(instructions):\n",
    "    return [pattern.match(s).groups() for s in instructions.strip().split(\"\\n\")]\n",
    "\n",
    "decompose_instructions(puzzle_input)"
   ]
  },
  {
   "cell_type": "code",
   "execution_count": 17,
   "metadata": {},
   "outputs": [
    {
     "data": {
      "text/plain": [
       "[Vixen(s=8, d=8, r=53),\n",
       " Blitzen(s=13, d=4, r=49),\n",
       " Rudolph(s=20, d=7, r=132),\n",
       " Cupid(s=12, d=4, r=43),\n",
       " Donner(s=9, d=5, r=38),\n",
       " Dasher(s=10, d=4, r=37),\n",
       " Comet(s=3, d=37, r=76),\n",
       " Prancer(s=9, d=12, r=97),\n",
       " Dancer(s=37, d=1, r=36)]"
      ]
     },
     "execution_count": 17,
     "metadata": {},
     "output_type": "execute_result"
    }
   ],
   "source": [
    "class Comet:\n",
    "    def __init__(self, name:str, speed:str, duration: str, rest:str):\n",
    "        self.name = name\n",
    "        self.speed = int(speed)\n",
    "        self.duration = int(duration)\n",
    "        self.rest = int(rest)\n",
    "\n",
    "        self.cycle = self.duration + self.rest\n",
    "\n",
    "    def distance_at(self, time:int):\n",
    "        n_cycles = time // self.cycle\n",
    "        remaining = time % self.cycle\n",
    "        \n",
    "        return (\n",
    "            n_cycles * self.duration * self.speed \n",
    "            + min(self.duration, remaining) * self.speed \n",
    "        )\n",
    "    def __repr__(self):\n",
    "        return f\"{self.name}(s={self.speed}, d={self.duration}, r={self.rest})\"\n",
    "\n",
    "puzzle_comets = [Comet(*args) for args in decompose_instructions(puzzle_input)]\n",
    "puzzle_comets"
   ]
  },
  {
   "cell_type": "code",
   "execution_count": 20,
   "metadata": {},
   "outputs": [
    {
     "data": {
      "text/plain": [
       "[(2655, 'Donner'),\n",
       " (2640, 'Vixen'),\n",
       " (2592, 'Cupid'),\n",
       " (2540, 'Rudolph'),\n",
       " (2516, 'Dancer'),\n",
       " (2496, 'Blitzen'),\n",
       " (2493, 'Comet'),\n",
       " (2484, 'Prancer'),\n",
       " (2460, 'Dasher')]"
      ]
     },
     "execution_count": 20,
     "metadata": {},
     "output_type": "execute_result"
    }
   ],
   "source": [
    "T = 2503\n",
    "sorted([(c.distance_at(T), c.name) for c in puzzle_comets], reverse=True)"
   ]
  },
  {
   "cell_type": "markdown",
   "metadata": {},
   "source": [
    "Partie 2"
   ]
  },
  {
   "cell_type": "code",
   "execution_count": 31,
   "metadata": {},
   "outputs": [],
   "source": [
    "class CometRace:\n",
    "    def __init__(self, name:str, speed:str, duration: str, rest:str):\n",
    "        self.name = name\n",
    "        self.speed = int(speed)\n",
    "\n",
    "        self.duration = int(duration)\n",
    "        self.rest = int(rest)\n",
    "        self.cycle = self.duration + self.rest\n",
    "\n",
    "        self.distance = 0\n",
    "        self.pts = 0\n",
    "    \n",
    "    def update(self, t):\n",
    "        if t % self.cycle < self.duration:\n",
    "            self.distance += self.speed\n",
    "        \n",
    "        return self.distance\n",
    "\n",
    "    def __repr__(self):\n",
    "        return f\"{self.name}({self.pts})\"\n",
    "    "
   ]
  },
  {
   "cell_type": "code",
   "execution_count": 32,
   "metadata": {},
   "outputs": [
    {
     "name": "stdout",
     "output_type": "stream",
     "text": [
      "[Vixen(1059), Blitzen(5), Rudolph(887), Cupid(13), Donner(414), Dasher(0), Comet(22), Prancer(153), Dancer(1)]\n"
     ]
    }
   ],
   "source": [
    "puzzle_comets = [CometRace(*args) for args in decompose_instructions(puzzle_input)]\n",
    "puzzle_comets\n",
    "\n",
    "for t in range(T):\n",
    "    best_dist = max(c.update(t) for c in puzzle_comets)\n",
    "    for c in puzzle_comets:\n",
    "        if c.distance == best_dist:\n",
    "            c.pts += 1\n",
    "\n",
    "print(puzzle_comets)        "
   ]
  },
  {
   "cell_type": "code",
   "execution_count": null,
   "metadata": {},
   "outputs": [],
   "source": []
  }
 ],
 "metadata": {
  "kernelspec": {
   "display_name": "Python 3.9.13 ('.venv': venv)",
   "language": "python",
   "name": "python3"
  },
  "language_info": {
   "codemirror_mode": {
    "name": "ipython",
    "version": 3
   },
   "file_extension": ".py",
   "mimetype": "text/x-python",
   "name": "python",
   "nbconvert_exporter": "python",
   "pygments_lexer": "ipython3",
   "version": "3.9.13"
  },
  "orig_nbformat": 4,
  "vscode": {
   "interpreter": {
    "hash": "286a45cf4a6724ce9ee6ff4c11a7a2d7e38c2bcafb9db046ad7eccbcdfbe501e"
   }
  }
 },
 "nbformat": 4,
 "nbformat_minor": 2
}
