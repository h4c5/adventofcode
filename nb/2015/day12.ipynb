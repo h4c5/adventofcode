{
 "cells": [
  {
   "cell_type": "code",
   "execution_count": 1,
   "metadata": {},
   "outputs": [],
   "source": [
    "from aocd import get_data\n",
    "\n",
    "puzzle_input = get_data(day=12, year=2015)"
   ]
  },
  {
   "cell_type": "code",
   "execution_count": 3,
   "metadata": {},
   "outputs": [
    {
     "data": {
      "text/plain": [
       "'[[\"green\",[{\"e\":\"green\",\"a\":77,\"d\":{\"c\":\"violet\",\"'"
      ]
     },
     "execution_count": 3,
     "metadata": {},
     "output_type": "execute_result"
    }
   ],
   "source": [
    "puzzle_input[:50]"
   ]
  },
  {
   "cell_type": "code",
   "execution_count": 26,
   "metadata": {},
   "outputs": [
    {
     "name": "stdout",
     "output_type": "stream",
     "text": [
      "[1,2,3] 6\n",
      "{\"a\":2,\"b\":4} 6\n",
      "[[[3]]] 3\n",
      "[-1,{\"a\":1}] 0\n"
     ]
    }
   ],
   "source": [
    "import json\n",
    "\n",
    "def sum_all(d):\n",
    "    if isinstance(d, list):\n",
    "        return sum(sum_all(e) for e in d)\n",
    "    elif isinstance(d, dict):\n",
    "            return sum(sum_all(v) for v in d.values())\n",
    "    elif isinstance(d, int):\n",
    "        return d\n",
    "    else:\n",
    "        return 0\n",
    "        \n",
    "for ex in (\n",
    "    \"[1,2,3]\",\n",
    "    '{\"a\":2,\"b\":4}',\n",
    "    \"[[[3]]]\",\n",
    "    '[-1,{\"a\":1}]'\n",
    "):\n",
    "    print(ex, sum_all(json.loads(ex)))"
   ]
  },
  {
   "cell_type": "code",
   "execution_count": 25,
   "metadata": {},
   "outputs": [
    {
     "data": {
      "text/plain": [
       "191164"
      ]
     },
     "execution_count": 25,
     "metadata": {},
     "output_type": "execute_result"
    }
   ],
   "source": [
    "sum_all(json.loads(puzzle_input))"
   ]
  },
  {
   "cell_type": "code",
   "execution_count": 22,
   "metadata": {},
   "outputs": [
    {
     "name": "stdout",
     "output_type": "stream",
     "text": [
      "{\"d\":\"red\",\"e\":[1,2,3,4],\"f\":5} 0\n",
      "[1,{\"c\":\"red\",\"b\":2},3] 4\n"
     ]
    }
   ],
   "source": [
    "def sum_no_red(d):\n",
    "    if isinstance(d, list):\n",
    "        return sum(sum_no_red(e) for e in d)\n",
    "    elif isinstance(d, dict):\n",
    "        if \"red\" in {v for v in d.values() if isinstance(v, str)}:\n",
    "            return 0\n",
    "        else:\n",
    "            return sum(sum_no_red(v) for v in d.values())\n",
    "    elif isinstance(d, int):\n",
    "        return d\n",
    "    else:\n",
    "        return 0\n",
    "\n",
    "for ex in (\n",
    "    '{\"d\":\"red\",\"e\":[1,2,3,4],\"f\":5}',\n",
    "    '[1,{\"c\":\"red\",\"b\":2},3]'\n",
    "):\n",
    "    print(ex, sum_no_red(json.loads(ex)))"
   ]
  },
  {
   "cell_type": "code",
   "execution_count": 23,
   "metadata": {},
   "outputs": [
    {
     "data": {
      "text/plain": [
       "87842"
      ]
     },
     "execution_count": 23,
     "metadata": {},
     "output_type": "execute_result"
    }
   ],
   "source": [
    "sum_no_red(json.loads(puzzle_input))"
   ]
  }
 ],
 "metadata": {
  "kernelspec": {
   "display_name": "Python 3.10.7 ('.venv': venv)",
   "language": "python",
   "name": "python3"
  },
  "language_info": {
   "codemirror_mode": {
    "name": "ipython",
    "version": 3
   },
   "file_extension": ".py",
   "mimetype": "text/x-python",
   "name": "python",
   "nbconvert_exporter": "python",
   "pygments_lexer": "ipython3",
   "version": "3.10.7"
  },
  "orig_nbformat": 4,
  "vscode": {
   "interpreter": {
    "hash": "4f2642356d409a248ba2eb61e484e73059164c254bcfa507bf361b4c5067bddc"
   }
  }
 },
 "nbformat": 4,
 "nbformat_minor": 2
}
