{
 "cells": [
  {
   "cell_type": "code",
   "execution_count": 80,
   "metadata": {},
   "outputs": [],
   "source": [
    "from aocd import get_data\n",
    "\n",
    "puzzle_input = get_data(day=7, year=2015)"
   ]
  },
  {
   "cell_type": "code",
   "execution_count": 81,
   "metadata": {},
   "outputs": [
    {
     "data": {
      "text/plain": [
       "['NOT dq -> dr',\n",
       " 'kg OR kf -> kh',\n",
       " 'ep OR eo -> eq',\n",
       " '44430 -> b',\n",
       " 'NOT gs -> gt',\n",
       " 'dd OR do -> dp',\n",
       " 'eg AND ei -> ej',\n",
       " 'y AND ae -> ag',\n",
       " 'jx AND jz -> ka',\n",
       " 'lf RSHIFT 2 -> lg']"
      ]
     },
     "execution_count": 81,
     "metadata": {},
     "output_type": "execute_result"
    }
   ],
   "source": [
    "puzzle_input.split(\"\\n\")[:10]"
   ]
  },
  {
   "cell_type": "code",
   "execution_count": 82,
   "metadata": {},
   "outputs": [
    {
     "data": {
      "text/plain": [
       "['123 -> x',\n",
       " '456 -> y',\n",
       " 'x AND y -> d',\n",
       " 'x OR y -> e',\n",
       " 'x LSHIFT 2 -> f',\n",
       " 'y RSHIFT 2 -> g',\n",
       " 'NOT x -> h',\n",
       " 'NOT y -> i']"
      ]
     },
     "execution_count": 82,
     "metadata": {},
     "output_type": "execute_result"
    }
   ],
   "source": [
    "example_input = \"\"\"123 -> x\n",
    "456 -> y\n",
    "x AND y -> d\n",
    "x OR y -> e\n",
    "x LSHIFT 2 -> f\n",
    "y RSHIFT 2 -> g\n",
    "NOT x -> h\n",
    "NOT y -> i\"\"\"\n",
    "\n",
    "example_input.split(\"\\n\")"
   ]
  },
  {
   "cell_type": "code",
   "execution_count": 83,
   "metadata": {},
   "outputs": [],
   "source": [
    "def get_assignments(instructions):\n",
    "    if isinstance(instructions, str):\n",
    "        instructions = instructions.split(\"\\n\")\n",
    "    else:\n",
    "        assert isinstance(instructions, list)\n",
    "\n",
    "    assignements = {}\n",
    "    for instruction in instructions:\n",
    "        gate, x = instruction.strip().split(\" -> \")\n",
    "\n",
    "        if x in assignements:\n",
    "            print(\"WARNING\", instruction, assignements[x])\n",
    "\n",
    "        assignements[x] = gate\n",
    "\n",
    "    return assignements\n"
   ]
  },
  {
   "cell_type": "code",
   "execution_count": 84,
   "metadata": {},
   "outputs": [
    {
     "data": {
      "text/plain": [
       "{'x': '123',\n",
       " 'y': '456',\n",
       " 'd': 'x AND y',\n",
       " 'e': 'x OR y',\n",
       " 'f': 'x LSHIFT 2',\n",
       " 'g': 'y RSHIFT 2',\n",
       " 'h': 'NOT x',\n",
       " 'i': 'NOT y'}"
      ]
     },
     "execution_count": 84,
     "metadata": {},
     "output_type": "execute_result"
    }
   ],
   "source": [
    "example_assignments = get_assignments(example_input)\n",
    "example_assignments"
   ]
  },
  {
   "cell_type": "code",
   "execution_count": 88,
   "metadata": {},
   "outputs": [],
   "source": [
    "MASQUE_16BIT = int(\"1\"*16, 2)\n",
    "\n",
    "def as_int(s):\n",
    "    try:\n",
    "        return int(s)\n",
    "    except ValueError:\n",
    "        return None\n",
    "\n",
    "def evaluate_variable(assignements, variable, values=None):\n",
    "    if values is None:\n",
    "        values = {}\n",
    "    elif variable in values:\n",
    "        return values\n",
    "    \n",
    "    instruction = assignements[variable]\n",
    "\n",
    "    if \"AND\" in instruction:\n",
    "        x, y = instruction.split(\" AND \")\n",
    "\n",
    "        v_x = as_int(x)\n",
    "        if v_x is None:\n",
    "            evaluate_variable(assignements, x, values=values)\n",
    "            v_x = values[x]\n",
    "\n",
    "        v_y = as_int(y)\n",
    "        if v_y is None:\n",
    "            evaluate_variable(assignements, y, values=values)\n",
    "            v_y = values[y]\n",
    "\n",
    "        values[variable] = v_x & v_y\n",
    "\n",
    "    elif \"OR\" in instruction:\n",
    "        x, y = instruction.split(\" OR \")\n",
    "\n",
    "        v_x = as_int(x)\n",
    "        if v_x is None:\n",
    "            evaluate_variable(assignements, x, values=values)\n",
    "            v_x = values[x]\n",
    "\n",
    "        v_y = as_int(y)\n",
    "        if v_y is None:\n",
    "            evaluate_variable(assignements, y, values=values)\n",
    "            v_y = values[y]\n",
    "\n",
    "        values[variable] = v_x | v_y\n",
    "\n",
    "    elif \"LSHIFT\" in instruction:\n",
    "        x, y = instruction.split(\" LSHIFT \")\n",
    "\n",
    "        v_x = as_int(x)\n",
    "        if v_x is None:\n",
    "            evaluate_variable(assignements, x, values=values)\n",
    "            v_x = values[x]\n",
    "\n",
    "        v_y = as_int(y)\n",
    "        if v_y is None:\n",
    "            evaluate_variable(assignements, y, values=values)\n",
    "            v_y = values[y]\n",
    "\n",
    "        values[variable] = v_x << v_y\n",
    "\n",
    "    elif \"RSHIFT\" in instruction:\n",
    "        x, y = instruction.split(\" RSHIFT \")\n",
    "\n",
    "        v_x = as_int(x)\n",
    "        if v_x is None:\n",
    "            evaluate_variable(assignements, x, values=values)\n",
    "            v_x = values[x]\n",
    "\n",
    "        v_y = as_int(y)\n",
    "        if v_y is None:\n",
    "            evaluate_variable(assignements, y, values=values)\n",
    "            v_y = values[y]\n",
    "\n",
    "        values[variable] = v_x >> v_y\n",
    "\n",
    "    elif \"NOT\" in instruction:\n",
    "        x = instruction[4:]\n",
    "\n",
    "        v_x = as_int(x)\n",
    "        if v_x is None:\n",
    "            evaluate_variable(assignements, x, values=values)\n",
    "            v_x = values[x]\n",
    "\n",
    "        values[variable] = ~v_x & MASQUE_16BIT\n",
    "\n",
    "    else:\n",
    "        v_x = as_int(instruction)\n",
    "        if v_x is None:\n",
    "            evaluate_variable(assignements, instruction, values=values)\n",
    "            v_x = values[instruction]\n",
    "\n",
    "        values[variable] = v_x\n",
    "\n",
    "    \n",
    "    return values\n",
    "\n",
    "def evaluate_variables(assignements, values=None):\n",
    "    if values is None:\n",
    "        values = {}\n",
    "    for v in assignements:\n",
    "        evaluate_variable(assignements, v, values=values)\n",
    "    return values"
   ]
  },
  {
   "cell_type": "code",
   "execution_count": 89,
   "metadata": {},
   "outputs": [
    {
     "data": {
      "text/plain": [
       "{'x': 123,\n",
       " 'y': 456,\n",
       " 'd': 72,\n",
       " 'e': 507,\n",
       " 'f': 492,\n",
       " 'g': 114,\n",
       " 'h': 65412,\n",
       " 'i': 65079}"
      ]
     },
     "execution_count": 89,
     "metadata": {},
     "output_type": "execute_result"
    }
   ],
   "source": [
    "evaluate_variables(get_assignments(example_input))"
   ]
  },
  {
   "cell_type": "code",
   "execution_count": 90,
   "metadata": {},
   "outputs": [
    {
     "data": {
      "text/plain": [
       "3176"
      ]
     },
     "execution_count": 90,
     "metadata": {},
     "output_type": "execute_result"
    }
   ],
   "source": [
    "puzzle_values = evaluate_variables(get_assignments(puzzle_input))\n",
    "puzzle_values[\"a\"]"
   ]
  },
  {
   "cell_type": "code",
   "execution_count": 92,
   "metadata": {},
   "outputs": [
    {
     "data": {
      "text/plain": [
       "14710"
      ]
     },
     "execution_count": 92,
     "metadata": {},
     "output_type": "execute_result"
    }
   ],
   "source": [
    "puzzle_values = evaluate_variables(get_assignments(puzzle_input))\n",
    "new_puzzle_values = evaluate_variables(get_assignments(puzzle_input), values={\"b\": puzzle_values[\"a\"]})\n",
    "\n",
    "new_puzzle_values[\"a\"]"
   ]
  }
 ],
 "metadata": {
  "kernelspec": {
   "display_name": "Python 3.10.7 ('.venv': venv)",
   "language": "python",
   "name": "python3"
  },
  "language_info": {
   "codemirror_mode": {
    "name": "ipython",
    "version": 3
   },
   "file_extension": ".py",
   "mimetype": "text/x-python",
   "name": "python",
   "nbconvert_exporter": "python",
   "pygments_lexer": "ipython3",
   "version": "3.10.7"
  },
  "orig_nbformat": 4,
  "vscode": {
   "interpreter": {
    "hash": "4f2642356d409a248ba2eb61e484e73059164c254bcfa507bf361b4c5067bddc"
   }
  }
 },
 "nbformat": 4,
 "nbformat_minor": 2
}
