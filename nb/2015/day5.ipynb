{
 "cells": [
  {
   "cell_type": "code",
   "execution_count": 7,
   "metadata": {},
   "outputs": [],
   "source": [
    "from aocd import get_data\n",
    "\n",
    "puzzle_input = get_data(day=5, year=2015)"
   ]
  },
  {
   "cell_type": "code",
   "execution_count": 1,
   "metadata": {},
   "outputs": [],
   "source": [
    "from collections import Counter"
   ]
  },
  {
   "cell_type": "code",
   "execution_count": 3,
   "metadata": {},
   "outputs": [
    {
     "name": "stdout",
     "output_type": "stream",
     "text": [
      "ugknbfddgicrmopn True\n",
      "aaa True\n",
      "jchzalrnumimnmhp False\n",
      "haegwjzuvuyypxyu False\n",
      "dvszwmarrgswjxmb False\n"
     ]
    }
   ],
   "source": [
    "vowels=\"aeiou\"\n",
    "bads = {(\"a\",\"b\"), (\"c\",\"d\"), (\"p\",\"q\"), (\"x\",\"y\")}\n",
    "\n",
    "def is_nice(s):\n",
    "    c = Counter(s)\n",
    "    if sum(c.get(v, 0) for v in vowels) < 3:\n",
    "        return False\n",
    "\n",
    "    dobble = False\n",
    "    for c1, c2 in zip(s, s[1:]):\n",
    "        if c1 == c2:\n",
    "            dobble = True\n",
    "        if (c1, c2) in bads:\n",
    "            return False\n",
    "\n",
    "    return dobble\n",
    "\n",
    "for ex in (\n",
    "    \"ugknbfddgicrmopn\",\n",
    "    \"aaa\",\n",
    "    \"jchzalrnumimnmhp\",\n",
    "    \"haegwjzuvuyypxyu\",\n",
    "    \"dvszwmarrgswjxmb\"\n",
    "):\n",
    "    print(ex, is_nice(ex))\n"
   ]
  },
  {
   "cell_type": "code",
   "execution_count": 8,
   "metadata": {},
   "outputs": [
    {
     "data": {
      "text/plain": [
       "236"
      ]
     },
     "execution_count": 8,
     "metadata": {},
     "output_type": "execute_result"
    }
   ],
   "source": [
    "sum(is_nice(s) for s in puzzle_input.split(\"\\n\"))"
   ]
  },
  {
   "cell_type": "code",
   "execution_count": 14,
   "metadata": {},
   "outputs": [
    {
     "name": "stdout",
     "output_type": "stream",
     "text": [
      "qjhvhtzxzqqjkmpb True\n",
      "xxyxx True\n",
      "uurcxstgmygtbstg False\n",
      "ieodomkazucvgmuy False\n",
      "xyxyaabcdefgaa True\n"
     ]
    }
   ],
   "source": [
    "def is_nice2(s):\n",
    "    pair = False\n",
    "    triplet = False\n",
    "\n",
    "    pair_counter = {}\n",
    "    for i, (c1, c2) in enumerate(zip(s, s[1:])):\n",
    "        if (c1, c2) not in pair_counter:\n",
    "            pair_counter[(c1, c2)] = [i]\n",
    "        else:\n",
    "            pair_counter[(c1, c2)].append(i)\n",
    "\n",
    "    \n",
    "    for p, inds in pair_counter.items():\n",
    "        if len(inds) >= 2 and (inds[-1] - inds[0]) > 1:\n",
    "            pair = True\n",
    "            break\n",
    "\n",
    "    for c1, c2, c3 in zip(s, s[1:], s[2:]):\n",
    "        if c1 == c3:\n",
    "            triplet = True\n",
    "            break\n",
    "\n",
    "    return pair and triplet\n",
    "\n",
    "\n",
    "for ex in (\n",
    "    \"qjhvhtzxzqqjkmpb\",\n",
    "    \"xxyxx\",\n",
    "    \"uurcxstgmygtbstg\",\n",
    "    \"ieodomkazucvgmuy\",\n",
    "    \"xyxy\"\n",
    "    \"aabcdefgaa\",\n",
    "):\n",
    "    print(ex, is_nice2(ex))\n"
   ]
  },
  {
   "cell_type": "code",
   "execution_count": 15,
   "metadata": {},
   "outputs": [
    {
     "data": {
      "text/plain": [
       "51"
      ]
     },
     "execution_count": 15,
     "metadata": {},
     "output_type": "execute_result"
    }
   ],
   "source": [
    "sum(is_nice2(s) for s in puzzle_input.split(\"\\n\"))"
   ]
  }
 ],
 "metadata": {
  "kernelspec": {
   "display_name": "Python 3.10.7 ('.venv': venv)",
   "language": "python",
   "name": "python3"
  },
  "language_info": {
   "codemirror_mode": {
    "name": "ipython",
    "version": 3
   },
   "file_extension": ".py",
   "mimetype": "text/x-python",
   "name": "python",
   "nbconvert_exporter": "python",
   "pygments_lexer": "ipython3",
   "version": "3.10.7"
  },
  "orig_nbformat": 4,
  "vscode": {
   "interpreter": {
    "hash": "4f2642356d409a248ba2eb61e484e73059164c254bcfa507bf361b4c5067bddc"
   }
  }
 },
 "nbformat": 4,
 "nbformat_minor": 2
}
