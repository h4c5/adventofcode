{
 "cells": [
  {
   "cell_type": "code",
   "execution_count": 21,
   "metadata": {},
   "outputs": [
    {
     "data": {
      "text/plain": [
       "'hepxcrrq'"
      ]
     },
     "execution_count": 21,
     "metadata": {},
     "output_type": "execute_result"
    }
   ],
   "source": [
    "from aocd import get_data\n",
    "\n",
    "puzzle_input = get_data(day=11, year=2015)\n",
    "puzzle_input"
   ]
  },
  {
   "cell_type": "code",
   "execution_count": 12,
   "metadata": {},
   "outputs": [
    {
     "name": "stdout",
     "output_type": "stream",
     "text": [
      "{'a': 97, 'b': 98, 'c': 99, 'd': 100, 'e': 101, 'f': 102, 'g': 103, 'h': 104, 'i': 105, 'j': 106, 'k': 107, 'l': 108, 'm': 109, 'n': 110, 'o': 111, 'p': 112, 'q': 113, 'r': 114, 's': 115, 't': 116, 'u': 117, 'v': 118, 'w': 119, 'x': 120, 'y': 121, 'z': 122}\n"
     ]
    }
   ],
   "source": [
    "alphabet = {chr(i) : i for i in range(97, 97 + 26)}\n",
    "print(alphabet)"
   ]
  },
  {
   "cell_type": "code",
   "execution_count": 28,
   "metadata": {},
   "outputs": [
    {
     "data": {
      "text/plain": [
       "[23, 24, 25]"
      ]
     },
     "execution_count": 28,
     "metadata": {},
     "output_type": "execute_result"
    }
   ],
   "source": [
    "def convert_password(password):\n",
    "    return [ord(c) - 97 for c in password]\n",
    "\n",
    "convert_password(\"xyz\")"
   ]
  },
  {
   "cell_type": "code",
   "execution_count": 29,
   "metadata": {},
   "outputs": [
    {
     "name": "stdout",
     "output_type": "stream",
     "text": [
      "[23, 25, 0]\n",
      "[23, 25, 1]\n",
      "[23, 25, 2]\n",
      "[23, 25, 3]\n",
      "[23, 25, 4]\n",
      "[23, 25, 5]\n",
      "[23, 25, 6]\n",
      "[23, 25, 7]\n",
      "[23, 25, 8]\n",
      "[23, 25, 9]\n"
     ]
    }
   ],
   "source": [
    "MAX_D = 26 - 1\n",
    "\n",
    "def increment(password):\n",
    "    l = len(password)\n",
    "    for i in range(l):\n",
    "        d = password[l - 1 - i]\n",
    "        if d == MAX_D:\n",
    "            password[l - 1 - i] = 0\n",
    "        else:\n",
    "            password[l - 1 - i] += 1\n",
    "            break\n",
    "\n",
    "password = convert_password(\"xyz\")\n",
    "for _ in range(10):\n",
    "    increment(password)\n",
    "    print(password)"
   ]
  },
  {
   "cell_type": "code",
   "execution_count": 30,
   "metadata": {},
   "outputs": [],
   "source": [
    "FORBIDDEN = {ord(c) - 97 for c in (\"i\", \"o\" ,\"l\")}\n",
    "\n",
    "def is_valid(password):\n",
    "    for x in password:\n",
    "        if x in FORBIDDEN:\n",
    "            return False\n",
    "\n",
    "    two_pairs = False\n",
    "    first_pair = None\n",
    "    for x, y in zip(password, password[1:]):\n",
    "        if x == y and first_pair is None:\n",
    "            first_pair = x\n",
    "        elif x == y and x != first_pair:\n",
    "            two_pairs = True\n",
    "            break\n",
    "\n",
    "    if two_pairs is False:\n",
    "        return False\n",
    "    \n",
    "    three_continuous = False\n",
    "    for x, y, z in zip(password, password[1:], password[2:]):\n",
    "        if (z - y) == 1 and (y - x) == 1:\n",
    "            three_continuous = True\n",
    "            break\n",
    "    \n",
    "    return three_continuous"
   ]
  },
  {
   "cell_type": "code",
   "execution_count": 33,
   "metadata": {},
   "outputs": [
    {
     "data": {
      "text/plain": [
       "'abcxyz'"
      ]
     },
     "execution_count": 33,
     "metadata": {},
     "output_type": "execute_result"
    }
   ],
   "source": [
    "def translate_password(password):\n",
    "    return \"\".join([chr(i + 97) for i in password])\n",
    "\n",
    "translate_password(convert_password(\"abcxyz\"))"
   ]
  },
  {
   "cell_type": "code",
   "execution_count": 34,
   "metadata": {},
   "outputs": [
    {
     "name": "stdout",
     "output_type": "stream",
     "text": [
      "hepxxyzz\n"
     ]
    }
   ],
   "source": [
    "password = convert_password(puzzle_input)\n",
    "while not is_valid(password):\n",
    "    increment(password)\n",
    "\n",
    "print(translate_password(password))"
   ]
  },
  {
   "cell_type": "code",
   "execution_count": 35,
   "metadata": {},
   "outputs": [
    {
     "name": "stdout",
     "output_type": "stream",
     "text": [
      "heqaabcc\n"
     ]
    }
   ],
   "source": [
    "increment(password)\n",
    "\n",
    "while not is_valid(password):\n",
    "    increment(password)\n",
    "\n",
    "print(translate_password(password))"
   ]
  }
 ],
 "metadata": {
  "kernelspec": {
   "display_name": "Python 3.10.7 ('.venv': venv)",
   "language": "python",
   "name": "python3"
  },
  "language_info": {
   "codemirror_mode": {
    "name": "ipython",
    "version": 3
   },
   "file_extension": ".py",
   "mimetype": "text/x-python",
   "name": "python",
   "nbconvert_exporter": "python",
   "pygments_lexer": "ipython3",
   "version": "3.10.7"
  },
  "orig_nbformat": 4,
  "vscode": {
   "interpreter": {
    "hash": "4f2642356d409a248ba2eb61e484e73059164c254bcfa507bf361b4c5067bddc"
   }
  }
 },
 "nbformat": 4,
 "nbformat_minor": 2
}
