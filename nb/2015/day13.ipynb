{
 "cells": [
  {
   "cell_type": "code",
   "execution_count": 1,
   "metadata": {},
   "outputs": [],
   "source": [
    "from aocd import get_data\n",
    "\n",
    "puzzle_input = get_data(day=13, year=2015)"
   ]
  },
  {
   "cell_type": "code",
   "execution_count": 7,
   "metadata": {},
   "outputs": [],
   "source": [
    "example = \"\"\"Alice would gain 54 happiness units by sitting next to Bob.\n",
    "Alice would lose 79 happiness units by sitting next to Carol.\n",
    "Alice would lose 2 happiness units by sitting next to David.\n",
    "Bob would gain 83 happiness units by sitting next to Alice.\n",
    "Bob would lose 7 happiness units by sitting next to Carol.\n",
    "Bob would lose 63 happiness units by sitting next to David.\n",
    "Carol would lose 62 happiness units by sitting next to Alice.\n",
    "Carol would gain 60 happiness units by sitting next to Bob.\n",
    "Carol would gain 55 happiness units by sitting next to David.\n",
    "David would gain 46 happiness units by sitting next to Alice.\n",
    "David would lose 7 happiness units by sitting next to Bob.\n",
    "David would gain 41 happiness units by sitting next to Carol.\"\"\""
   ]
  },
  {
   "cell_type": "code",
   "execution_count": 8,
   "metadata": {},
   "outputs": [
    {
     "data": {
      "text/plain": [
       "{('Alice', 'Bob'): 54,\n",
       " ('Alice', 'Carol'): -79,\n",
       " ('Alice', 'David'): -2,\n",
       " ('Bob', 'Alice'): 83,\n",
       " ('Bob', 'Carol'): -7,\n",
       " ('Bob', 'David'): -63,\n",
       " ('Carol', 'Alice'): -62,\n",
       " ('Carol', 'Bob'): 60,\n",
       " ('Carol', 'David'): 55,\n",
       " ('David', 'Alice'): 46,\n",
       " ('David', 'Bob'): -7,\n",
       " ('David', 'Carol'): 41}"
      ]
     },
     "execution_count": 8,
     "metadata": {},
     "output_type": "execute_result"
    }
   ],
   "source": [
    "import re\n",
    "\n",
    "preferences_pattern = re.compile(\n",
    "    r\"(\\w+) would (gain|lose) (\\d+) happiness units by sitting next to (\\w+).\"\n",
    ")\n",
    "\n",
    "def decompose_instructions(instructions):\n",
    "    if isinstance(instructions, str):\n",
    "        instructions = [\n",
    "            preferences_pattern.match(instruction).groups()\n",
    "            for instruction in instructions.strip().split(\"\\n\")\n",
    "        ]\n",
    "\n",
    "    gains = {}\n",
    "    people = set()\n",
    "\n",
    "    for a, t, h, b in instructions:\n",
    "        people.add(a)\n",
    "        people.add(b)\n",
    "        gains[(a, b)] = int(h) if t == \"gain\" else -int(h)\n",
    "\n",
    "    return people, gains\n",
    "\n",
    "pers_ex, gains_ex = decompose_instructions(example)\n",
    "gains_ex"
   ]
  },
  {
   "cell_type": "code",
   "execution_count": 9,
   "metadata": {},
   "outputs": [],
   "source": [
    "from itertools import permutations\n",
    "\n",
    "def compute_happiness(config, gains):\n",
    "    n_people = len(config)\n",
    "\n",
    "    return sum(\n",
    "        gains[(config[i], config[(i + 1) % n_people])] \n",
    "        + gains[(config[i], config[(i - 1) % n_people])] \n",
    "        for i in range(n_people)\n",
    "    )\n",
    "\n",
    "def best_configuration(people, gains):\n",
    "    \n",
    "    max_hapiness, best_config = None, None\n",
    "    for config in list(permutations(people)):\n",
    "\n",
    "        hapiness = compute_happiness(config, gains)\n",
    "\n",
    "        if max_hapiness is None or hapiness > max_hapiness:\n",
    "            max_hapiness, best_config = (hapiness, config)\n",
    "\n",
    "    return max_hapiness, best_config"
   ]
  },
  {
   "cell_type": "code",
   "execution_count": 10,
   "metadata": {},
   "outputs": [
    {
     "data": {
      "text/plain": [
       "(330, ('Alice', 'David', 'Carol', 'Bob'))"
      ]
     },
     "execution_count": 10,
     "metadata": {},
     "output_type": "execute_result"
    }
   ],
   "source": [
    "best_configuration(pers_ex, gains_ex )"
   ]
  },
  {
   "cell_type": "code",
   "execution_count": 11,
   "metadata": {},
   "outputs": [],
   "source": [
    "puzzle_pers, puzzle_gains = decompose_instructions(puzzle_input)"
   ]
  },
  {
   "cell_type": "code",
   "execution_count": 12,
   "metadata": {},
   "outputs": [
    {
     "data": {
      "text/plain": [
       "{'Alice', 'Bob', 'Carol', 'David', 'Eric', 'Frank', 'George', 'Mallory'}"
      ]
     },
     "execution_count": 12,
     "metadata": {},
     "output_type": "execute_result"
    }
   ],
   "source": [
    "puzzle_pers"
   ]
  },
  {
   "cell_type": "code",
   "execution_count": 13,
   "metadata": {},
   "outputs": [
    {
     "data": {
      "text/plain": [
       "(664, ('Frank', 'Eric', 'George', 'Bob', 'Alice', 'David', 'Mallory', 'Carol'))"
      ]
     },
     "execution_count": 13,
     "metadata": {},
     "output_type": "execute_result"
    }
   ],
   "source": [
    "best_configuration(puzzle_pers, puzzle_gains)"
   ]
  },
  {
   "cell_type": "markdown",
   "metadata": {},
   "source": [
    "part 2 add myself"
   ]
  },
  {
   "cell_type": "code",
   "execution_count": 17,
   "metadata": {},
   "outputs": [],
   "source": [
    "def add_myself(people:set, gains:dict):\n",
    "    new_gains = gains.copy()\n",
    "\n",
    "    for p in people:\n",
    "        new_gains[(p, \"myself\")] = 0\n",
    "        new_gains[(\"myself\", p)] = 0\n",
    "\n",
    "    return {\"myself\", *people}, new_gains\n",
    "\n",
    "complete_puzzle_pers, complete_puzzle_gains = add_myself(puzzle_pers, puzzle_gains)\n",
    "    "
   ]
  },
  {
   "cell_type": "code",
   "execution_count": 18,
   "metadata": {},
   "outputs": [
    {
     "data": {
      "text/plain": [
       "(640,\n",
       " ('Frank',\n",
       "  'Eric',\n",
       "  'George',\n",
       "  'Bob',\n",
       "  'Alice',\n",
       "  'David',\n",
       "  'Mallory',\n",
       "  'Carol',\n",
       "  'myself'))"
      ]
     },
     "execution_count": 18,
     "metadata": {},
     "output_type": "execute_result"
    }
   ],
   "source": [
    "best_configuration(complete_puzzle_pers, complete_puzzle_gains)"
   ]
  }
 ],
 "metadata": {
  "kernelspec": {
   "display_name": "Python 3.8.13 ('.venv': venv)",
   "language": "python",
   "name": "python3"
  },
  "language_info": {
   "codemirror_mode": {
    "name": "ipython",
    "version": 3
   },
   "file_extension": ".py",
   "mimetype": "text/x-python",
   "name": "python",
   "nbconvert_exporter": "python",
   "pygments_lexer": "ipython3",
   "version": "3.9.13"
  },
  "orig_nbformat": 4,
  "vscode": {
   "interpreter": {
    "hash": "286a45cf4a6724ce9ee6ff4c11a7a2d7e38c2bcafb9db046ad7eccbcdfbe501e"
   }
  }
 },
 "nbformat": 4,
 "nbformat_minor": 2
}
