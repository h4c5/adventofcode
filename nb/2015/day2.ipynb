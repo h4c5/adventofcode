{
 "cells": [
  {
   "cell_type": "code",
   "execution_count": 2,
   "metadata": {},
   "outputs": [],
   "source": [
    "from aocd import get_data"
   ]
  },
  {
   "cell_type": "code",
   "execution_count": 3,
   "metadata": {},
   "outputs": [],
   "source": [
    "puzzle_input = get_data(day=2, year=2015)"
   ]
  },
  {
   "cell_type": "code",
   "execution_count": 9,
   "metadata": {},
   "outputs": [],
   "source": [
    "cadeaux = puzzle_input.split(\"\\n\")\n",
    "\n",
    "def surface_papier(cadeau):\n",
    "    l, w, h = map(int, cadeau.split(\"x\"))\n",
    "\n",
    "    s1, s2, s3 = l*w, w*h, h*l\n",
    "    return 2*s1 + 2*s2 + 2*s3 + min(s1, s2,s3)\n",
    "\n",
    "assert surface_papier(\"2x3x4\") == 58\n",
    "assert surface_papier(\"1x1x10\") == 43"
   ]
  },
  {
   "cell_type": "code",
   "execution_count": 10,
   "metadata": {},
   "outputs": [
    {
     "data": {
      "text/plain": [
       "1588178"
      ]
     },
     "execution_count": 10,
     "metadata": {},
     "output_type": "execute_result"
    }
   ],
   "source": [
    "sum(map(surface_papier, cadeaux))"
   ]
  },
  {
   "cell_type": "code",
   "execution_count": 17,
   "metadata": {},
   "outputs": [
    {
     "data": {
      "text/plain": [
       "True"
      ]
     },
     "execution_count": 17,
     "metadata": {},
     "output_type": "execute_result"
    }
   ],
   "source": [
    "def longueur_ruban(cadeau):\n",
    "    l, w, h = sorted(map(int, cadeau.split(\"x\")))\n",
    "\n",
    "    return 2 * l + 2 * w + l*w*h\n",
    "\n",
    "longueur_ruban(\"2x3x4\") == 34\n",
    "longueur_ruban(\"1x1x10\") == 14"
   ]
  },
  {
   "cell_type": "code",
   "execution_count": 18,
   "metadata": {},
   "outputs": [
    {
     "data": {
      "text/plain": [
       "3783758"
      ]
     },
     "execution_count": 18,
     "metadata": {},
     "output_type": "execute_result"
    }
   ],
   "source": [
    "sum(map(longueur_ruban, cadeaux))"
   ]
  }
 ],
 "metadata": {
  "kernelspec": {
   "display_name": "Python 3.10.7 ('.venv': venv)",
   "language": "python",
   "name": "python3"
  },
  "language_info": {
   "codemirror_mode": {
    "name": "ipython",
    "version": 3
   },
   "file_extension": ".py",
   "mimetype": "text/x-python",
   "name": "python",
   "nbconvert_exporter": "python",
   "pygments_lexer": "ipython3",
   "version": "3.10.7"
  },
  "orig_nbformat": 4,
  "vscode": {
   "interpreter": {
    "hash": "4f2642356d409a248ba2eb61e484e73059164c254bcfa507bf361b4c5067bddc"
   }
  }
 },
 "nbformat": 4,
 "nbformat_minor": 2
}
