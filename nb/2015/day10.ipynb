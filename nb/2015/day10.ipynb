{
 "cells": [
  {
   "cell_type": "code",
   "execution_count": 6,
   "metadata": {},
   "outputs": [
    {
     "data": {
      "text/plain": [
       "'1113222113'"
      ]
     },
     "execution_count": 6,
     "metadata": {},
     "output_type": "execute_result"
    }
   ],
   "source": [
    "from aocd import get_data\n",
    "\n",
    "puzzle_input = get_data(day=10, year=2015)\n",
    "puzzle_input"
   ]
  },
  {
   "cell_type": "code",
   "execution_count": 2,
   "metadata": {},
   "outputs": [
    {
     "data": {
      "text/plain": [
       "[('1', 3), ('2', 2), ('1', 1)]"
      ]
     },
     "execution_count": 2,
     "metadata": {},
     "output_type": "execute_result"
    }
   ],
   "source": [
    "def describe(serie):\n",
    "    digits = []\n",
    "    \n",
    "    current = None\n",
    "    current_count = 0\n",
    "\n",
    "    for s in serie:\n",
    "        if s != current:\n",
    "            if current_count > 0:\n",
    "                digits.append((current, current_count))\n",
    "\n",
    "            current = s\n",
    "            current_count = 1\n",
    "        else:\n",
    "            current_count += 1\n",
    "\n",
    "    if current_count > 0:\n",
    "        digits.append((current, current_count))\n",
    "\n",
    "    return digits\n",
    "\n",
    "describe(\"111221\")"
   ]
  },
  {
   "cell_type": "code",
   "execution_count": 5,
   "metadata": {},
   "outputs": [
    {
     "data": {
      "text/plain": [
       "['11', '21', '1211', '111221', '312211']"
      ]
     },
     "execution_count": 5,
     "metadata": {},
     "output_type": "execute_result"
    }
   ],
   "source": [
    "def look_and_say(start=1, steps=1):\n",
    "    n = str(start)\n",
    "    for _ in range(steps):\n",
    "        n = \"\".join(f\"{k}{d}\" for d, k in describe(n))\n",
    "        yield n\n",
    "\n",
    "\n",
    "list(look_and_say(start=1, steps=5))"
   ]
  },
  {
   "cell_type": "code",
   "execution_count": 12,
   "metadata": {},
   "outputs": [
    {
     "data": {
      "text/plain": [
       "3579328"
      ]
     },
     "execution_count": 12,
     "metadata": {},
     "output_type": "execute_result"
    }
   ],
   "source": [
    "serie = list(look_and_say(start=puzzle_input, steps=50))\n",
    "len(serie[-1])"
   ]
  }
 ],
 "metadata": {
  "kernelspec": {
   "display_name": "Python 3.10.7 ('.venv': venv)",
   "language": "python",
   "name": "python3"
  },
  "language_info": {
   "codemirror_mode": {
    "name": "ipython",
    "version": 3
   },
   "file_extension": ".py",
   "mimetype": "text/x-python",
   "name": "python",
   "nbconvert_exporter": "python",
   "pygments_lexer": "ipython3",
   "version": "3.10.7"
  },
  "orig_nbformat": 4,
  "vscode": {
   "interpreter": {
    "hash": "4f2642356d409a248ba2eb61e484e73059164c254bcfa507bf361b4c5067bddc"
   }
  }
 },
 "nbformat": 4,
 "nbformat_minor": 2
}
