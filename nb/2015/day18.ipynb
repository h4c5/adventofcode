{
 "cells": [
  {
   "cell_type": "code",
   "execution_count": 41,
   "metadata": {},
   "outputs": [],
   "source": [
    "from aocd import get_data\n",
    "\n",
    "puzzle_input = get_data(day=18, year=2015)\n",
    "puzzle_input = puzzle_input.split(\"\\n\")"
   ]
  },
  {
   "cell_type": "code",
   "execution_count": 44,
   "metadata": {},
   "outputs": [
    {
     "name": "stdout",
     "output_type": "stream",
     "text": [
      "[[1 1 1 0 1]\n",
      " [0 1 0 0 0]\n",
      " [0 0 0 0 0]\n",
      " [0 0 0 1 1]\n",
      " [0 1 1 1 0]]\n"
     ]
    }
   ],
   "source": [
    "import numpy as np\n",
    "\n",
    "grid_puzzle = np.array([\n",
    "    [1 if x == \"#\" else 0 for x in row]\n",
    "    for row in puzzle_input\n",
    "])\n",
    "\n",
    "print(grid_puzzle[:5, :5])"
   ]
  },
  {
   "cell_type": "code",
   "execution_count": 52,
   "metadata": {},
   "outputs": [
    {
     "data": {
      "text/plain": [
       "array([[0, 1, 0, 1, 0, 1],\n",
       "       [0, 0, 0, 1, 1, 0],\n",
       "       [1, 0, 0, 0, 0, 1],\n",
       "       [0, 0, 1, 0, 0, 0],\n",
       "       [1, 0, 1, 0, 0, 1],\n",
       "       [1, 1, 1, 1, 0, 0]])"
      ]
     },
     "execution_count": 52,
     "metadata": {},
     "output_type": "execute_result"
    }
   ],
   "source": [
    "example = \"\"\"\n",
    ".#.#.#\n",
    "...##.\n",
    "#....#\n",
    "..#...\n",
    "#.#..#\n",
    "####..\n",
    "\"\"\".strip().split(\"\\n\")\n",
    "\n",
    "grid_example = np.array([\n",
    "    [1 if x == \"#\" else 0 for x in row]\n",
    "    for row in example\n",
    "])\n",
    "\n",
    "grid_example"
   ]
  },
  {
   "cell_type": "code",
   "execution_count": 43,
   "metadata": {},
   "outputs": [],
   "source": [
    "def construct_sum_function(grid):\n",
    "    grid = grid.copy()\n",
    "    S = grid.cumsum(axis=0).cumsum(axis=1)\n",
    "    Mx = S.shape[0] -1\n",
    "    My = S.shape[1] -1\n",
    "\n",
    "    def sum_neighbors(i, j):\n",
    "        x0 = max(i - 1, 0)\n",
    "        x1 = min(i + 1, Mx)\n",
    "        y0 = max(j - 1, 0)\n",
    "        y1 = min(j + 1, My)\n",
    "\n",
    "        return (\n",
    "            S[x1, y1]\n",
    "            - (S[x1, y0] if j > 1 else 0)\n",
    "            - (S[x0, y1] if i > 1 else 0)\n",
    "            + (S[x0, y0] if i > 1 and j > 1 else 0)\n",
    "            - grid[i, j]\n",
    "        )\n",
    "    \n",
    "    return sum_neighbors\n",
    "\n",
    "\n",
    "def next_grid(grid):\n",
    "    sum_neighbors = construct_sum_function(grid)\n",
    "\n",
    "    for i in range(grid.shape[0]):\n",
    "        for j in range(grid.shape[1]):\n",
    "            n_neighbors = sum_neighbors(i, j)\n",
    "\n",
    "            if grid[i, j] == 1 and (2 < n_neighbors or n_neighbors > 3):\n",
    "                grid[i, j] = 0\n",
    "            elif grid[i, j] == 0 and n_neighbors == 3:\n",
    "                grid[i, j] = 1\n",
    "            \n",
    "    return grid"
   ]
  },
  {
   "cell_type": "code",
   "execution_count": 61,
   "metadata": {},
   "outputs": [
    {
     "data": {
      "text/plain": [
       "array([[0]])"
      ]
     },
     "execution_count": 61,
     "metadata": {},
     "output_type": "execute_result"
    }
   ],
   "source": [
    "grid[0:1, 0:1]"
   ]
  },
  {
   "cell_type": "code",
   "execution_count": 64,
   "metadata": {},
   "outputs": [],
   "source": [
    "def next_grid(grid):\n",
    "    new_grid = grid.copy()\n",
    "\n",
    "    Mx = grid.shape[0] -1\n",
    "    My = grid.shape[1] -1\n",
    "\n",
    "    for i in range(grid.shape[0]):\n",
    "        for j in range(grid.shape[1]):\n",
    "            n_neighbors = grid[\n",
    "                max(0, i-1):min(Mx, i+1)+1, \n",
    "                max(0, j-1):min(My, j+1)+1\n",
    "            ].sum() - grid[i,j]\n",
    "\n",
    "            if grid[i, j] == 1:\n",
    "                if n_neighbors not in (2, 3):\n",
    "                    new_grid[i, j] = 0\n",
    "            else:\n",
    "                if n_neighbors == 3:\n",
    "                    new_grid[i, j] = 1\n",
    "            \n",
    "    return new_grid"
   ]
  },
  {
   "cell_type": "code",
   "execution_count": 65,
   "metadata": {},
   "outputs": [
    {
     "name": "stdout",
     "output_type": "stream",
     "text": [
      "[[0 1 0 1 0 1]\n",
      " [0 0 0 1 1 0]\n",
      " [1 0 0 0 0 1]\n",
      " [0 0 1 0 0 0]\n",
      " [1 0 1 0 0 1]\n",
      " [1 1 1 1 0 0]]\n",
      "[[0 0 1 1 0 0]\n",
      " [0 0 1 1 0 1]\n",
      " [0 0 0 1 1 0]\n",
      " [0 0 0 0 0 0]\n",
      " [1 0 0 0 0 0]\n",
      " [1 0 1 1 0 0]]\n",
      "[[0 0 1 1 1 0]\n",
      " [0 0 0 0 0 0]\n",
      " [0 0 1 1 1 0]\n",
      " [0 0 0 0 0 0]\n",
      " [0 1 0 0 0 0]\n",
      " [0 1 0 0 0 0]]\n",
      "[[0 0 0 1 0 0]\n",
      " [0 0 0 0 0 0]\n",
      " [0 0 0 1 0 0]\n",
      " [0 0 1 1 0 0]\n",
      " [0 0 0 0 0 0]\n",
      " [0 0 0 0 0 0]]\n",
      "[[0 0 0 0 0 0]\n",
      " [0 0 0 0 0 0]\n",
      " [0 0 1 1 0 0]\n",
      " [0 0 1 1 0 0]\n",
      " [0 0 0 0 0 0]\n",
      " [0 0 0 0 0 0]]\n"
     ]
    },
    {
     "data": {
      "text/plain": [
       "4"
      ]
     },
     "execution_count": 65,
     "metadata": {},
     "output_type": "execute_result"
    }
   ],
   "source": [
    "grid = grid_example.copy()\n",
    "print(grid)\n",
    "\n",
    "for _ in range(4):\n",
    "    grid = next_grid(grid)\n",
    "    print(grid)\n",
    "\n",
    "grid.sum()"
   ]
  },
  {
   "cell_type": "code",
   "execution_count": 66,
   "metadata": {},
   "outputs": [
    {
     "data": {
      "text/plain": [
       "821"
      ]
     },
     "execution_count": 66,
     "metadata": {},
     "output_type": "execute_result"
    }
   ],
   "source": [
    "grid = grid_puzzle.copy()\n",
    "\n",
    "for _ in range(100):\n",
    "    grid = next_grid(grid)\n",
    "\n",
    "grid.sum()"
   ]
  },
  {
   "cell_type": "code",
   "execution_count": 67,
   "metadata": {},
   "outputs": [],
   "source": [
    "def next_grid(grid):\n",
    "    Mx = grid.shape[0] -1\n",
    "    My = grid.shape[1] -1\n",
    "\n",
    "    grid[0, 0] = 1\n",
    "    grid[Mx, 0] = 1\n",
    "    grid[Mx, My] = 1\n",
    "    grid[0, My] = 1\n",
    "\n",
    "    new_grid = grid.copy()\n",
    "\n",
    "    for i in range(grid.shape[0]):\n",
    "        for j in range(grid.shape[1]):\n",
    "            n_neighbors = grid[\n",
    "                max(0, i-1):min(Mx, i+1)+1, \n",
    "                max(0, j-1):min(My, j+1)+1\n",
    "            ].sum() - grid[i,j]\n",
    "\n",
    "            if grid[i, j] == 1:\n",
    "                if n_neighbors not in (2, 3):\n",
    "                    new_grid[i, j] = 0\n",
    "            else:\n",
    "                if n_neighbors == 3:\n",
    "                    new_grid[i, j] = 1\n",
    "\n",
    "    new_grid[0, 0] = 1\n",
    "    new_grid[Mx, 0] = 1\n",
    "    new_grid[Mx, My] = 1\n",
    "    new_grid[0, My] = 1\n",
    "            \n",
    "    return new_grid"
   ]
  },
  {
   "cell_type": "code",
   "execution_count": 69,
   "metadata": {},
   "outputs": [
    {
     "name": "stdout",
     "output_type": "stream",
     "text": [
      "[[0 1 0 1 0 1]\n",
      " [0 0 0 1 1 0]\n",
      " [1 0 0 0 0 1]\n",
      " [0 0 1 0 0 0]\n",
      " [1 0 1 0 0 1]\n",
      " [1 1 1 1 0 0]]\n"
     ]
    },
    {
     "data": {
      "text/plain": [
       "17"
      ]
     },
     "execution_count": 69,
     "metadata": {},
     "output_type": "execute_result"
    }
   ],
   "source": [
    "grid = grid_example.copy()\n",
    "print(grid)\n",
    "\n",
    "for _ in range(5):\n",
    "    grid = next_grid(grid)\n",
    "\n",
    "grid.sum()"
   ]
  },
  {
   "cell_type": "code",
   "execution_count": 70,
   "metadata": {},
   "outputs": [
    {
     "data": {
      "text/plain": [
       "886"
      ]
     },
     "execution_count": 70,
     "metadata": {},
     "output_type": "execute_result"
    }
   ],
   "source": [
    "grid = grid_puzzle.copy()\n",
    "\n",
    "for _ in range(100):\n",
    "    grid = next_grid(grid)\n",
    "\n",
    "grid.sum()"
   ]
  }
 ],
 "metadata": {
  "kernelspec": {
   "display_name": "Python 3.10.7 ('.venv': venv)",
   "language": "python",
   "name": "python3"
  },
  "language_info": {
   "codemirror_mode": {
    "name": "ipython",
    "version": 3
   },
   "file_extension": ".py",
   "mimetype": "text/x-python",
   "name": "python",
   "nbconvert_exporter": "python",
   "pygments_lexer": "ipython3",
   "version": "3.10.7"
  },
  "orig_nbformat": 4,
  "vscode": {
   "interpreter": {
    "hash": "4f2642356d409a248ba2eb61e484e73059164c254bcfa507bf361b4c5067bddc"
   }
  }
 },
 "nbformat": 4,
 "nbformat_minor": 2
}
