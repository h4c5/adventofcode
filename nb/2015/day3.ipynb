{
 "cells": [
  {
   "cell_type": "code",
   "execution_count": 1,
   "metadata": {},
   "outputs": [],
   "source": [
    "from aocd import get_data\n",
    "\n",
    "puzzle_input = get_data(day=3, year=2015)"
   ]
  },
  {
   "cell_type": "code",
   "execution_count": 7,
   "metadata": {},
   "outputs": [
    {
     "data": {
      "text/plain": [
       "True"
      ]
     },
     "execution_count": 7,
     "metadata": {},
     "output_type": "execute_result"
    }
   ],
   "source": [
    "directions = {\n",
    "    \">\": (1, 0),\n",
    "    \"v\": (0, -1),\n",
    "    \"<\": (-1, 0),\n",
    "    \"^\": (0, 1),\n",
    "}\n",
    "\n",
    "def count_happy(instructions):\n",
    "    i, j = (0, 0)\n",
    "    maisons_livrees = {(0, 0): 1}\n",
    "\n",
    "    for instruction in instructions:\n",
    "        di, dj = directions[instruction]\n",
    "        i += di\n",
    "        j +=dj\n",
    "        maisons_livrees[(i, j)] = maisons_livrees.get((i, j), 0) + 1\n",
    "\n",
    "    return len(maisons_livrees)\n",
    "\n",
    "count_happy(\">\") == 2\n",
    "count_happy(\"^>v<\") == 4\n",
    "count_happy(\"^v^v^v^v^v\") == 2\n"
   ]
  },
  {
   "cell_type": "code",
   "execution_count": 8,
   "metadata": {},
   "outputs": [
    {
     "data": {
      "text/plain": [
       "2081"
      ]
     },
     "execution_count": 8,
     "metadata": {},
     "output_type": "execute_result"
    }
   ],
   "source": [
    "count_happy(puzzle_input)"
   ]
  },
  {
   "cell_type": "code",
   "execution_count": 10,
   "metadata": {},
   "outputs": [
    {
     "data": {
      "text/plain": [
       "True"
      ]
     },
     "execution_count": 10,
     "metadata": {},
     "output_type": "execute_result"
    }
   ],
   "source": [
    "def count_robot_happy(instructions):\n",
    "    i, j = (0, 0)\n",
    "    k, l = (0, 0)\n",
    "    maisons_livrees = {(0, 0): 2}\n",
    "\n",
    "    for a, instruction in enumerate(instructions):\n",
    "        di, dj = directions[instruction]\n",
    "\n",
    "        if a % 2:\n",
    "            k += di\n",
    "            l +=dj\n",
    "            maisons_livrees[(k, l)] = maisons_livrees.get((k, l), 0) + 1\n",
    "        else:\n",
    "            i += di\n",
    "            j +=dj\n",
    "            maisons_livrees[(i, j)] = maisons_livrees.get((i, j), 0) + 1\n",
    "\n",
    "    return len(maisons_livrees)\n",
    "\n",
    "count_robot_happy(\"^v\") == 3\n",
    "count_robot_happy(\"^>v<\") == 3\n",
    "count_robot_happy(\"^v^v^v^v^v\") == 11\n"
   ]
  },
  {
   "cell_type": "code",
   "execution_count": 11,
   "metadata": {},
   "outputs": [
    {
     "data": {
      "text/plain": [
       "2341"
      ]
     },
     "execution_count": 11,
     "metadata": {},
     "output_type": "execute_result"
    }
   ],
   "source": [
    "count_robot_happy(puzzle_input)"
   ]
  }
 ],
 "metadata": {
  "kernelspec": {
   "display_name": "Python 3.10.7 ('.venv': venv)",
   "language": "python",
   "name": "python3"
  },
  "language_info": {
   "codemirror_mode": {
    "name": "ipython",
    "version": 3
   },
   "file_extension": ".py",
   "mimetype": "text/x-python",
   "name": "python",
   "nbconvert_exporter": "python",
   "pygments_lexer": "ipython3",
   "version": "3.10.7"
  },
  "orig_nbformat": 4,
  "vscode": {
   "interpreter": {
    "hash": "4f2642356d409a248ba2eb61e484e73059164c254bcfa507bf361b4c5067bddc"
   }
  }
 },
 "nbformat": 4,
 "nbformat_minor": 2
}
