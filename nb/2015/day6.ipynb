{
 "cells": [
  {
   "cell_type": "code",
   "execution_count": 16,
   "metadata": {},
   "outputs": [],
   "source": [
    "from aocd import get_data\n",
    "\n",
    "puzzle_input = get_data(day=6, year=2015)"
   ]
  },
  {
   "cell_type": "code",
   "execution_count": 17,
   "metadata": {},
   "outputs": [
    {
     "data": {
      "text/plain": [
       "['toggle 461,550 through 564,900',\n",
       " 'turn off 370,39 through 425,839',\n",
       " 'turn off 464,858 through 833,915']"
      ]
     },
     "execution_count": 17,
     "metadata": {},
     "output_type": "execute_result"
    }
   ],
   "source": [
    "instructions = puzzle_input.split('\\n')\n",
    "instructions[:3]"
   ]
  },
  {
   "cell_type": "code",
   "execution_count": 10,
   "metadata": {},
   "outputs": [
    {
     "name": "stdout",
     "output_type": "stream",
     "text": [
      "('turn on', 0, 0, 999, 999)\n",
      "('toggle', 0, 0, 999, 0)\n",
      "('turn off', 499, 499, 500, 500)\n"
     ]
    }
   ],
   "source": [
    "import re\n",
    "\n",
    "INS_ON = \"turn on\"\n",
    "INS_OFF = \"turn off\"\n",
    "INS_TOG = \"toggle\"\n",
    "\n",
    "instruction_pattern = re.compile(r\"(toggle|turn on|turn off) (\\d+),(\\d+) through (\\d+),(\\d+)\")\n",
    "\n",
    "def read_instruction(instruction):\n",
    "    i, x0, y0, x1, y1 = instruction_pattern.match(instruction).groups()\n",
    "    return i, int(x0), int(y0), int(x1), int(y1)\n",
    "\n",
    "examples_instructions = [\n",
    "    \"turn on 0,0 through 999,999\",\n",
    "    \"toggle 0,0 through 999,0\",\n",
    "    \"turn off 499,499 through 500,500\"\n",
    "]\n",
    "\n",
    "for ins in examples_instructions:\n",
    "    print(read_instruction(ins))"
   ]
  },
  {
   "cell_type": "code",
   "execution_count": 18,
   "metadata": {},
   "outputs": [
    {
     "data": {
      "text/plain": [
       "[('toggle', 461, 550, 564, 900),\n",
       " ('turn off', 370, 39, 425, 839),\n",
       " ('turn off', 464, 858, 833, 915)]"
      ]
     },
     "execution_count": 18,
     "metadata": {},
     "output_type": "execute_result"
    }
   ],
   "source": [
    "instructions = list(map(read_instruction, puzzle_input.split('\\n')))\n",
    "instructions[:3]"
   ]
  },
  {
   "cell_type": "code",
   "execution_count": 14,
   "metadata": {},
   "outputs": [],
   "source": [
    "def execute_instruction(instructions, grid=None):\n",
    "    if grid is None:\n",
    "        grid = {}\n",
    "\n",
    "    for ins, x0, y0, x1, y1 in instructions:\n",
    "        for x in range(x0, x1 + 1):\n",
    "            for y in range(y0, y1 + 1):\n",
    "                if ins == INS_ON:\n",
    "                    grid[(x, y)] = 1\n",
    "                elif ins == INS_OFF:\n",
    "                    grid[(x, y)] = 0\n",
    "                else:\n",
    "                    grid[(x, y)] = 1 - grid.get((x, y), 0)\n",
    "\n",
    "    return sum(grid.values())"
   ]
  },
  {
   "cell_type": "code",
   "execution_count": 19,
   "metadata": {},
   "outputs": [
    {
     "data": {
      "text/plain": [
       "543903"
      ]
     },
     "execution_count": 19,
     "metadata": {},
     "output_type": "execute_result"
    }
   ],
   "source": [
    "execute_instruction(instructions)"
   ]
  },
  {
   "cell_type": "code",
   "execution_count": 23,
   "metadata": {},
   "outputs": [],
   "source": [
    "def execute_translated_instruction(instructions, grid=None):\n",
    "    if grid is None:\n",
    "        grid = {}\n",
    "\n",
    "    for ins, x0, y0, x1, y1 in instructions:\n",
    "        for x in range(x0, x1 + 1):\n",
    "            for y in range(y0, y1 + 1):\n",
    "                \n",
    "                current_value = grid.get((x, y), 0)\n",
    "\n",
    "                if ins == INS_ON:\n",
    "                    grid[(x, y)] = current_value + 1\n",
    "                elif ins == INS_OFF:\n",
    "                    grid[(x, y)] = current_value - 1 if current_value > 0 else 0\n",
    "                else:\n",
    "                    grid[(x, y)] = current_value + 2\n",
    "\n",
    "    return sum(grid.values())"
   ]
  },
  {
   "cell_type": "code",
   "execution_count": 24,
   "metadata": {},
   "outputs": [
    {
     "data": {
      "text/plain": [
       "14687245"
      ]
     },
     "execution_count": 24,
     "metadata": {},
     "output_type": "execute_result"
    }
   ],
   "source": [
    "execute_translated_instruction(instructions)"
   ]
  }
 ],
 "metadata": {
  "kernelspec": {
   "display_name": "Python 3.10.7 ('.venv': venv)",
   "language": "python",
   "name": "python3"
  },
  "language_info": {
   "codemirror_mode": {
    "name": "ipython",
    "version": 3
   },
   "file_extension": ".py",
   "mimetype": "text/x-python",
   "name": "python",
   "nbconvert_exporter": "python",
   "pygments_lexer": "ipython3",
   "version": "3.10.7"
  },
  "orig_nbformat": 4,
  "vscode": {
   "interpreter": {
    "hash": "4f2642356d409a248ba2eb61e484e73059164c254bcfa507bf361b4c5067bddc"
   }
  }
 },
 "nbformat": 4,
 "nbformat_minor": 2
}
