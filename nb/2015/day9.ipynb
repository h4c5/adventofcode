{
 "cells": [
  {
   "cell_type": "code",
   "execution_count": 37,
   "metadata": {},
   "outputs": [],
   "source": [
    "from aocd import get_data\n",
    "\n",
    "puzzle_input = get_data(day=9, year=2015)"
   ]
  },
  {
   "cell_type": "code",
   "execution_count": 20,
   "metadata": {},
   "outputs": [
    {
     "data": {
      "text/plain": [
       "['Tristram to AlphaCentauri = 34',\n",
       " 'Tristram to Snowdin = 100',\n",
       " 'Tristram to Tambi = 63',\n",
       " 'Tristram to Faerun = 108',\n",
       " 'Tristram to Norrath = 111',\n",
       " 'Tristram to Straylight = 89',\n",
       " 'Tristram to Arbre = 132',\n",
       " 'AlphaCentauri to Snowdin = 4',\n",
       " 'AlphaCentauri to Tambi = 79',\n",
       " 'AlphaCentauri to Faerun = 44',\n",
       " 'AlphaCentauri to Norrath = 147',\n",
       " 'AlphaCentauri to Straylight = 133',\n",
       " 'AlphaCentauri to Arbre = 74',\n",
       " 'Snowdin to Tambi = 105',\n",
       " 'Snowdin to Faerun = 95',\n",
       " 'Snowdin to Norrath = 48',\n",
       " 'Snowdin to Straylight = 88',\n",
       " 'Snowdin to Arbre = 7',\n",
       " 'Tambi to Faerun = 68',\n",
       " 'Tambi to Norrath = 134',\n",
       " 'Tambi to Straylight = 107',\n",
       " 'Tambi to Arbre = 40',\n",
       " 'Faerun to Norrath = 11',\n",
       " 'Faerun to Straylight = 66',\n",
       " 'Faerun to Arbre = 144',\n",
       " 'Norrath to Straylight = 115',\n",
       " 'Norrath to Arbre = 135',\n",
       " 'Straylight to Arbre = 127']"
      ]
     },
     "execution_count": 20,
     "metadata": {},
     "output_type": "execute_result"
    }
   ],
   "source": [
    "puzzle_input.split(\"\\n\")"
   ]
  },
  {
   "cell_type": "code",
   "execution_count": 26,
   "metadata": {},
   "outputs": [],
   "source": [
    "import re\n",
    "\n",
    "dist_pattern = re.compile(r\"(\\w+) to (\\w+) = (\\d+)\")\n",
    "\n",
    "def construct_dist_matrix(distances):\n",
    "    if isinstance(distances, str):\n",
    "        distances = distances.split(\"\\n\")\n",
    "    \n",
    "    villes = set()\n",
    "    distances_matrix = {}\n",
    "\n",
    "    for dist in distances:\n",
    "        v1, v2, d = dist_pattern.match(dist).groups()\n",
    "\n",
    "        villes.add(v1)\n",
    "        villes.add(v2)\n",
    "\n",
    "        distances_matrix[v1, v2] = int(d)\n",
    "        distances_matrix[v2, v1] = int(d)\n",
    "\n",
    "    return villes, distances_matrix\n",
    "\n",
    "villes_example, dist_example = construct_dist_matrix(\"\"\"London to Dublin = 464\n",
    "London to Belfast = 518\n",
    "Dublin to Belfast = 141\"\"\")"
   ]
  },
  {
   "cell_type": "code",
   "execution_count": 39,
   "metadata": {},
   "outputs": [
    {
     "data": {
      "text/plain": [
       "({'AlphaCentauri',\n",
       "  'Arbre',\n",
       "  'Faerun',\n",
       "  'Norrath',\n",
       "  'Snowdin',\n",
       "  'Straylight',\n",
       "  'Tambi',\n",
       "  'Tristram'},\n",
       " {('Tristram', 'AlphaCentauri'): 34,\n",
       "  ('AlphaCentauri', 'Tristram'): 34,\n",
       "  ('Tristram', 'Snowdin'): 100,\n",
       "  ('Snowdin', 'Tristram'): 100,\n",
       "  ('Tristram', 'Tambi'): 63,\n",
       "  ('Tambi', 'Tristram'): 63,\n",
       "  ('Tristram', 'Faerun'): 108,\n",
       "  ('Faerun', 'Tristram'): 108,\n",
       "  ('Tristram', 'Norrath'): 111,\n",
       "  ('Norrath', 'Tristram'): 111,\n",
       "  ('Tristram', 'Straylight'): 89,\n",
       "  ('Straylight', 'Tristram'): 89,\n",
       "  ('Tristram', 'Arbre'): 132,\n",
       "  ('Arbre', 'Tristram'): 132,\n",
       "  ('AlphaCentauri', 'Snowdin'): 4,\n",
       "  ('Snowdin', 'AlphaCentauri'): 4,\n",
       "  ('AlphaCentauri', 'Tambi'): 79,\n",
       "  ('Tambi', 'AlphaCentauri'): 79,\n",
       "  ('AlphaCentauri', 'Faerun'): 44,\n",
       "  ('Faerun', 'AlphaCentauri'): 44,\n",
       "  ('AlphaCentauri', 'Norrath'): 147,\n",
       "  ('Norrath', 'AlphaCentauri'): 147,\n",
       "  ('AlphaCentauri', 'Straylight'): 133,\n",
       "  ('Straylight', 'AlphaCentauri'): 133,\n",
       "  ('AlphaCentauri', 'Arbre'): 74,\n",
       "  ('Arbre', 'AlphaCentauri'): 74,\n",
       "  ('Snowdin', 'Tambi'): 105,\n",
       "  ('Tambi', 'Snowdin'): 105,\n",
       "  ('Snowdin', 'Faerun'): 95,\n",
       "  ('Faerun', 'Snowdin'): 95,\n",
       "  ('Snowdin', 'Norrath'): 48,\n",
       "  ('Norrath', 'Snowdin'): 48,\n",
       "  ('Snowdin', 'Straylight'): 88,\n",
       "  ('Straylight', 'Snowdin'): 88,\n",
       "  ('Snowdin', 'Arbre'): 7,\n",
       "  ('Arbre', 'Snowdin'): 7,\n",
       "  ('Tambi', 'Faerun'): 68,\n",
       "  ('Faerun', 'Tambi'): 68,\n",
       "  ('Tambi', 'Norrath'): 134,\n",
       "  ('Norrath', 'Tambi'): 134,\n",
       "  ('Tambi', 'Straylight'): 107,\n",
       "  ('Straylight', 'Tambi'): 107,\n",
       "  ('Tambi', 'Arbre'): 40,\n",
       "  ('Arbre', 'Tambi'): 40,\n",
       "  ('Faerun', 'Norrath'): 11,\n",
       "  ('Norrath', 'Faerun'): 11,\n",
       "  ('Faerun', 'Straylight'): 66,\n",
       "  ('Straylight', 'Faerun'): 66,\n",
       "  ('Faerun', 'Arbre'): 144,\n",
       "  ('Arbre', 'Faerun'): 144,\n",
       "  ('Norrath', 'Straylight'): 115,\n",
       "  ('Straylight', 'Norrath'): 115,\n",
       "  ('Norrath', 'Arbre'): 135,\n",
       "  ('Arbre', 'Norrath'): 135,\n",
       "  ('Straylight', 'Arbre'): 127,\n",
       "  ('Arbre', 'Straylight'): 127})"
      ]
     },
     "execution_count": 39,
     "metadata": {},
     "output_type": "execute_result"
    }
   ],
   "source": [
    "villes_puzzle, dist_puzzle = construct_dist_matrix(puzzle_input)\n",
    "villes_puzzle, dist_puzzle"
   ]
  },
  {
   "cell_type": "code",
   "execution_count": 40,
   "metadata": {},
   "outputs": [
    {
     "data": {
      "text/plain": [
       "605"
      ]
     },
     "execution_count": 40,
     "metadata": {},
     "output_type": "execute_result"
    }
   ],
   "source": [
    "import heapq\n",
    "\n",
    "def best_road(villes, distances_matrix):\n",
    "\n",
    "    # Initialisation\n",
    "    distances = []\n",
    "\n",
    "    villes_non_visites = tuple(villes)\n",
    "    for i, v in enumerate(villes_non_visites):\n",
    "        heapq.heappush(distances, (0, v, villes_non_visites[:i] + villes_non_visites[i+1:]))\n",
    "\n",
    "    while True:\n",
    "        dist, origine, villes_non_visites = heapq.heappop(distances)\n",
    "\n",
    "        if not villes_non_visites:\n",
    "            return dist\n",
    "\n",
    "        for i, destination in enumerate(villes_non_visites):\n",
    "            heapq.heappush(\n",
    "                distances, \n",
    "                (   \n",
    "                    dist + distances_matrix[(origine, destination)], \n",
    "                    destination, \n",
    "                    villes_non_visites[:i] + villes_non_visites[i+1:]\n",
    "                )\n",
    "            )\n",
    "\n",
    "\n",
    "best_road(villes_example, dist_example)"
   ]
  },
  {
   "cell_type": "code",
   "execution_count": 41,
   "metadata": {},
   "outputs": [
    {
     "data": {
      "text/plain": [
       "251"
      ]
     },
     "execution_count": 41,
     "metadata": {},
     "output_type": "execute_result"
    }
   ],
   "source": [
    "best_road(villes_puzzle, dist_puzzle)"
   ]
  },
  {
   "cell_type": "code",
   "execution_count": 47,
   "metadata": {},
   "outputs": [
    {
     "data": {
      "text/plain": [
       "(982, ('Belfast', 'London', 'Dublin'))"
      ]
     },
     "execution_count": 47,
     "metadata": {},
     "output_type": "execute_result"
    }
   ],
   "source": [
    "# On peut pas généraliser la première méthode pour un calcul efficace dans le cas du chemin le plus long ? \n",
    "#\n",
    "# La condition d'arrêt est que la liste des villes restantes est vide. On est assuré d'avoir le chemin le plus\n",
    "# court dans la première partie car un la distance est croissante et que l'on prend toujours la plus petite distance\n",
    "# mais dans le cas du chemin le plus long l'astuce ne fonctionne plus.\n",
    "\n",
    "def worst_road(villes, distances_matrix):\n",
    "\n",
    "    # Initialisation\n",
    "    distances = []\n",
    "\n",
    "    villes_non_visites = tuple(villes)\n",
    "    for i, v in enumerate(villes_non_visites):\n",
    "        heapq.heappush(distances, (1, 0, (v, ), villes_non_visites[:i] + villes_non_visites[i+1:]))\n",
    "\n",
    "    while True:\n",
    "        len_chemin, dist, chemin, villes_non_visites = heapq.heappop(distances)\n",
    "\n",
    "        if not villes_non_visites:\n",
    "            return (-dist, chemin)\n",
    "\n",
    "        for i, destination in enumerate(villes_non_visites):\n",
    "            heapq.heappush(\n",
    "                distances, \n",
    "                (   \n",
    "                    len_chemin + 1,\n",
    "                    dist - distances_matrix[(chemin[-1], destination)], \n",
    "                    chemin + (destination,), \n",
    "                    villes_non_visites[:i] + villes_non_visites[i+1:]\n",
    "                )\n",
    "            )\n",
    "\n",
    "worst_road(villes_example, dist_example)"
   ]
  },
  {
   "cell_type": "code",
   "execution_count": 48,
   "metadata": {},
   "outputs": [
    {
     "data": {
      "text/plain": [
       "(898,\n",
       " ('Snowdin',\n",
       "  'Tambi',\n",
       "  'Norrath',\n",
       "  'AlphaCentauri',\n",
       "  'Straylight',\n",
       "  'Arbre',\n",
       "  'Faerun',\n",
       "  'Tristram'))"
      ]
     },
     "execution_count": 48,
     "metadata": {},
     "output_type": "execute_result"
    }
   ],
   "source": [
    "worst_road(villes_puzzle, dist_puzzle)"
   ]
  },
  {
   "cell_type": "code",
   "execution_count": 43,
   "metadata": {},
   "outputs": [
    {
     "data": {
      "text/plain": [
       "(982, ('Dublin', 'London', 'Belfast'))"
      ]
     },
     "execution_count": 43,
     "metadata": {},
     "output_type": "execute_result"
    }
   ],
   "source": [
    "from itertools import permutations\n",
    "\n",
    "def worst_worst_road(villes, distances_matrix):\n",
    "    max_p = 0\n",
    "    argmax_p = None\n",
    "    for p in permutations(villes):\n",
    "        dist = sum(map(lambda x, y : distances_matrix[(x, y)], p, p[1:]))\n",
    "        if dist > max_p:\n",
    "            max_p, argmax_p = dist, p\n",
    "    return max_p, argmax_p\n",
    "\n",
    "worst_worst_road(villes_example, dist_example)"
   ]
  },
  {
   "cell_type": "code",
   "execution_count": 44,
   "metadata": {},
   "outputs": [
    {
     "data": {
      "text/plain": [
       "(898,\n",
       " ('Snowdin',\n",
       "  'Tambi',\n",
       "  'Norrath',\n",
       "  'AlphaCentauri',\n",
       "  'Straylight',\n",
       "  'Arbre',\n",
       "  'Faerun',\n",
       "  'Tristram'))"
      ]
     },
     "execution_count": 44,
     "metadata": {},
     "output_type": "execute_result"
    }
   ],
   "source": [
    "worst_worst_road(villes_puzzle, dist_puzzle)"
   ]
  }
 ],
 "metadata": {
  "kernelspec": {
   "display_name": "Python 3.10.7 ('.venv': venv)",
   "language": "python",
   "name": "python3"
  },
  "language_info": {
   "codemirror_mode": {
    "name": "ipython",
    "version": 3
   },
   "file_extension": ".py",
   "mimetype": "text/x-python",
   "name": "python",
   "nbconvert_exporter": "python",
   "pygments_lexer": "ipython3",
   "version": "3.10.7"
  },
  "orig_nbformat": 4,
  "vscode": {
   "interpreter": {
    "hash": "4f2642356d409a248ba2eb61e484e73059164c254bcfa507bf361b4c5067bddc"
   }
  }
 },
 "nbformat": 4,
 "nbformat_minor": 2
}
